{
 "cells": [
  {
   "cell_type": "code",
   "execution_count": 1,
   "metadata": {},
   "outputs": [],
   "source": [
    "import numpy as np\n",
    "import matplotlib.pyplot as plt\n",
    "import tensorflow as tf\n",
    "%matplotlib inline\n",
    "from sklearn.model_selection import train_test_split\n",
    "\n",
    "import os\n",
    "tf.logging.set_verbosity(tf.logging.INFO)"
   ]
  },
  {
   "cell_type": "markdown",
   "metadata": {},
   "source": [
    "# Load data"
   ]
  },
  {
   "cell_type": "code",
   "execution_count": 2,
   "metadata": {},
   "outputs": [],
   "source": [
    "filename = \"../data/test_gemini_BTCUSD_Close_3H_LWS3_IWS20_TrfRP.npz\""
   ]
  },
  {
   "cell_type": "code",
   "execution_count": 3,
   "metadata": {},
   "outputs": [
    {
     "data": {
      "text/plain": [
       "20"
      ]
     },
     "execution_count": 3,
     "metadata": {},
     "output_type": "execute_result"
    }
   ],
   "source": [
    "Image_window_size = np.int(filename[filename.find('_IWS') + 4 : filename.find(\"_Trf\")])\n",
    "Image_window_size"
   ]
  },
  {
   "cell_type": "code",
   "execution_count": 4,
   "metadata": {},
   "outputs": [],
   "source": [
    "data = np.load(filename)"
   ]
  },
  {
   "cell_type": "code",
   "execution_count": 5,
   "metadata": {},
   "outputs": [],
   "source": [
    "images = data['images']\n",
    "image_labels = data['image_labels']\n",
    "label_names = data['label_names']"
   ]
  },
  {
   "cell_type": "markdown",
   "metadata": {},
   "source": [
    "# Check data"
   ]
  },
  {
   "cell_type": "code",
   "execution_count": 6,
   "metadata": {},
   "outputs": [],
   "source": [
    "# for quick check: only 1000 images\n",
    "images = images[:1000]\n",
    "image_labels = image_labels[:1000]"
   ]
  },
  {
   "cell_type": "code",
   "execution_count": 7,
   "metadata": {},
   "outputs": [
    {
     "data": {
      "text/plain": [
       "(1000, 19, 19)"
      ]
     },
     "execution_count": 7,
     "metadata": {},
     "output_type": "execute_result"
    }
   ],
   "source": [
    "images.shape"
   ]
  },
  {
   "cell_type": "code",
   "execution_count": 8,
   "metadata": {},
   "outputs": [
    {
     "data": {
      "text/plain": [
       "(1000, 3)"
      ]
     },
     "execution_count": 8,
     "metadata": {},
     "output_type": "execute_result"
    }
   ],
   "source": [
    "image_labels.shape"
   ]
  },
  {
   "cell_type": "code",
   "execution_count": 9,
   "metadata": {},
   "outputs": [
    {
     "name": "stdout",
     "output_type": "stream",
     "text": [
      "max: 1.0; min: 0.0\n"
     ]
    }
   ],
   "source": [
    "print(\"max: {}; min: {}\".format(np.amax(images), np.amin(images)))"
   ]
  },
  {
   "cell_type": "code",
   "execution_count": 10,
   "metadata": {},
   "outputs": [
    {
     "data": {
      "text/plain": [
       "{2: 'Sell', 0: 'Buy', 1: 'Hold'}"
      ]
     },
     "execution_count": 10,
     "metadata": {},
     "output_type": "execute_result"
    }
   ],
   "source": [
    "label_names = label_names.item()\n",
    "label_names"
   ]
  },
  {
   "cell_type": "markdown",
   "metadata": {},
   "source": [
    "## e.g.:"
   ]
  },
  {
   "cell_type": "code",
   "execution_count": 11,
   "metadata": {},
   "outputs": [
    {
     "data": {
      "image/png": "[encoded data removed]",
      "text/plain": [
       "<Figure size 432x288 with 1 Axes>"
      ]
     },
     "metadata": {
      "needs_background": "light"
     },
     "output_type": "display_data"
    },
    {
     "data": {
      "image/png": "[encoded data removed]",
      "text/plain": [
       "<Figure size 432x288 with 1 Axes>"
      ]
     },
     "metadata": {
      "needs_background": "light"
     },
     "output_type": "display_data"
    }
   ],
   "source": [
    "for idx, image in enumerate(images[:2]):\n",
    "    plt.imshow(image, cmap = \"Greys\")\n",
    "    plt.title(label_names[np.int(np.argwhere(image_labels[idx]))])\n",
    "    plt.show()"
   ]
  },
  {
   "cell_type": "markdown",
   "metadata": {},
   "source": [
    "# Train - test split without overlap"
   ]
  },
  {
   "cell_type": "code",
   "execution_count": 12,
   "metadata": {},
   "outputs": [],
   "source": [
    "images_train, images_test, image_labels_train, image_labels_test = train_test_split(images, \n",
    "                                                                                    image_labels, \n",
    "                                                                                    test_size = .2, \n",
    "                                                                                    random_state = 22\n",
    "                                                                                   )"
   ]
  },
  {
   "cell_type": "markdown",
   "metadata": {},
   "source": [
    "## We need to get rid of the first (Image Window Size -1) test data to avoid lookahead bias."
   ]
  },
  {
   "cell_type": "code",
   "execution_count": 13,
   "metadata": {},
   "outputs": [],
   "source": [
    "images_test = images_test[(Image_window_size-1):]\n",
    "image_labels_test = image_labels_test[(Image_window_size-1):]"
   ]
  },
  {
   "cell_type": "code",
   "execution_count": 14,
   "metadata": {
    "scrolled": true
   },
   "outputs": [
    {
     "name": "stdout",
     "output_type": "stream",
     "text": [
      "Train images shape : (800, 19, 19); Train labels shape : (800, 3)\n"
     ]
    }
   ],
   "source": [
    "print(\"Train images shape : {}; Train labels shape : {}\".format(images_train.shape, image_labels_train.shape))"
   ]
  },
  {
   "cell_type": "code",
   "execution_count": 15,
   "metadata": {},
   "outputs": [
    {
     "name": "stdout",
     "output_type": "stream",
     "text": [
      "Test images shape : (181, 19, 19); Test labels shape : (181, 3)\n"
     ]
    }
   ],
   "source": [
    "print(\"Test images shape : {}; Test labels shape : {}\".format(images_test.shape, image_labels_test.shape))"
   ]
  },
  {
   "cell_type": "markdown",
   "metadata": {},
   "source": [
    "# Reshape"
   ]
  },
  {
   "cell_type": "code",
   "execution_count": 16,
   "metadata": {},
   "outputs": [],
   "source": [
    "images_test = images_test.reshape(-1, images_test.shape[1], images_test.shape[2] , 1)\n",
    "images_train = images_train.reshape(-1, images_train.shape[1], images_train.shape[2] , 1)"
   ]
  },
  {
   "cell_type": "code",
   "execution_count": 17,
   "metadata": {
    "scrolled": true
   },
   "outputs": [
    {
     "name": "stdout",
     "output_type": "stream",
     "text": [
      "Train images shape : (800, 19, 19, 1); Train labels shape : (800, 3)\n"
     ]
    }
   ],
   "source": [
    "print(\"Train images shape : {}; Train labels shape : {}\".format(images_train.shape, image_labels_train.shape))"
   ]
  },
  {
   "cell_type": "code",
   "execution_count": 18,
   "metadata": {},
   "outputs": [
    {
     "name": "stdout",
     "output_type": "stream",
     "text": [
      "Test images shape : (181, 19, 19, 1); Test labels shape : (181, 3)\n"
     ]
    }
   ],
   "source": [
    "print(\"Test images shape : {}; Test labels shape : {}\".format(images_test.shape, image_labels_test.shape))"
   ]
  },
  {
   "cell_type": "markdown",
   "metadata": {},
   "source": [
    "# The Deep CNN"
   ]
  },
  {
   "cell_type": "markdown",
   "metadata": {},
   "source": [
    "## Hyperparameter settings"
   ]
  },
  {
   "cell_type": "code",
   "execution_count": 19,
   "metadata": {},
   "outputs": [],
   "source": [
    "training_iters = 200\n",
    "learning_rate = 0.001\n",
    "batch_size = 128"
   ]
  },
  {
   "cell_type": "markdown",
   "metadata": {},
   "source": [
    "### Network Parameters"
   ]
  },
  {
   "cell_type": "code",
   "execution_count": 20,
   "metadata": {},
   "outputs": [],
   "source": [
    "# image shape (d x d)\n",
    "n_input = images_train.shape[1]\n",
    "\n",
    "# number of classes\n",
    "n_classes =  image_labels_train.shape[1]\n",
    "\n",
    "# dropout\n",
    "dropout = 0.8 # prob. to keep "
   ]
  },
  {
   "cell_type": "code",
   "execution_count": 21,
   "metadata": {},
   "outputs": [],
   "source": [
    "# placeholders float type\n",
    "#input placeholder\n",
    "x = tf.placeholder(\"float\", [None, n_input, n_input, 1])\n",
    "\n",
    "# output placeholder\n",
    "y = tf.placeholder(\"float\", [None, n_classes])\n",
    "\n",
    "# dropout\n",
    "keep_prob = tf.placeholder(tf.float32)"
   ]
  },
  {
   "cell_type": "markdown",
   "metadata": {},
   "source": [
    "### Wrappers"
   ]
  },
  {
   "cell_type": "markdown",
   "metadata": {},
   "source": [
    "Because using conv layer multiple times, we define it as a function (strides should be 1 for the first because it is the image number, the last should be one, because the gray scale image is only one channel)"
   ]
  },
  {
   "cell_type": "code",
   "execution_count": 22,
   "metadata": {},
   "outputs": [],
   "source": [
    "def conv2d(x, W, b, strides = 1):\n",
    "    # Conv2D wrapper, with bias and relu activation\n",
    "    x = tf.nn.conv2d(x, W, strides =[1, strides, strides, 1], padding = 'SAME')\n",
    "    x = tf.nn.bias_add(x, b)\n",
    "    return tf.nn.relu(x) # activation ReLu"
   ]
  },
  {
   "cell_type": "code",
   "execution_count": 23,
   "metadata": {},
   "outputs": [],
   "source": [
    "def maxpool2d(x, k=2):\n",
    "    return tf.nn.max_pool(x, ksize = [1, k, k, 1], strides = [1, k, k, 1], padding = 'SAME')"
   ]
  },
  {
   "cell_type": "code",
   "execution_count": 24,
   "metadata": {},
   "outputs": [],
   "source": [
    "def avgpool2d(x, k = 2):\n",
    "    return tf.nn.avg_pool(x, ksize = [1, k, k, 1], strides = [1, k, k, 1], padding = 'SAME')"
   ]
  },
  {
   "cell_type": "markdown",
   "metadata": {},
   "source": [
    "### Initialization of weights, biases"
   ]
  },
  {
   "cell_type": "markdown",
   "metadata": {},
   "source": [
    "Xavier initialization: Xavier Glorot & Yoshua Bengio (2010), designed to keep the scale of the gradients roughly the same in all layers."
   ]
  },
  {
   "cell_type": "code",
   "execution_count": 25,
   "metadata": {},
   "outputs": [
    {
     "name": "stdout",
     "output_type": "stream",
     "text": [
      "\n",
      "WARNING: The TensorFlow contrib module will not be included in TensorFlow 2.0.\n",
      "For more information, please see:\n",
      "  * https://github.com/tensorflow/community/blob/master/rfcs/20180907-contrib-sunset.md\n",
      "  * https://github.com/tensorflow/addons\n",
      "If you depend on functionality not listed there, please file an issue.\n",
      "\n",
      "WARNING:tensorflow:From C:\\Users\\Corvinus\\Anaconda3\\lib\\site-packages\\tensorflow\\python\\framework\\op_def_library.py:263: colocate_with (from tensorflow.python.framework.ops) is deprecated and will be removed in a future version.\n",
      "Instructions for updating:\n",
      "Colocations handled automatically by placer.\n"
     ]
    }
   ],
   "source": [
    "weights = {\n",
    "    'wc1' : tf.get_variable('W0', shape = (3, 3, 1, 32), initializer=tf.contrib.layers.xavier_initializer()),\n",
    "    'wc2' : tf.get_variable('W1', shape = (3, 3, 32, 64), initializer=tf.contrib.layers.xavier_initializer()),\n",
    "    'wc3' : tf.get_variable('W2', shape = (3, 3, 64, 128), initializer=tf.contrib.layers.xavier_initializer()),\n",
    "    'wd1' : tf.get_variable('W3', shape = (3*3*128, 128), initializer=tf.contrib.layers.xavier_initializer()),\n",
    "    'out' : tf.get_variable('W4', shape = (128, n_classes), initializer=tf.contrib.layers.xavier_initializer())\n",
    "}\n",
    "\n",
    "biases = {\n",
    "    'bc1' : tf.get_variable('B0', shape = (32), initializer=tf.contrib.layers.xavier_initializer()),\n",
    "    'bc2' : tf.get_variable('B1', shape = (64), initializer=tf.contrib.layers.xavier_initializer()),\n",
    "    'bc3' : tf.get_variable('B2', shape = (128), initializer=tf.contrib.layers.xavier_initializer()),\n",
    "    'bd1' : tf.get_variable('B3', shape = (128), initializer=tf.contrib.layers.xavier_initializer()),\n",
    "    'out' : tf.get_variable('B4', shape = (n_classes), initializer=tf.contrib.layers.xavier_initializer())\n",
    "}"
   ]
  },
  {
   "cell_type": "markdown",
   "metadata": {},
   "source": [
    "### Network Build"
   ]
  },
  {
   "cell_type": "code",
   "execution_count": 26,
   "metadata": {},
   "outputs": [],
   "source": [
    "def conv_net(x, weights, biases, dropout):\n",
    "    # here we call conv2d fct. and pass input image x, weights wc1, bias bc1\n",
    "    conv1 = conv2d(x, weights['wc1'], biases['bc1'])\n",
    "    # Avg. pooling (down-sampling), this chooses the avg value of a 2*2 matrix window and outputs a 10*10 matrix (ceil(image_size/2))\n",
    "    conv1 = avgpool2d(conv1, k = 2) # could be maxpooling\n",
    "    \n",
    "    # Convolution layer\n",
    "    \n",
    "    # call conv2d, pass input conv1, weights wc2, biases bc2\n",
    "    conv2 = conv2d(conv1, weights['wc2'], biases['bc2'])\n",
    "    # Avg. pooling (down-sampling), this chooses the avg value of a 2*2 matrix window and outputs a ceil(conv1_len/2) * ceil(conv1_len/2)  matrix\n",
    "    conv2 = avgpool2d(conv2, k = 2)\n",
    "    \n",
    "    conv3 = conv2d(conv2, weights['wc3'], biases['bc3'])\n",
    "    # Avg. pooling (down-sampling), this chooses the avg value of a 2*2 matrix window and outputs a ceil(conv2_len/2)*ceil(conv2_len/2) matrix\n",
    "    conv3 = avgpool2d(conv3, k = 2)\n",
    "    \n",
    "    \n",
    "    # Fully Connected Layer (Dense)\n",
    "    # REshape conv3 output to fit fully connected layer input\n",
    "    fc1 = tf.reshape(conv3, [-1, weights['wd1'].get_shape().as_list()[0]])\n",
    "    fc1 = tf.add(tf.matmul(fc1, weights['wd1']), biases['bd1'])\n",
    "    fc1 = tf.nn.relu(fc1)\n",
    "    \n",
    "     # Apply Dropout\n",
    "    fc1 = tf.nn.dropout(fc1, dropout)\n",
    "    \n",
    "    # Output, class prediction\n",
    "    # finally we multiply the fully connected layer with the weights and bias term for the out\n",
    "    out = tf.add(tf.matmul(fc1, weights['out']), biases['out'])\n",
    "    \n",
    "    return out"
   ]
  },
  {
   "cell_type": "markdown",
   "metadata": {},
   "source": [
    "### Loss and Optimizer Nodes"
   ]
  },
  {
   "cell_type": "markdown",
   "metadata": {},
   "source": [
    "Loss funciton here is cross entropy, with the reasoning that it's a fitting loss function due to always being positive and tending towards zero if the neuron gets better in guessing the right label and because it recovers faster from wrong intializations and the learning doesnt slow down\n",
    "\n",
    "Avg. loss over batches to get a  single loss - maybe weighted"
   ]
  },
  {
   "cell_type": "code",
   "execution_count": 27,
   "metadata": {},
   "outputs": [
    {
     "name": "stdout",
     "output_type": "stream",
     "text": [
      "WARNING:tensorflow:From <ipython-input-26-c1cfd6889586>:26: calling dropout (from tensorflow.python.ops.nn_ops) with keep_prob is deprecated and will be removed in a future version.\n",
      "Instructions for updating:\n",
      "Please use `rate` instead of `keep_prob`. Rate should be set to `rate = 1 - keep_prob`.\n"
     ]
    }
   ],
   "source": [
    "pred = conv_net(x, weights, biases, keep_prob)\n",
    "\n",
    "cost = tf.reduce_mean(tf.nn.softmax_cross_entropy_with_logits_v2(logits = pred, labels = y))\n",
    "\n",
    "optimizer = tf.train.AdamOptimizer(learning_rate = learning_rate).minimize(cost)"
   ]
  },
  {
   "cell_type": "markdown",
   "metadata": {},
   "source": [
    "### Evaluate Model Node"
   ]
  },
  {
   "cell_type": "markdown",
   "metadata": {},
   "source": [
    "U can save a graph and run testing on it later\n",
    "\n",
    "ACCURACY CAN BE CHANGED TO OTHER MEASURE LATER"
   ]
  },
  {
   "cell_type": "code",
   "execution_count": 28,
   "metadata": {},
   "outputs": [],
   "source": [
    "# Check wether the index of the maximum value of the predicted image is equal to the actual labelled image - both will be a column vector\n",
    "correct_prediction = tf.equal(tf.argmax(pred, 1), tf.argmax(y, 1))\n",
    "\n",
    "# Calculate accuracy across all given images and average them\n",
    "accuracy = tf.reduce_mean(tf.cast(correct_prediction, tf.float32))"
   ]
  },
  {
   "cell_type": "code",
   "execution_count": 29,
   "metadata": {},
   "outputs": [],
   "source": [
    "# Initializing the vars\n",
    "init = tf.global_variables_initializer()"
   ]
  },
  {
   "cell_type": "markdown",
   "metadata": {},
   "source": [
    "## Training and testing"
   ]
  },
  {
   "cell_type": "code",
   "execution_count": 30,
   "metadata": {},
   "outputs": [
    {
     "data": {
      "text/plain": [
       "7"
      ]
     },
     "execution_count": 30,
     "metadata": {},
     "output_type": "execute_result"
    }
   ],
   "source": [
    "np.int(np.ceil(len(images_train)/batch_size))"
   ]
  },
  {
   "cell_type": "code",
   "execution_count": 31,
   "metadata": {},
   "outputs": [
    {
     "name": "stdout",
     "output_type": "stream",
     "text": [
      "(128, 19, 19, 1) (128, 3)\n",
      "(128, 19, 19, 1) (128, 3)\n",
      "(128, 19, 19, 1) (128, 3)\n",
      "(128, 19, 19, 1) (128, 3)\n",
      "(128, 19, 19, 1) (128, 3)\n",
      "(128, 19, 19, 1) (128, 3)\n",
      "(32, 19, 19, 1) (32, 3)\n"
     ]
    }
   ],
   "source": [
    "for batch in range(np.int(np.ceil(len(images_train)/batch_size))):\n",
    "            batch_x = images_train[batch*batch_size:min((batch+1)*batch_size, len(images_train))]\n",
    "            batch_y = image_labels_train[batch*batch_size:min((batch+1)*batch_size, len(image_labels_train))]\n",
    "            \n",
    "            print(batch_x.shape, batch_y.shape)"
   ]
  },
  {
   "cell_type": "code",
   "execution_count": null,
   "metadata": {
    "scrolled": true
   },
   "outputs": [
    {
     "name": "stdout",
     "output_type": "stream",
     "text": [
      "Iter 0, Loss = 1.082297, Training Accuracy = 0.34375\n",
      "Optimization Finished!\n",
      "Testing Accuracy:  0.28177\n",
      "Iter 1, Loss = 1.103713, Training Accuracy = 0.40625\n",
      "Optimization Finished!\n",
      "Testing Accuracy:  0.50276\n",
      "Iter 2, Loss = 1.096647, Training Accuracy = 0.40625\n",
      "Optimization Finished!\n",
      "Testing Accuracy:  0.50276\n",
      "Iter 3, Loss = 1.091008, Training Accuracy = 0.40625\n",
      "Optimization Finished!\n",
      "Testing Accuracy:  0.50276\n",
      "Iter 4, Loss = 1.091119, Training Accuracy = 0.40625\n",
      "Optimization Finished!\n",
      "Testing Accuracy:  0.50276\n",
      "Iter 5, Loss = 1.092422, Training Accuracy = 0.40625\n",
      "Optimization Finished!\n",
      "Testing Accuracy:  0.50276\n",
      "Iter 6, Loss = 1.091262, Training Accuracy = 0.40625\n",
      "Optimization Finished!\n",
      "Testing Accuracy:  0.50276\n",
      "Iter 7, Loss = 1.091167, Training Accuracy = 0.40625\n",
      "Optimization Finished!\n",
      "Testing Accuracy:  0.50276\n",
      "Iter 8, Loss = 1.090894, Training Accuracy = 0.40625\n",
      "Optimization Finished!\n",
      "Testing Accuracy:  0.50276\n",
      "Iter 9, Loss = 1.091208, Training Accuracy = 0.40625\n",
      "Optimization Finished!\n",
      "Testing Accuracy:  0.50276\n",
      "Iter 10, Loss = 1.092137, Training Accuracy = 0.40625\n",
      "Optimization Finished!\n",
      "Testing Accuracy:  0.50276\n",
      "Iter 11, Loss = 1.090809, Training Accuracy = 0.40625\n",
      "Optimization Finished!\n",
      "Testing Accuracy:  0.50276\n",
      "Iter 12, Loss = 1.090593, Training Accuracy = 0.40625\n",
      "Optimization Finished!\n",
      "Testing Accuracy:  0.50276\n",
      "Iter 13, Loss = 1.091881, Training Accuracy = 0.40625\n",
      "Optimization Finished!\n",
      "Testing Accuracy:  0.50276\n",
      "Iter 14, Loss = 1.093347, Training Accuracy = 0.40625\n",
      "Optimization Finished!\n",
      "Testing Accuracy:  0.50276\n",
      "Iter 15, Loss = 1.093143, Training Accuracy = 0.40625\n",
      "Optimization Finished!\n",
      "Testing Accuracy:  0.50276\n",
      "Iter 16, Loss = 1.091136, Training Accuracy = 0.40625\n",
      "Optimization Finished!\n",
      "Testing Accuracy:  0.50276\n",
      "Iter 17, Loss = 1.091178, Training Accuracy = 0.40625\n",
      "Optimization Finished!\n",
      "Testing Accuracy:  0.50276\n",
      "Iter 18, Loss = 1.091678, Training Accuracy = 0.40625\n",
      "Optimization Finished!\n",
      "Testing Accuracy:  0.50276\n",
      "Iter 19, Loss = 1.089968, Training Accuracy = 0.40625\n",
      "Optimization Finished!\n",
      "Testing Accuracy:  0.50276\n",
      "Iter 20, Loss = 1.090367, Training Accuracy = 0.40625\n",
      "Optimization Finished!\n",
      "Testing Accuracy:  0.50276\n",
      "Iter 21, Loss = 1.092330, Training Accuracy = 0.40625\n",
      "Optimization Finished!\n",
      "Testing Accuracy:  0.50276\n",
      "Iter 22, Loss = 1.092227, Training Accuracy = 0.40625\n",
      "Optimization Finished!\n",
      "Testing Accuracy:  0.50276\n",
      "Iter 23, Loss = 1.089262, Training Accuracy = 0.40625\n",
      "Optimization Finished!\n",
      "Testing Accuracy:  0.50276\n",
      "Iter 24, Loss = 1.090502, Training Accuracy = 0.40625\n",
      "Optimization Finished!\n",
      "Testing Accuracy:  0.50276\n",
      "Iter 25, Loss = 1.090110, Training Accuracy = 0.40625\n",
      "Optimization Finished!\n",
      "Testing Accuracy:  0.50276\n",
      "Iter 26, Loss = 1.088687, Training Accuracy = 0.40625\n",
      "Optimization Finished!\n",
      "Testing Accuracy:  0.50276\n",
      "Iter 27, Loss = 1.090103, Training Accuracy = 0.40625\n",
      "Optimization Finished!\n",
      "Testing Accuracy:  0.50276\n",
      "Iter 28, Loss = 1.089293, Training Accuracy = 0.40625\n",
      "Optimization Finished!\n",
      "Testing Accuracy:  0.50276\n",
      "Iter 29, Loss = 1.090261, Training Accuracy = 0.40625\n",
      "Optimization Finished!\n",
      "Testing Accuracy:  0.50276\n",
      "Iter 30, Loss = 1.089767, Training Accuracy = 0.40625\n",
      "Optimization Finished!\n",
      "Testing Accuracy:  0.50276\n",
      "Iter 31, Loss = 1.087229, Training Accuracy = 0.40625\n",
      "Optimization Finished!\n",
      "Testing Accuracy:  0.50276\n",
      "Iter 32, Loss = 1.087106, Training Accuracy = 0.40625\n",
      "Optimization Finished!\n",
      "Testing Accuracy:  0.50276\n",
      "Iter 33, Loss = 1.087333, Training Accuracy = 0.40625\n",
      "Optimization Finished!\n",
      "Testing Accuracy:  0.50276\n",
      "Iter 34, Loss = 1.087191, Training Accuracy = 0.40625\n",
      "Optimization Finished!\n",
      "Testing Accuracy:  0.50276\n",
      "Iter 35, Loss = 1.088420, Training Accuracy = 0.40625\n",
      "Optimization Finished!\n",
      "Testing Accuracy:  0.50276\n",
      "Iter 36, Loss = 1.086331, Training Accuracy = 0.40625\n",
      "Optimization Finished!\n",
      "Testing Accuracy:  0.50276\n",
      "Iter 37, Loss = 1.088239, Training Accuracy = 0.40625\n",
      "Optimization Finished!\n",
      "Testing Accuracy:  0.50276\n",
      "Iter 38, Loss = 1.087201, Training Accuracy = 0.40625\n",
      "Optimization Finished!\n",
      "Testing Accuracy:  0.50276\n",
      "Iter 39, Loss = 1.086233, Training Accuracy = 0.40625\n",
      "Optimization Finished!\n",
      "Testing Accuracy:  0.50276\n",
      "Iter 40, Loss = 1.084696, Training Accuracy = 0.40625\n",
      "Optimization Finished!\n",
      "Testing Accuracy:  0.50276\n",
      "Iter 41, Loss = 1.081042, Training Accuracy = 0.40625\n",
      "Optimization Finished!\n",
      "Testing Accuracy:  0.50276\n",
      "Iter 42, Loss = 1.080225, Training Accuracy = 0.40625\n",
      "Optimization Finished!\n",
      "Testing Accuracy:  0.50276\n",
      "Iter 43, Loss = 1.080577, Training Accuracy = 0.40625\n",
      "Optimization Finished!\n",
      "Testing Accuracy:  0.50276\n",
      "Iter 44, Loss = 1.080415, Training Accuracy = 0.40625\n",
      "Optimization Finished!\n",
      "Testing Accuracy:  0.50276\n",
      "Iter 45, Loss = 1.078213, Training Accuracy = 0.40625\n",
      "Optimization Finished!\n",
      "Testing Accuracy:  0.50276\n",
      "Iter 46, Loss = 1.075607, Training Accuracy = 0.43750\n",
      "Optimization Finished!\n",
      "Testing Accuracy:  0.50276\n",
      "Iter 47, Loss = 1.075762, Training Accuracy = 0.43750\n",
      "Optimization Finished!\n",
      "Testing Accuracy:  0.50276\n",
      "Iter 48, Loss = 1.074497, Training Accuracy = 0.43750\n",
      "Optimization Finished!\n",
      "Testing Accuracy:  0.50276\n",
      "Iter 49, Loss = 1.072946, Training Accuracy = 0.43750\n",
      "Optimization Finished!\n",
      "Testing Accuracy:  0.50276\n",
      "Iter 50, Loss = 1.072632, Training Accuracy = 0.43750\n",
      "Optimization Finished!\n",
      "Testing Accuracy:  0.50276\n",
      "Iter 51, Loss = 1.071701, Training Accuracy = 0.43750\n",
      "Optimization Finished!\n",
      "Testing Accuracy:  0.50276\n",
      "Iter 52, Loss = 1.068680, Training Accuracy = 0.43750\n",
      "Optimization Finished!\n",
      "Testing Accuracy:  0.50276\n",
      "Iter 53, Loss = 1.064540, Training Accuracy = 0.43750\n",
      "Optimization Finished!\n",
      "Testing Accuracy:  0.50276\n",
      "Iter 54, Loss = 1.062491, Training Accuracy = 0.43750\n",
      "Optimization Finished!\n",
      "Testing Accuracy:  0.49724\n",
      "Iter 55, Loss = 1.063193, Training Accuracy = 0.43750\n",
      "Optimization Finished!\n",
      "Testing Accuracy:  0.49724\n",
      "Iter 56, Loss = 1.059870, Training Accuracy = 0.46875\n",
      "Optimization Finished!\n",
      "Testing Accuracy:  0.49171\n",
      "Iter 57, Loss = 1.058644, Training Accuracy = 0.46875\n",
      "Optimization Finished!\n",
      "Testing Accuracy:  0.48619\n",
      "Iter 58, Loss = 1.057789, Training Accuracy = 0.46875\n",
      "Optimization Finished!\n",
      "Testing Accuracy:  0.48619\n",
      "Iter 59, Loss = 1.054704, Training Accuracy = 0.46875\n",
      "Optimization Finished!\n",
      "Testing Accuracy:  0.48619\n",
      "Iter 60, Loss = 1.053192, Training Accuracy = 0.46875\n",
      "Optimization Finished!\n",
      "Testing Accuracy:  0.49171\n",
      "Iter 61, Loss = 1.052775, Training Accuracy = 0.46875\n",
      "Optimization Finished!\n",
      "Testing Accuracy:  0.49171\n",
      "Iter 62, Loss = 1.048752, Training Accuracy = 0.46875\n",
      "Optimization Finished!\n",
      "Testing Accuracy:  0.48619\n",
      "Iter 63, Loss = 1.049744, Training Accuracy = 0.46875\n",
      "Optimization Finished!\n",
      "Testing Accuracy:  0.49724\n",
      "Iter 64, Loss = 1.046276, Training Accuracy = 0.46875\n",
      "Optimization Finished!\n",
      "Testing Accuracy:  0.48619\n",
      "Iter 65, Loss = 1.040365, Training Accuracy = 0.43750\n",
      "Optimization Finished!\n",
      "Testing Accuracy:  0.49171\n",
      "Iter 66, Loss = 1.038664, Training Accuracy = 0.46875\n",
      "Optimization Finished!\n",
      "Testing Accuracy:  0.49171\n",
      "Iter 67, Loss = 1.037873, Training Accuracy = 0.50000\n",
      "Optimization Finished!\n",
      "Testing Accuracy:  0.48619\n",
      "Iter 68, Loss = 1.035555, Training Accuracy = 0.43750\n",
      "Optimization Finished!\n",
      "Testing Accuracy:  0.48619\n",
      "Iter 69, Loss = 1.032251, Training Accuracy = 0.50000\n",
      "Optimization Finished!\n",
      "Testing Accuracy:  0.48066\n",
      "Iter 70, Loss = 1.030074, Training Accuracy = 0.46875\n",
      "Optimization Finished!\n",
      "Testing Accuracy:  0.48066\n",
      "Iter 71, Loss = 1.026146, Training Accuracy = 0.46875\n",
      "Optimization Finished!\n",
      "Testing Accuracy:  0.48066\n",
      "Iter 72, Loss = 1.024905, Training Accuracy = 0.50000\n",
      "Optimization Finished!\n",
      "Testing Accuracy:  0.49171\n",
      "Iter 73, Loss = 1.023264, Training Accuracy = 0.43750\n",
      "Optimization Finished!\n",
      "Testing Accuracy:  0.49171\n",
      "Iter 74, Loss = 1.019962, Training Accuracy = 0.50000\n",
      "Optimization Finished!\n",
      "Testing Accuracy:  0.48066\n",
      "Iter 75, Loss = 1.017296, Training Accuracy = 0.46875\n",
      "Optimization Finished!\n",
      "Testing Accuracy:  0.48619\n",
      "Iter 76, Loss = 1.015292, Training Accuracy = 0.50000\n",
      "Optimization Finished!\n",
      "Testing Accuracy:  0.48619\n",
      "Iter 77, Loss = 1.009409, Training Accuracy = 0.50000\n",
      "Optimization Finished!\n",
      "Testing Accuracy:  0.48066\n",
      "Iter 78, Loss = 1.003798, Training Accuracy = 0.50000\n",
      "Optimization Finished!\n",
      "Testing Accuracy:  0.48619\n"
     ]
    },
    {
     "name": "stdout",
     "output_type": "stream",
     "text": [
      "Iter 79, Loss = 1.003558, Training Accuracy = 0.53125\n",
      "Optimization Finished!\n",
      "Testing Accuracy:  0.46961\n",
      "Iter 80, Loss = 0.999136, Training Accuracy = 0.46875\n",
      "Optimization Finished!\n",
      "Testing Accuracy:  0.48619\n",
      "Iter 81, Loss = 0.994671, Training Accuracy = 0.53125\n",
      "Optimization Finished!\n",
      "Testing Accuracy:  0.48066\n",
      "Iter 82, Loss = 0.994050, Training Accuracy = 0.53125\n",
      "Optimization Finished!\n",
      "Testing Accuracy:  0.47514\n",
      "Iter 83, Loss = 0.986476, Training Accuracy = 0.53125\n",
      "Optimization Finished!\n",
      "Testing Accuracy:  0.49171\n",
      "Iter 84, Loss = 0.979382, Training Accuracy = 0.50000\n",
      "Optimization Finished!\n",
      "Testing Accuracy:  0.48066\n",
      "Iter 85, Loss = 0.975697, Training Accuracy = 0.50000\n",
      "Optimization Finished!\n",
      "Testing Accuracy:  0.47514\n",
      "Iter 86, Loss = 0.974671, Training Accuracy = 0.53125\n",
      "Optimization Finished!\n",
      "Testing Accuracy:  0.48619\n",
      "Iter 87, Loss = 0.970445, Training Accuracy = 0.53125\n",
      "Optimization Finished!\n",
      "Testing Accuracy:  0.47514\n",
      "Iter 88, Loss = 0.962643, Training Accuracy = 0.50000\n",
      "Optimization Finished!\n",
      "Testing Accuracy:  0.48066\n",
      "Iter 89, Loss = 0.958300, Training Accuracy = 0.50000\n",
      "Optimization Finished!\n",
      "Testing Accuracy:  0.47514\n",
      "Iter 90, Loss = 0.961058, Training Accuracy = 0.53125\n",
      "Optimization Finished!\n",
      "Testing Accuracy:  0.48066\n",
      "Iter 91, Loss = 0.951580, Training Accuracy = 0.50000\n",
      "Optimization Finished!\n",
      "Testing Accuracy:  0.48619\n",
      "Iter 92, Loss = 0.947245, Training Accuracy = 0.50000\n",
      "Optimization Finished!\n",
      "Testing Accuracy:  0.48619\n",
      "Iter 93, Loss = 0.941739, Training Accuracy = 0.53125\n",
      "Optimization Finished!\n",
      "Testing Accuracy:  0.47514\n",
      "Iter 94, Loss = 0.938658, Training Accuracy = 0.50000\n",
      "Optimization Finished!\n",
      "Testing Accuracy:  0.47514\n",
      "Iter 95, Loss = 0.935655, Training Accuracy = 0.53125\n",
      "Optimization Finished!\n",
      "Testing Accuracy:  0.48066\n",
      "Iter 96, Loss = 0.934756, Training Accuracy = 0.53125\n",
      "Optimization Finished!\n",
      "Testing Accuracy:  0.48619\n",
      "Iter 97, Loss = 0.921957, Training Accuracy = 0.53125\n",
      "Optimization Finished!\n",
      "Testing Accuracy:  0.49171\n",
      "Iter 98, Loss = 0.911439, Training Accuracy = 0.53125\n",
      "Optimization Finished!\n",
      "Testing Accuracy:  0.48619\n",
      "Iter 99, Loss = 0.914411, Training Accuracy = 0.53125\n",
      "Optimization Finished!\n",
      "Testing Accuracy:  0.47514\n",
      "Iter 100, Loss = 0.905026, Training Accuracy = 0.53125\n",
      "Optimization Finished!\n",
      "Testing Accuracy:  0.48066\n",
      "Iter 101, Loss = 0.895153, Training Accuracy = 0.53125\n",
      "Optimization Finished!\n",
      "Testing Accuracy:  0.48619\n",
      "Iter 102, Loss = 0.885034, Training Accuracy = 0.56250\n",
      "Optimization Finished!\n",
      "Testing Accuracy:  0.46961\n",
      "Iter 103, Loss = 0.877406, Training Accuracy = 0.53125\n",
      "Optimization Finished!\n",
      "Testing Accuracy:  0.48619\n",
      "Iter 104, Loss = 0.879631, Training Accuracy = 0.53125\n",
      "Optimization Finished!\n",
      "Testing Accuracy:  0.48066\n",
      "Iter 105, Loss = 0.871097, Training Accuracy = 0.56250\n",
      "Optimization Finished!\n",
      "Testing Accuracy:  0.48066\n",
      "Iter 106, Loss = 0.869605, Training Accuracy = 0.53125\n",
      "Optimization Finished!\n",
      "Testing Accuracy:  0.49724\n",
      "Iter 107, Loss = 0.862452, Training Accuracy = 0.53125\n",
      "Optimization Finished!\n",
      "Testing Accuracy:  0.48066\n",
      "Iter 108, Loss = 0.861702, Training Accuracy = 0.56250\n",
      "Optimization Finished!\n",
      "Testing Accuracy:  0.49171\n",
      "Iter 109, Loss = 0.850554, Training Accuracy = 0.53125\n",
      "Optimization Finished!\n",
      "Testing Accuracy:  0.50276\n",
      "Iter 110, Loss = 0.842009, Training Accuracy = 0.62500\n",
      "Optimization Finished!\n",
      "Testing Accuracy:  0.47514\n",
      "Iter 111, Loss = 0.838091, Training Accuracy = 0.53125\n",
      "Optimization Finished!\n",
      "Testing Accuracy:  0.48619\n",
      "Iter 112, Loss = 0.835078, Training Accuracy = 0.53125\n",
      "Optimization Finished!\n",
      "Testing Accuracy:  0.48619\n",
      "Iter 113, Loss = 0.816093, Training Accuracy = 0.59375\n",
      "Optimization Finished!\n",
      "Testing Accuracy:  0.47514\n",
      "Iter 114, Loss = 0.806805, Training Accuracy = 0.62500\n",
      "Optimization Finished!\n",
      "Testing Accuracy:  0.46961\n",
      "Iter 115, Loss = 0.806982, Training Accuracy = 0.59375\n",
      "Optimization Finished!\n",
      "Testing Accuracy:  0.49171\n",
      "Iter 116, Loss = 0.800029, Training Accuracy = 0.62500\n",
      "Optimization Finished!\n",
      "Testing Accuracy:  0.48619\n",
      "Iter 117, Loss = 0.792112, Training Accuracy = 0.68750\n",
      "Optimization Finished!\n",
      "Testing Accuracy:  0.46409\n",
      "Iter 118, Loss = 0.797336, Training Accuracy = 0.65625\n",
      "Optimization Finished!\n",
      "Testing Accuracy:  0.48066\n",
      "Iter 119, Loss = 0.790243, Training Accuracy = 0.62500\n",
      "Optimization Finished!\n",
      "Testing Accuracy:  0.47514\n",
      "Iter 120, Loss = 0.782950, Training Accuracy = 0.62500\n",
      "Optimization Finished!\n",
      "Testing Accuracy:  0.49171\n",
      "Iter 121, Loss = 0.780786, Training Accuracy = 0.68750\n",
      "Optimization Finished!\n",
      "Testing Accuracy:  0.48619\n",
      "Iter 122, Loss = 0.769481, Training Accuracy = 0.68750\n",
      "Optimization Finished!\n",
      "Testing Accuracy:  0.45856\n",
      "Iter 123, Loss = 0.767901, Training Accuracy = 0.68750\n",
      "Optimization Finished!\n",
      "Testing Accuracy:  0.45856\n",
      "Iter 124, Loss = 0.774023, Training Accuracy = 0.68750\n",
      "Optimization Finished!\n",
      "Testing Accuracy:  0.46961\n",
      "Iter 125, Loss = 0.765268, Training Accuracy = 0.65625\n",
      "Optimization Finished!\n",
      "Testing Accuracy:  0.46409\n",
      "Iter 126, Loss = 0.752869, Training Accuracy = 0.68750\n",
      "Optimization Finished!\n",
      "Testing Accuracy:  0.45856\n",
      "Iter 127, Loss = 0.754274, Training Accuracy = 0.68750\n",
      "Optimization Finished!\n",
      "Testing Accuracy:  0.46961\n",
      "Iter 128, Loss = 0.748057, Training Accuracy = 0.65625\n",
      "Optimization Finished!\n",
      "Testing Accuracy:  0.44199\n",
      "Iter 129, Loss = 0.741912, Training Accuracy = 0.68750\n",
      "Optimization Finished!\n",
      "Testing Accuracy:  0.45856\n",
      "Iter 130, Loss = 0.731543, Training Accuracy = 0.68750\n",
      "Optimization Finished!\n",
      "Testing Accuracy:  0.44751\n",
      "Iter 131, Loss = 0.734817, Training Accuracy = 0.68750\n",
      "Optimization Finished!\n",
      "Testing Accuracy:  0.46409\n",
      "Iter 132, Loss = 0.722506, Training Accuracy = 0.65625\n",
      "Optimization Finished!\n",
      "Testing Accuracy:  0.46409\n",
      "Iter 133, Loss = 0.731384, Training Accuracy = 0.71875\n",
      "Optimization Finished!\n",
      "Testing Accuracy:  0.46961\n",
      "Iter 134, Loss = 0.723308, Training Accuracy = 0.71875\n",
      "Optimization Finished!\n",
      "Testing Accuracy:  0.46961\n",
      "Iter 135, Loss = 0.735458, Training Accuracy = 0.65625\n",
      "Optimization Finished!\n",
      "Testing Accuracy:  0.45856\n",
      "Iter 136, Loss = 0.723129, Training Accuracy = 0.71875\n",
      "Optimization Finished!\n",
      "Testing Accuracy:  0.45304\n",
      "Iter 137, Loss = 0.719538, Training Accuracy = 0.75000\n",
      "Optimization Finished!\n",
      "Testing Accuracy:  0.41436\n",
      "Iter 138, Loss = 0.704376, Training Accuracy = 0.71875\n",
      "Optimization Finished!\n",
      "Testing Accuracy:  0.45304\n",
      "Iter 139, Loss = 0.700673, Training Accuracy = 0.71875\n",
      "Optimization Finished!\n",
      "Testing Accuracy:  0.45856\n",
      "Iter 140, Loss = 0.710498, Training Accuracy = 0.68750\n",
      "Optimization Finished!\n",
      "Testing Accuracy:  0.46961\n",
      "Iter 141, Loss = 0.691739, Training Accuracy = 0.75000\n",
      "Optimization Finished!\n",
      "Testing Accuracy:  0.45304\n",
      "Iter 142, Loss = 0.687097, Training Accuracy = 0.75000\n",
      "Optimization Finished!\n",
      "Testing Accuracy:  0.45856\n",
      "Iter 143, Loss = 0.682065, Training Accuracy = 0.75000\n",
      "Optimization Finished!\n",
      "Testing Accuracy:  0.46409\n",
      "Iter 144, Loss = 0.681388, Training Accuracy = 0.75000\n",
      "Optimization Finished!\n",
      "Testing Accuracy:  0.46961\n",
      "Iter 145, Loss = 0.679733, Training Accuracy = 0.75000\n",
      "Optimization Finished!\n",
      "Testing Accuracy:  0.45856\n",
      "Iter 146, Loss = 0.675333, Training Accuracy = 0.75000\n",
      "Optimization Finished!\n",
      "Testing Accuracy:  0.46961\n",
      "Iter 147, Loss = 0.658874, Training Accuracy = 0.75000\n",
      "Optimization Finished!\n",
      "Testing Accuracy:  0.43646\n",
      "Iter 148, Loss = 0.656250, Training Accuracy = 0.75000\n",
      "Optimization Finished!\n",
      "Testing Accuracy:  0.45856\n",
      "Iter 149, Loss = 0.649446, Training Accuracy = 0.75000\n",
      "Optimization Finished!\n",
      "Testing Accuracy:  0.46961\n",
      "Iter 150, Loss = 0.649187, Training Accuracy = 0.75000\n",
      "Optimization Finished!\n",
      "Testing Accuracy:  0.45856\n",
      "Iter 151, Loss = 0.647535, Training Accuracy = 0.75000\n",
      "Optimization Finished!\n",
      "Testing Accuracy:  0.41436\n",
      "Iter 152, Loss = 0.654307, Training Accuracy = 0.75000\n",
      "Optimization Finished!\n",
      "Testing Accuracy:  0.46409\n",
      "Iter 153, Loss = 0.653427, Training Accuracy = 0.75000\n",
      "Optimization Finished!\n",
      "Testing Accuracy:  0.45304\n",
      "Iter 154, Loss = 0.643719, Training Accuracy = 0.75000\n",
      "Optimization Finished!\n",
      "Testing Accuracy:  0.44751\n",
      "Iter 155, Loss = 0.649427, Training Accuracy = 0.75000\n",
      "Optimization Finished!\n",
      "Testing Accuracy:  0.43094\n",
      "Iter 156, Loss = 0.644595, Training Accuracy = 0.78125\n",
      "Optimization Finished!\n",
      "Testing Accuracy:  0.37017\n",
      "Iter 157, Loss = 0.637228, Training Accuracy = 0.78125\n",
      "Optimization Finished!\n",
      "Testing Accuracy:  0.37017\n"
     ]
    },
    {
     "name": "stdout",
     "output_type": "stream",
     "text": [
      "Iter 158, Loss = 0.637625, Training Accuracy = 0.75000\n",
      "Optimization Finished!\n",
      "Testing Accuracy:  0.40884\n",
      "Iter 159, Loss = 0.672533, Training Accuracy = 0.75000\n",
      "Optimization Finished!\n",
      "Testing Accuracy:  0.40884\n",
      "Iter 160, Loss = 0.646249, Training Accuracy = 0.75000\n",
      "Optimization Finished!\n",
      "Testing Accuracy:  0.41989\n",
      "Iter 161, Loss = 0.646163, Training Accuracy = 0.75000\n",
      "Optimization Finished!\n",
      "Testing Accuracy:  0.46409\n",
      "Iter 162, Loss = 0.641787, Training Accuracy = 0.75000\n",
      "Optimization Finished!\n",
      "Testing Accuracy:  0.45856\n",
      "Iter 163, Loss = 0.623227, Training Accuracy = 0.75000\n",
      "Optimization Finished!\n",
      "Testing Accuracy:  0.44751\n",
      "Iter 164, Loss = 0.610325, Training Accuracy = 0.75000\n",
      "Optimization Finished!\n",
      "Testing Accuracy:  0.46961\n",
      "Iter 165, Loss = 0.591820, Training Accuracy = 0.75000\n",
      "Optimization Finished!\n",
      "Testing Accuracy:  0.44751\n",
      "Iter 166, Loss = 0.594964, Training Accuracy = 0.75000\n",
      "Optimization Finished!\n",
      "Testing Accuracy:  0.47514\n",
      "Iter 167, Loss = 0.591647, Training Accuracy = 0.75000\n",
      "Optimization Finished!\n",
      "Testing Accuracy:  0.44199\n",
      "Iter 168, Loss = 0.584361, Training Accuracy = 0.75000\n",
      "Optimization Finished!\n",
      "Testing Accuracy:  0.45304\n",
      "Iter 169, Loss = 0.575365, Training Accuracy = 0.75000\n",
      "Optimization Finished!\n",
      "Testing Accuracy:  0.45856\n",
      "Iter 170, Loss = 0.563691, Training Accuracy = 0.75000\n",
      "Optimization Finished!\n",
      "Testing Accuracy:  0.44199\n",
      "Iter 171, Loss = 0.573707, Training Accuracy = 0.75000\n",
      "Optimization Finished!\n",
      "Testing Accuracy:  0.47514\n",
      "Iter 172, Loss = 0.560312, Training Accuracy = 0.75000\n",
      "Optimization Finished!\n",
      "Testing Accuracy:  0.45304\n",
      "Iter 173, Loss = 0.554942, Training Accuracy = 0.75000\n",
      "Optimization Finished!\n",
      "Testing Accuracy:  0.46409\n",
      "Iter 174, Loss = 0.564705, Training Accuracy = 0.75000\n",
      "Optimization Finished!\n",
      "Testing Accuracy:  0.46961\n"
     ]
    }
   ],
   "source": [
    "with tf.Session() as sess:\n",
    "    sess.run(init)\n",
    "    train_loss = []\n",
    "    test_loss = []\n",
    "    train_accuracy = []\n",
    "    test_accuracy = []\n",
    "    summary_writer = tf.summary.FileWriter('./Output', sess.graph)\n",
    "    for i in range(training_iters):\n",
    "        for batch in range(np.int(np.ceil(len(images_train)/batch_size))):\n",
    "            batch_x = images_train[batch*batch_size : min((batch+1)*batch_size, len(images_train))]\n",
    "            batch_y = image_labels_train[batch*batch_size : min((batch+1)*batch_size, len(image_labels_train))]\n",
    "            \n",
    "            # Run optimization op (backprop)\n",
    "            # Calculate batch loss and accuracy\n",
    "            sess.run(optimizer, feed_dict = {x : batch_x, y : batch_y, keep_prob: dropout})\n",
    "            \n",
    "            loss, acc = sess.run([cost, accuracy], feed_dict = {x : batch_x,\n",
    "                                                                y : batch_y,\n",
    "                                                                keep_prob: 1.})\n",
    "        print(\"Iter \" + str(i) + \", Loss = \" + \\\n",
    "              \"{:.6f}\".format(loss) + \", Training Accuracy = \" + \\\n",
    "              \"{:.5f}\".format(acc)\n",
    "             )\n",
    "        print('Optimization Finished!')\n",
    "\n",
    "        # Calculate accuracy for all test images\n",
    "        test_acc, valid_loss = sess.run([accuracy, cost], feed_dict = {x : images_test,\n",
    "                                                                       y : image_labels_test,\n",
    "                                                                       keep_prob: 1.})\n",
    "        train_loss.append(loss)\n",
    "        test_loss.append(valid_loss)\n",
    "        train_accuracy.append(acc)\n",
    "        test_accuracy.append(test_acc)\n",
    "        print('Testing Accuracy: ', \"{:.5f}\".format(test_acc))\n",
    "    summary_writer.close()"
   ]
  }
 ],
 "metadata": {
  "kernelspec": {
   "display_name": "Python 3",
   "language": "python",
   "name": "python3"
  },
  "language_info": {
   "codemirror_mode": {
    "name": "ipython",
    "version": 3
   },
   "file_extension": ".py",
   "mimetype": "text/x-python",
   "name": "python",
   "nbconvert_exporter": "python",
   "pygments_lexer": "ipython3",
   "version": "3.7.1"
  }
 },
 "nbformat": 4,
 "nbformat_minor": 2
}
