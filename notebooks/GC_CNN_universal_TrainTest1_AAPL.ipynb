{
  "nbformat": 4,
  "nbformat_minor": 0,
  "metadata": {
    "colab": {
      "name": "CNN_universal_TrainTest1_AAPL.ipynb",
      "version": "0.3.2",
      "provenance": [],
      "collapsed_sections": [
        "kAf52xh9SmE_",
        "gHRxsdZPrTfY"
      ]
    },
    "language_info": {
      "codemirror_mode": {
        "name": "ipython",
        "version": 3
      },
      "file_extension": ".py",
      "mimetype": "text/x-python",
      "name": "python",
      "nbconvert_exporter": "python",
      "pygments_lexer": "ipython3",
      "version": "3.7.1"
    },
    "kernelspec": {
      "display_name": "Python 3",
      "language": "python",
      "name": "python3"
    }
  },
  "cells": [
    {
      "cell_type": "code",
      "metadata": {
        "id": "8Ym6foWJSmD7",
        "colab_type": "code",
        "colab": {
          "base_uri": "https://localhost:8080/",
          "height": 51
        },
        "outputId": "e31b835e-3b38-4b42-89fe-7224f01356a5"
      },
      "source": [
        "!pip install numpy==1.16.1\n",
        "import numpy as np\n",
        "import pandas as pd\n",
        "import matplotlib.pyplot as plt\n",
        "import seaborn as sn\n",
        "%matplotlib inline\n",
        "from sklearn.model_selection import TimeSeriesSplit\n",
        "from sklearn.utils import class_weight\n",
        "from sklearn.metrics import f1_score, confusion_matrix\n",
        "import time\n",
        "\n",
        "import tensorflow as tf\n",
        "from keras.models import Sequential\n",
        "from keras.layers import Dense, Conv2D, MaxPooling2D, Dropout, Flatten, AveragePooling2D, BatchNormalization\n",
        "from keras import regularizers"
      ],
      "execution_count": 1,
      "outputs": [
        {
          "output_type": "stream",
          "text": [
            "Requirement already satisfied: numpy==1.16.1 in /usr/local/lib/python3.6/dist-packages (1.16.1)\n"
          ],
          "name": "stdout"
        },
        {
          "output_type": "stream",
          "text": [
            "Using TensorFlow backend.\n"
          ],
          "name": "stderr"
        }
      ]
    },
    {
      "cell_type": "code",
      "metadata": {
        "id": "QAxro-G8Sq-s",
        "colab_type": "code",
        "outputId": "f4e6383a-00a7-420d-f0da-639eb70aa93e",
        "colab": {
          "base_uri": "https://localhost:8080/",
          "height": 34
        }
      },
      "source": [
        "from google.colab import drive\n",
        "drive.mount('/content/drive')"
      ],
      "execution_count": 2,
      "outputs": [
        {
          "output_type": "stream",
          "text": [
            "Drive already mounted at /content/drive; to attempt to forcibly remount, call drive.mount(\"/content/drive\", force_remount=True).\n"
          ],
          "name": "stdout"
        }
      ]
    },
    {
      "cell_type": "markdown",
      "metadata": {
        "id": "V1JfemSHSmEA",
        "colab_type": "text"
      },
      "source": [
        "# Load data"
      ]
    },
    {
      "cell_type": "code",
      "metadata": {
        "id": "YSU7KV-DSmEB",
        "colab_type": "code",
        "colab": {}
      },
      "source": [
        "train_filename = \"data_train_to2005/univ_train1_1B_ReturnTrue_LWS3_IWS25_Trf['RP', 'GADF', 'MTF'].npz\"\n",
        "test_filename = \"data_test_2008Dec_to_2009Dec/test2_AAPL_1B_ReturnTrue_LWS3_IWS25_Trf['RP', 'GADF', 'MTF'].npz\""
      ],
      "execution_count": 0,
      "outputs": []
    },
    {
      "cell_type": "markdown",
      "metadata": {
        "id": "iv13tTxfSmED",
        "colab_type": "text"
      },
      "source": [
        "### Image window sizes"
      ]
    },
    {
      "cell_type": "code",
      "metadata": {
        "id": "LoYxhjw5SmEE",
        "colab_type": "code",
        "outputId": "7b6c31c2-891a-476b-a14e-591d8a95bc55",
        "colab": {
          "base_uri": "https://localhost:8080/",
          "height": 34
        }
      },
      "source": [
        "Image_window_size = np.int(train_filename[train_filename.find('_IWS') + 4 : train_filename.find(\"_Trf\")])\n",
        "Image_window_size"
      ],
      "execution_count": 4,
      "outputs": [
        {
          "output_type": "execute_result",
          "data": {
            "text/plain": [
              "25"
            ]
          },
          "metadata": {
            "tags": []
          },
          "execution_count": 4
        }
      ]
    },
    {
      "cell_type": "markdown",
      "metadata": {
        "id": "hipHiKyQSmEH",
        "colab_type": "text"
      },
      "source": [
        "### Transformation types"
      ]
    },
    {
      "cell_type": "code",
      "metadata": {
        "id": "RFjP8w8cSmEI",
        "colab_type": "code",
        "outputId": "9ac936cf-a181-4878-ef66-02c846295914",
        "colab": {
          "base_uri": "https://localhost:8080/",
          "height": 34
        }
      },
      "source": [
        "Image_trf = eval(train_filename[train_filename.find('_Trf')+4:train_filename.find('.npz')])\n",
        "Image_trf"
      ],
      "execution_count": 5,
      "outputs": [
        {
          "output_type": "execute_result",
          "data": {
            "text/plain": [
              "['RP', 'GADF', 'MTF']"
            ]
          },
          "metadata": {
            "tags": []
          },
          "execution_count": 5
        }
      ]
    },
    {
      "cell_type": "code",
      "metadata": {
        "id": "h1k0ZJnKSmEL",
        "colab_type": "code",
        "outputId": "14bb549f-99d1-469e-8f7d-b08d0f511674",
        "colab": {
          "base_uri": "https://localhost:8080/",
          "height": 34
        }
      },
      "source": [
        "num_color_channels = len(Image_trf)\n",
        "num_color_channels"
      ],
      "execution_count": 6,
      "outputs": [
        {
          "output_type": "execute_result",
          "data": {
            "text/plain": [
              "3"
            ]
          },
          "metadata": {
            "tags": []
          },
          "execution_count": 6
        }
      ]
    },
    {
      "cell_type": "markdown",
      "metadata": {
        "id": "eTK7AVNHSmEO",
        "colab_type": "text"
      },
      "source": [
        "#### In case file is missing run the data-check-and-prep with preferred settings and use the new file's name (cannot upload too big files to Git)"
      ]
    },
    {
      "cell_type": "code",
      "metadata": {
        "id": "tW_ZDfwUSmEP",
        "colab_type": "code",
        "colab": {}
      },
      "source": [
        "data_train = np.load('/content/drive/My Drive/Colab Notebooks/CNN/' + train_filename)\n",
        "data_test = np.load('/content/drive/My Drive/Colab Notebooks/CNN/' + test_filename)"
      ],
      "execution_count": 0,
      "outputs": []
    },
    {
      "cell_type": "code",
      "metadata": {
        "id": "sg7LsI0RSmER",
        "colab_type": "code",
        "colab": {}
      },
      "source": [
        "images_train = data_train['images']\n",
        "images_test = data_test['images']\n",
        "image_labels_train = data_train['image_labels']\n",
        "image_labels_test = data_test['image_labels']\n",
        "train_prices = data_train['price_at_image']\n",
        "test_prices = data_test['price_at_image']\n",
        "\n",
        "label_names = data_train['label_names'] # same everywhere"
      ],
      "execution_count": 0,
      "outputs": []
    },
    {
      "cell_type": "markdown",
      "metadata": {
        "id": "O3OrEx_zSmET",
        "colab_type": "text"
      },
      "source": [
        "# Check data"
      ]
    },
    {
      "cell_type": "code",
      "metadata": {
        "id": "ULNsvkGsSmEZ",
        "colab_type": "code",
        "outputId": "7659a64d-34d3-4141-eb1c-36897aa66118",
        "colab": {
          "base_uri": "https://localhost:8080/",
          "height": 34
        }
      },
      "source": [
        "image_labels_train.shape"
      ],
      "execution_count": 9,
      "outputs": [
        {
          "output_type": "execute_result",
          "data": {
            "text/plain": [
              "(198047, 3)"
            ]
          },
          "metadata": {
            "tags": []
          },
          "execution_count": 9
        }
      ]
    },
    {
      "cell_type": "markdown",
      "metadata": {
        "id": "F31VJ5RrC1Vw",
        "colab_type": "text"
      },
      "source": [
        "Get label names array for later visualization"
      ]
    },
    {
      "cell_type": "code",
      "metadata": {
        "id": "HGeeH1XySmEf",
        "colab_type": "code",
        "outputId": "f6ab4f61-2f44-427c-9050-c6405d3148e6",
        "colab": {
          "base_uri": "https://localhost:8080/",
          "height": 34
        }
      },
      "source": [
        "label_names = label_names.item()\n",
        "label_names"
      ],
      "execution_count": 10,
      "outputs": [
        {
          "output_type": "execute_result",
          "data": {
            "text/plain": [
              "{0: 'Sell', 1: 'Buy', 2: 'Hold'}"
            ]
          },
          "metadata": {
            "tags": []
          },
          "execution_count": 10
        }
      ]
    },
    {
      "cell_type": "code",
      "metadata": {
        "id": "G8Ixy1QUp-CF",
        "colab_type": "code",
        "outputId": "d7ce0e6f-fc38-40bc-fe73-c08598d7c0f6",
        "colab": {
          "base_uri": "https://localhost:8080/",
          "height": 34
        }
      },
      "source": [
        "label_names_array = np.chararray(3, itemsize = 4).decode(\"utf-8\")\n",
        "\n",
        "for key, value in label_names.items():\n",
        "  label_names_array[key] = value\n",
        "label_names_array"
      ],
      "execution_count": 11,
      "outputs": [
        {
          "output_type": "execute_result",
          "data": {
            "text/plain": [
              "array(['Sell', 'Buy', 'Hold'], dtype='<U4')"
            ]
          },
          "metadata": {
            "tags": []
          },
          "execution_count": 11
        }
      ]
    },
    {
      "cell_type": "markdown",
      "metadata": {
        "id": "jAqAag9DSmEj",
        "colab_type": "text"
      },
      "source": [
        "## e.g.:"
      ]
    },
    {
      "cell_type": "code",
      "metadata": {
        "scrolled": false,
        "id": "TsHEife2SmEk",
        "colab_type": "code",
        "outputId": "a242f4ee-8296-4073-c262-03a1dc017769",
        "colab": {
          "base_uri": "https://localhost:8080/",
          "height": 1652
        }
      },
      "source": [
        "for trfidx, trf in enumerate(Image_trf):\n",
        "    print('Transformation type: ' + trf)\n",
        "    for idx, image in enumerate(images_train[:2,:,:, trfidx]):\n",
        "        plt.imshow(image, cmap = \"Greys\")\n",
        "        plt.title(label_names[np.int(np.argwhere(image_labels_train[idx]))])\n",
        "        plt.show()"
      ],
      "execution_count": 12,
      "outputs": [
        {
          "output_type": "stream",
          "text": [
            "Transformation type: RP\n"
          ],
          "name": "stdout"
        },
        {
          "output_type": "display_data",
          "data": {
            "image/png": "[encoded data removed]",
            "text/plain": [
              "<Figure size 432x288 with 1 Axes>"
            ]
          },
          "metadata": {
            "tags": []
          }
        },
        {
          "output_type": "display_data",
          "data": {
            "image/png": "[encoded data removed]",
            "text/plain": [
              "<Figure size 432x288 with 1 Axes>"
            ]
          },
          "metadata": {
            "tags": []
          }
        },
        {
          "output_type": "stream",
          "text": [
            "Transformation type: GADF\n"
          ],
          "name": "stdout"
        },
        {
          "output_type": "display_data",
          "data": {
            "image/png": "[encoded data removed]",
            "text/plain": [
              "<Figure size 432x288 with 1 Axes>"
            ]
          },
          "metadata": {
            "tags": []
          }
        },
        {
          "output_type": "display_data",
          "data": {
            "image/png": "[encoded data removed]",
            "text/plain": [
              "<Figure size 432x288 with 1 Axes>"
            ]
          },
          "metadata": {
            "tags": []
          }
        },
        {
          "output_type": "stream",
          "text": [
            "Transformation type: MTF\n"
          ],
          "name": "stdout"
        },
        {
          "output_type": "display_data",
          "data": {
            "image/png": "[encoded data removed]",
            "text/plain": [
              "<Figure size 432x288 with 1 Axes>"
            ]
          },
          "metadata": {
            "tags": []
          }
        },
        {
          "output_type": "display_data",
          "data": {
            "image/png": "[encoded data removed]",
            "text/plain": [
              "<Figure size 432x288 with 1 Axes>"
            ]
          },
          "metadata": {
            "tags": []
          }
        }
      ]
    },
    {
      "cell_type": "code",
      "metadata": {
        "scrolled": true,
        "id": "4CB0sqHLSmE6",
        "colab_type": "code",
        "outputId": "e848fec8-6020-4b81-9778-e8a29f3ffe07",
        "colab": {
          "base_uri": "https://localhost:8080/",
          "height": 34
        }
      },
      "source": [
        "print(\"Train images shape : {}; Train labels shape : {}\".format(images_train.shape, image_labels_train.shape))"
      ],
      "execution_count": 13,
      "outputs": [
        {
          "output_type": "stream",
          "text": [
            "Train images shape : (198047, 25, 25, 3); Train labels shape : (198047, 3)\n"
          ],
          "name": "stdout"
        }
      ]
    },
    {
      "cell_type": "code",
      "metadata": {
        "id": "oghRSsUySmE8",
        "colab_type": "code",
        "outputId": "06fa2cd6-8e3e-45b7-ee97-ba1afcb08858",
        "colab": {
          "base_uri": "https://localhost:8080/",
          "height": 34
        }
      },
      "source": [
        "print(\"Test images shape : {}; Test labels shape : {}\".format(images_test.shape, image_labels_test.shape))"
      ],
      "execution_count": 14,
      "outputs": [
        {
          "output_type": "stream",
          "text": [
            "Test images shape : (260, 25, 25, 3); Test labels shape : (260, 3)\n"
          ],
          "name": "stdout"
        }
      ]
    },
    {
      "cell_type": "markdown",
      "metadata": {
        "id": "I8k-HNpWdevi",
        "colab_type": "text"
      },
      "source": [
        "# Baseline predictions\n",
        "Choosing the biggest class to be the class of all"
      ]
    },
    {
      "cell_type": "code",
      "metadata": {
        "id": "JWLowmaQdckb",
        "colab_type": "code",
        "outputId": "475bc100-1f52-4d69-b0ea-49f408274d40",
        "colab": {
          "base_uri": "https://localhost:8080/",
          "height": 85
        }
      },
      "source": [
        "basepred = np.zeros(image_labels_test.shape)\n",
        "basepred[:, np.argmax(np.sum(image_labels_test, 0))] = 1.0\n",
        "\n",
        "base_acc = sum(np.equal(np.argmax(basepred, 1), np.argmax(image_labels_test, 1)))/np.sum(image_labels_test)\n",
        "base_f1 = f1_score(y_true = image_labels_test, y_pred = basepred, average = 'macro')\n",
        "# warning F1 due to only label 2 being predicted in baseline\n",
        "\n",
        "print(\"Accuracy: {:.5f}\".format(base_acc))\n",
        "\n",
        "print(\"F1 score: {:.5f}\".format(base_f1))"
      ],
      "execution_count": 15,
      "outputs": [
        {
          "output_type": "stream",
          "text": [
            "Accuracy: 0.52308\n",
            "F1 score: 0.22896\n"
          ],
          "name": "stdout"
        },
        {
          "output_type": "stream",
          "text": [
            "/usr/local/lib/python3.6/dist-packages/sklearn/metrics/classification.py:1437: UndefinedMetricWarning: F-score is ill-defined and being set to 0.0 in labels with no predicted samples.\n",
            "  'precision', 'predicted', average, warn_for)\n"
          ],
          "name": "stderr"
        }
      ]
    },
    {
      "cell_type": "markdown",
      "metadata": {
        "id": "DxLM7ScmSmE-",
        "colab_type": "text"
      },
      "source": [
        "# The Deep CNN"
      ]
    },
    {
      "cell_type": "markdown",
      "metadata": {
        "id": "kAf52xh9SmE_",
        "colab_type": "text"
      },
      "source": [
        "### Custom Keras Eval metrics: F1 Score\n",
        "\n",
        "https://www.kaggle.com/guglielmocamporese/macro-f1-score-keras"
      ]
    },
    {
      "cell_type": "code",
      "metadata": {
        "id": "ObWpnqH7SmE_",
        "colab_type": "code",
        "colab": {}
      },
      "source": [
        "import keras.backend as K\n",
        "\n",
        "def f1(y_true, y_pred):\n",
        "    y_pred = K.round(y_pred)\n",
        "    tp = K.sum(K.cast(y_true*y_pred, 'float'), axis=0)\n",
        "    # tn = K.sum(K.cast((1-y_true)*(1-y_pred), 'float'), axis=0)\n",
        "    fp = K.sum(K.cast((1-y_true)*y_pred, 'float'), axis=0)\n",
        "    fn = K.sum(K.cast(y_true*(1-y_pred), 'float'), axis=0)\n",
        "\n",
        "    p = tp / (tp + fp + K.epsilon())\n",
        "    r = tp / (tp + fn + K.epsilon())\n",
        "\n",
        "    f1 = 2*p*r / (p+r+K.epsilon())\n",
        "    f1 = tf.where(tf.is_nan(f1), tf.zeros_like(f1), f1)\n",
        "    return K.mean(f1)"
      ],
      "execution_count": 0,
      "outputs": []
    },
    {
      "cell_type": "markdown",
      "metadata": {
        "id": "gHRxsdZPrTfY",
        "colab_type": "text"
      },
      "source": [
        "### Custom Time Logging"
      ]
    },
    {
      "cell_type": "code",
      "metadata": {
        "id": "JrGaCY1frXZ7",
        "colab_type": "code",
        "colab": {}
      },
      "source": [
        "import keras.callbacks as keras_cb\n",
        "\n",
        "class TimeHistory(keras_cb.Callback):\n",
        "  def on_train_begin(self, logs={}):\n",
        "    self.times = []\n",
        "\n",
        "  def on_epoch_begin(self, epoch, logs={}):\n",
        "    self.epoch_time_start = time.time()\n",
        "\n",
        "  def on_epoch_end(self, epoch, logs={}):\n",
        "    self.times.append(time.time() - self.epoch_time_start)\n",
        "time_callback = TimeHistory()"
      ],
      "execution_count": 0,
      "outputs": []
    },
    {
      "cell_type": "markdown",
      "metadata": {
        "id": "OoEApNTlSmFB",
        "colab_type": "text"
      },
      "source": [
        "### Network Parameters"
      ]
    },
    {
      "cell_type": "code",
      "metadata": {
        "id": "PhM6GkYnSmFB",
        "colab_type": "code",
        "colab": {}
      },
      "source": [
        "# image shape (d x d)\n",
        "n_input = images_train.shape[1]\n",
        "inputShape = (n_input, n_input, num_color_channels)\n",
        "\n",
        "# number of classes\n",
        "n_classes =  image_labels_train.shape[1]\n",
        "\n",
        "# dropout\n",
        "to_drop = 0.4 # prob. to DROP "
      ],
      "execution_count": 0,
      "outputs": []
    },
    {
      "cell_type": "markdown",
      "metadata": {
        "id": "htX89RpMSmFD",
        "colab_type": "text"
      },
      "source": [
        "## Building the model"
      ]
    },
    {
      "cell_type": "code",
      "metadata": {
        "scrolled": true,
        "id": "btaBgX29SmFE",
        "colab_type": "code",
        "colab": {}
      },
      "source": [
        "def createModel(input_shape, dropout = .2):\n",
        "    model = Sequential()\n",
        "    # Input\n",
        "    model.add(Conv2D(32, \n",
        "                     (3, 3), \n",
        "                     padding='same', \n",
        "                     activation='relu', \n",
        "                     input_shape=input_shape))\n",
        "    model.add(BatchNormalization())\n",
        "    model.add(Dropout(dropout))\n",
        "    \n",
        "    # Convolutions, pooling\n",
        "    model.add(Conv2D(32, \n",
        "                     (3, 3),\n",
        "                     padding='same',\n",
        "                     activation='relu'))\n",
        "    model.add(BatchNormalization())\n",
        "    model.add(MaxPooling2D(pool_size=(2, 2)))\n",
        "    model.add(Dropout(dropout))\n",
        "    \n",
        "  \n",
        "    # model.add(Conv2D(64, (3, 3), \n",
        "    #                  padding='same', \n",
        "    #                  activation='relu', \n",
        "    #                  kernel_regularizer=regularizers.l2(0.01)))\n",
        "    # model.add(BatchNormalization())\n",
        "    # model.add(MaxPooling2D(pool_size=(2, 2)))\n",
        "    # model.add(Dropout(dropout))\n",
        "    \n",
        "  \n",
        "    model.add(Conv2D(128, (3, 3), \n",
        "                     padding='same', \n",
        "                     activation='relu', \n",
        "                     kernel_regularizer=regularizers.l2(0.01)\n",
        "                    ))\n",
        "    \n",
        "    model.add(BatchNormalization())\n",
        "    model.add(MaxPooling2D(pool_size=(2, 2)))\n",
        "    model.add(Dropout(dropout))\n",
        "    \n",
        "    # Flatten & Dense layers \n",
        "    model.add(Flatten())\n",
        "    \n",
        "    model.add(Dense(512, activation='relu', kernel_regularizer=regularizers.l2(0.01)))\n",
        "    model.add(Dropout(.4))\n",
        "    model.add(Dense(n_classes, activation='softmax'))\n",
        "  \n",
        "    return model"
      ],
      "execution_count": 0,
      "outputs": []
    },
    {
      "cell_type": "code",
      "metadata": {
        "id": "Pir05RDjSmFG",
        "colab_type": "code",
        "colab": {
          "base_uri": "https://localhost:8080/",
          "height": 119
        },
        "outputId": "5c1d86ce-e2fb-4a14-c5d5-b8669d84f2af"
      },
      "source": [
        "model1 = createModel(dropout = to_drop, input_shape = inputShape)"
      ],
      "execution_count": 20,
      "outputs": [
        {
          "output_type": "stream",
          "text": [
            "WARNING:tensorflow:From /usr/local/lib/python3.6/dist-packages/tensorflow/python/framework/op_def_library.py:263: colocate_with (from tensorflow.python.framework.ops) is deprecated and will be removed in a future version.\n",
            "Instructions for updating:\n",
            "Colocations handled automatically by placer.\n",
            "WARNING:tensorflow:From /usr/local/lib/python3.6/dist-packages/keras/backend/tensorflow_backend.py:3445: calling dropout (from tensorflow.python.ops.nn_ops) with keep_prob is deprecated and will be removed in a future version.\n",
            "Instructions for updating:\n",
            "Please use `rate` instead of `keep_prob`. Rate should be set to `rate = 1 - keep_prob`.\n"
          ],
          "name": "stdout"
        }
      ]
    },
    {
      "cell_type": "markdown",
      "metadata": {
        "id": "nJWSfQMGSmFI",
        "colab_type": "text"
      },
      "source": [
        "## Hyperparameter settings"
      ]
    },
    {
      "cell_type": "code",
      "metadata": {
        "id": "F3QPAcXSSmFJ",
        "colab_type": "code",
        "colab": {}
      },
      "source": [
        "training_iters = 40\n",
        "batch_size = 64"
      ],
      "execution_count": 0,
      "outputs": []
    },
    {
      "cell_type": "markdown",
      "metadata": {
        "id": "hgYC7uqTSmFL",
        "colab_type": "text"
      },
      "source": [
        "### Accounting for imbalance"
      ]
    },
    {
      "cell_type": "code",
      "metadata": {
        "id": "Z1owEJn9SmFL",
        "colab_type": "code",
        "outputId": "344307eb-6e78-469f-c3fe-a16e45fba06a",
        "colab": {
          "base_uri": "https://localhost:8080/",
          "height": 34
        }
      },
      "source": [
        "label_names"
      ],
      "execution_count": 22,
      "outputs": [
        {
          "output_type": "execute_result",
          "data": {
            "text/plain": [
              "{0: 'Sell', 1: 'Buy', 2: 'Hold'}"
            ]
          },
          "metadata": {
            "tags": []
          },
          "execution_count": 22
        }
      ]
    },
    {
      "cell_type": "code",
      "metadata": {
        "id": "L7cXGJ1MSmFO",
        "colab_type": "code",
        "outputId": "56cb4f53-0139-4f6a-d632-57c886c927a6",
        "colab": {
          "base_uri": "https://localhost:8080/",
          "height": 34
        }
      },
      "source": [
        "np.sum(image_labels_train, axis = 0)/np.sum(image_labels_train)"
      ],
      "execution_count": 23,
      "outputs": [
        {
          "output_type": "execute_result",
          "data": {
            "text/plain": [
              "array([0.24284135, 0.24670911, 0.51044954])"
            ]
          },
          "metadata": {
            "tags": []
          },
          "execution_count": 23
        }
      ]
    },
    {
      "cell_type": "code",
      "metadata": {
        "id": "sr4VxujmSmFQ",
        "colab_type": "code",
        "outputId": "a02a6ca1-f956-4480-e82e-a7ede4148357",
        "colab": {
          "base_uri": "https://localhost:8080/",
          "height": 34
        }
      },
      "source": [
        "y_ints = [y.argmax() for y in image_labels_train]\n",
        "class_weights = class_weight.compute_class_weight('balanced',\n",
        "                                                 np.unique(y_ints),\n",
        "                                                 y_ints)\n",
        "class_weight_dict = dict(enumerate(class_weights))\n",
        "class_weight_dict"
      ],
      "execution_count": 24,
      "outputs": [
        {
          "output_type": "execute_result",
          "data": {
            "text/plain": [
              "{0: 1.3726383055405387, 1: 1.351118842952654, 2: 0.653019167169504}"
            ]
          },
          "metadata": {
            "tags": []
          },
          "execution_count": 24
        }
      ]
    },
    {
      "cell_type": "markdown",
      "metadata": {
        "id": "Udum5f_5SmFS",
        "colab_type": "text"
      },
      "source": [
        "## Compiling"
      ]
    },
    {
      "cell_type": "code",
      "metadata": {
        "id": "QcgBthyaSmFS",
        "colab_type": "code",
        "colab": {}
      },
      "source": [
        "model1.compile(optimizer='adam',\n",
        "               loss='categorical_crossentropy', \n",
        "               metrics=['accuracy', f1])\n"
      ],
      "execution_count": 0,
      "outputs": []
    },
    {
      "cell_type": "markdown",
      "metadata": {
        "id": "eT7z4axHSmFU",
        "colab_type": "text"
      },
      "source": [
        "## Training"
      ]
    },
    {
      "cell_type": "code",
      "metadata": {
        "scrolled": true,
        "id": "C7oPLe2FSmFU",
        "colab_type": "code",
        "outputId": "85247426-22c4-48fa-a33b-be215643e7f6",
        "colab": {
          "base_uri": "https://localhost:8080/",
          "height": 153
        }
      },
      "source": [
        "history = model1.fit(images_train, \n",
        "                     image_labels_train, \n",
        "                     batch_size=batch_size, \n",
        "                     epochs=training_iters, verbose=1,\n",
        "                     validation_data=(images_test, image_labels_test),\n",
        "                     class_weight=class_weight_dict,\n",
        "                     callbacks=[time_callback]\n",
        "                    )\n",
        "  \n",
        "model1.evaluate(images_test, image_labels_test)"
      ],
      "execution_count": 0,
      "outputs": [
        {
          "output_type": "stream",
          "text": [
            "WARNING:tensorflow:From /usr/local/lib/python3.6/dist-packages/tensorflow/python/ops/math_ops.py:3066: to_int32 (from tensorflow.python.ops.math_ops) is deprecated and will be removed in a future version.\n",
            "Instructions for updating:\n",
            "Use tf.cast instead.\n",
            "Train on 198047 samples, validate on 260 samples\n",
            "Epoch 1/40\n",
            "198047/198047 [==============================] - 1437s 7ms/step - loss: 1.4893 - acc: 0.4309 - f1: 0.3612 - val_loss: 0.9424 - val_acc: 0.4038 - val_f1: 0.3467\n",
            "Epoch 2/40\n",
            "  6592/198047 [..............................] - ETA: 23:02 - loss: 0.8791 - acc: 0.4437 - f1: 0.3790"
          ],
          "name": "stdout"
        }
      ]
    },
    {
      "cell_type": "markdown",
      "metadata": {
        "id": "EArSwHIlSmFY",
        "colab_type": "text"
      },
      "source": [
        "## Loss & Accuracy Curves"
      ]
    },
    {
      "cell_type": "code",
      "metadata": {
        "id": "01rFG7OnSmFY",
        "colab_type": "code",
        "colab": {}
      },
      "source": [
        "# Loss Curves\n",
        "plt.figure(figsize=[8,6])\n",
        "plt.plot(history.history['loss'],'r',linewidth=3.0)\n",
        "plt.plot(history.history['val_loss'],'b',linewidth=3.0)\n",
        "plt.legend(['Training loss', 'Validation Loss'],fontsize=18)\n",
        "plt.xlabel('Epochs ',fontsize=16)\n",
        "plt.ylabel('Loss',fontsize=16)\n",
        "plt.title('Loss Curves',fontsize=16)\n",
        "  \n",
        "# Accuracy Curves\n",
        "plt.figure(figsize=[8,6])\n",
        "plt.plot(history.history['acc'],'r',linewidth=3.0)\n",
        "plt.plot(history.history['val_acc'],'b',linewidth=3.0)\n",
        "plt.legend(['Training Accuracy', 'Validation Accuracy'],fontsize=18)\n",
        "plt.xlabel('Epochs ',fontsize=16)\n",
        "plt.ylabel('Accuracy',fontsize=16)\n",
        "plt.title('Accuracy Curves',fontsize=16)\n",
        "\n",
        "# F1 Curves\n",
        "plt.figure(figsize=[8,6])\n",
        "plt.plot(history.history['f1'],'r',linewidth=3.0)\n",
        "plt.plot(history.history['val_f1'],'b',linewidth=3.0)\n",
        "plt.legend(['Training F1 score', 'Validation F1 score'],fontsize=18)\n",
        "plt.xlabel('Epochs ',fontsize=16)\n",
        "plt.ylabel('F1 Score',fontsize=16)\n",
        "plt.title('F1 Curves',fontsize=16)"
      ],
      "execution_count": 0,
      "outputs": []
    },
    {
      "cell_type": "markdown",
      "metadata": {
        "id": "zhOiBEnzmqFv",
        "colab_type": "text"
      },
      "source": [
        "## Confusion Matrix"
      ]
    },
    {
      "cell_type": "code",
      "metadata": {
        "id": "MXoYR-chh7BI",
        "colab_type": "code",
        "colab": {}
      },
      "source": [
        "image_labels_pred = model1.predict(images_test)\n",
        "image_labels_pred = np.where(image_labels_pred > 0.5, 1, 0)\n",
        "cm =  pd.DataFrame(confusion_matrix(np.argmax(image_labels_test,1), np.argmax(image_labels_pred,1)), \n",
        "                                 index = label_names_array, \n",
        "                                 columns = label_names_array)\n",
        "\n",
        "plt.figure(figsize=[8,6])\n",
        "sn.heatmap(cm, annot=True,cmap='Blues', fmt='g')"
      ],
      "execution_count": 0,
      "outputs": []
    },
    {
      "cell_type": "markdown",
      "metadata": {
        "id": "T9bBECHYs42y",
        "colab_type": "text"
      },
      "source": [
        "## Time spent"
      ]
    },
    {
      "cell_type": "code",
      "metadata": {
        "id": "GcPvwRcis3t9",
        "colab_type": "code",
        "colab": {}
      },
      "source": [
        "print(\"Time spent on entire model training: {:4f} seconds\".format(sum(time_callback.times)))"
      ],
      "execution_count": 0,
      "outputs": []
    }
  ]
}