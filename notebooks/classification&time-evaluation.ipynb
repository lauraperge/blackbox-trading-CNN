{
 "cells": [
  {
   "cell_type": "markdown",
   "metadata": {},
   "source": [
    "This notebook\n",
    "1. reads in y_true/y_pred and other relevant results from results tables\n",
    "2. makes confusion matrices\n",
    "3. makes classification reuslts tables for all assets and periods"
   ]
  },
  {
   "cell_type": "code",
   "execution_count": 2,
   "metadata": {},
   "outputs": [],
   "source": [
    "import pandas as pd\n",
    "import seaborn as sn\n",
    "import numpy as np\n",
    "import os\n",
    "import matplotlib.pyplot as plt\n",
    "from sklearn.preprocessing import MinMaxScaler\n",
    "import time"
   ]
  },
  {
   "cell_type": "markdown",
   "metadata": {},
   "source": [
    "### Overall"
   ]
  },
  {
   "cell_type": "code",
   "execution_count": 2,
   "metadata": {},
   "outputs": [],
   "source": [
    "cnn_versions = [\"indiv\", \"univ\"]\n",
    "Names = ['GSPC', 'N225','IXIC', 'AAPL', 'SPY']"
   ]
  },
  {
   "cell_type": "markdown",
   "metadata": {},
   "source": [
    "# Test 1 (2006-2007)"
   ]
  },
  {
   "cell_type": "markdown",
   "metadata": {},
   "source": [
    "### Main Classification Results"
   ]
  },
  {
   "cell_type": "code",
   "execution_count": 3,
   "metadata": {},
   "outputs": [],
   "source": [
    "Results1 = pd.DataFrame(columns = [\"Assets\", \n",
    "                                   \"Accuracy_i\", \"Accuracy_u\", \n",
    "                                   \"MacroF1_i\", \"MacroF1_u\",\n",
    "                                   \"MacroPrec_i\", \"MacroPrec_u\",\n",
    "                                   \"MacroRec_i\", \"MacroRec_u\",\n",
    "                                   \"Train_Pred_Time_i\", \"Train_Pred_Time_u\"\n",
    "                                  ])\n",
    "Results1['Assets'] = Names"
   ]
  },
  {
   "cell_type": "code",
   "execution_count": null,
   "metadata": {},
   "outputs": [],
   "source": [
    "cnns_path1 = \"../Results/test1\"\n",
    "cnns_result1 = []"
   ]
  },
  {
   "cell_type": "code",
   "execution_count": null,
   "metadata": {},
   "outputs": [],
   "source": [
    "# check for data on relevant model variant\n",
    "for variant in cnn_versions:\n",
    "    cnns_path1_ = cnns_path1 + \"/\" + variant\n",
    "    abbrev = variant[0]\n",
    "    for VarName in os.listdir(cnns_path1_):\n",
    "        \n",
    "        #get data - first round: making dataframes for each asset\n",
    "        eval(abbrev + \"_\" + VarName + \"_TruePreds\") = pd.read_csv(cnns_path1_ + \"/\" + VarName + \"/\" + \"True_Pred.csv\")\n",
    "        \n",
    "        #check\n",
    "        print(eval(variant + \"_TruePreds\")[-1].head())\n",
    "\n",
    "        # get financial results for each asset, each model variant\n",
    "\n",
    "        cnns_result1.append(np.load(cnns_path1_ + \"/\" + VarName + \"/\" + \"Time_ClassificationEval.npz\"))\n",
    "        \n",
    "        # Save to table\n",
    "        Results1['Accuracy_' + abbrev].loc[Results1['Assets'] == VarName] =cnns_results1[-1]['accuracy']\n",
    "        Results1['MacroF1_' + abbrev].loc[Results1['Assets'] == VarName] =cnns_results1[-1]['MacF1']\n",
    "        Results1['MacroPrec_' + abbrev].loc[Results1['Assets'] == VarName] =cnns_results1[-1]['MacPrecision']\n",
    "        Results1['MacroRec_' + abbrev].loc[Results1['Assets'] == VarName] =cnns_results1[-1]['MacRecall']\n",
    "        Results1['Train_Pred_Time_' + abbrev].loc[Results1['Assets'] == VarName] = cnns_results1[-1]['TrainTime'] + \"/\" + cnns_results1[-1]['PredTime']\n"
   ]
  },
  {
   "cell_type": "code",
   "execution_count": 7,
   "metadata": {},
   "outputs": [
    {
     "data": {
      "text/html": [
       "<div>\n",
       "<style scoped>\n",
       "    .dataframe tbody tr th:only-of-type {\n",
       "        vertical-align: middle;\n",
       "    }\n",
       "\n",
       "    .dataframe tbody tr th {\n",
       "        vertical-align: top;\n",
       "    }\n",
       "\n",
       "    .dataframe thead th {\n",
       "        text-align: right;\n",
       "    }\n",
       "</style>\n",
       "<table border=\"1\" class=\"dataframe\">\n",
       "  <thead>\n",
       "    <tr style=\"text-align: right;\">\n",
       "      <th></th>\n",
       "      <th>Assets</th>\n",
       "      <th>Cumr_indiv</th>\n",
       "      <th>Cumr_univ</th>\n",
       "      <th>Cumr_RSI</th>\n",
       "      <th>Cumr_BB</th>\n",
       "      <th>Cumr_BaH</th>\n",
       "      <th>Annr_indiv</th>\n",
       "      <th>Annr_univ</th>\n",
       "      <th>Annr_RSI</th>\n",
       "      <th>Annr_BB</th>\n",
       "      <th>Annr_BaH</th>\n",
       "      <th>Tr_indiv</th>\n",
       "      <th>Tr_univ</th>\n",
       "      <th>Tr_RSI</th>\n",
       "      <th>Tr_BB</th>\n",
       "      <th>Tr_BaH</th>\n",
       "    </tr>\n",
       "  </thead>\n",
       "  <tbody>\n",
       "    <tr>\n",
       "      <th>0</th>\n",
       "      <td>GSPC</td>\n",
       "      <td>NaN</td>\n",
       "      <td>NaN</td>\n",
       "      <td>0.127197</td>\n",
       "      <td>0.158637</td>\n",
       "      <td>0.168141</td>\n",
       "      <td>NaN</td>\n",
       "      <td>NaN</td>\n",
       "      <td>0.059571</td>\n",
       "      <td>0.0737517</td>\n",
       "      <td>0.0779993</td>\n",
       "      <td>NaN</td>\n",
       "      <td>NaN</td>\n",
       "      <td>7</td>\n",
       "      <td>12</td>\n",
       "      <td>2</td>\n",
       "    </tr>\n",
       "    <tr>\n",
       "      <th>1</th>\n",
       "      <td>N225</td>\n",
       "      <td>NaN</td>\n",
       "      <td>NaN</td>\n",
       "      <td>0.162062</td>\n",
       "      <td>0.134378</td>\n",
       "      <td>0.00719039</td>\n",
       "      <td>NaN</td>\n",
       "      <td>NaN</td>\n",
       "      <td>0.0752849</td>\n",
       "      <td>0.0628275</td>\n",
       "      <td>0.00346848</td>\n",
       "      <td>NaN</td>\n",
       "      <td>NaN</td>\n",
       "      <td>9</td>\n",
       "      <td>11</td>\n",
       "      <td>2</td>\n",
       "    </tr>\n",
       "    <tr>\n",
       "      <th>2</th>\n",
       "      <td>IXIC</td>\n",
       "      <td>NaN</td>\n",
       "      <td>NaN</td>\n",
       "      <td>0.100534</td>\n",
       "      <td>-0.0126179</td>\n",
       "      <td>0.179558</td>\n",
       "      <td>NaN</td>\n",
       "      <td>NaN</td>\n",
       "      <td>0.0473834</td>\n",
       "      <td>-0.00611789</td>\n",
       "      <td>0.0830785</td>\n",
       "      <td>NaN</td>\n",
       "      <td>NaN</td>\n",
       "      <td>7</td>\n",
       "      <td>7</td>\n",
       "      <td>2</td>\n",
       "    </tr>\n",
       "    <tr>\n",
       "      <th>3</th>\n",
       "      <td>AAPL</td>\n",
       "      <td>NaN</td>\n",
       "      <td>NaN</td>\n",
       "      <td>0.730272</td>\n",
       "      <td>0.831773</td>\n",
       "      <td>1.67203</td>\n",
       "      <td>NaN</td>\n",
       "      <td>NaN</td>\n",
       "      <td>0.303389</td>\n",
       "      <td>0.339795</td>\n",
       "      <td>0.607978</td>\n",
       "      <td>NaN</td>\n",
       "      <td>NaN</td>\n",
       "      <td>10</td>\n",
       "      <td>10</td>\n",
       "      <td>2</td>\n",
       "    </tr>\n",
       "    <tr>\n",
       "      <th>4</th>\n",
       "      <td>SPY</td>\n",
       "      <td>NaN</td>\n",
       "      <td>NaN</td>\n",
       "      <td>0.129077</td>\n",
       "      <td>0.0589208</td>\n",
       "      <td>0.20894</td>\n",
       "      <td>NaN</td>\n",
       "      <td>NaN</td>\n",
       "      <td>0.0604245</td>\n",
       "      <td>0.0280537</td>\n",
       "      <td>0.0960336</td>\n",
       "      <td>NaN</td>\n",
       "      <td>NaN</td>\n",
       "      <td>7</td>\n",
       "      <td>7</td>\n",
       "      <td>2</td>\n",
       "    </tr>\n",
       "  </tbody>\n",
       "</table>\n",
       "</div>"
      ],
      "text/plain": [
       "  Assets Cumr_indiv Cumr_univ  Cumr_RSI    Cumr_BB    Cumr_BaH Annr_indiv  \\\n",
       "0   GSPC        NaN       NaN  0.127197   0.158637    0.168141        NaN   \n",
       "1   N225        NaN       NaN  0.162062   0.134378  0.00719039        NaN   \n",
       "2   IXIC        NaN       NaN  0.100534 -0.0126179    0.179558        NaN   \n",
       "3   AAPL        NaN       NaN  0.730272   0.831773     1.67203        NaN   \n",
       "4    SPY        NaN       NaN  0.129077  0.0589208     0.20894        NaN   \n",
       "\n",
       "  Annr_univ   Annr_RSI     Annr_BB    Annr_BaH Tr_indiv Tr_univ  Tr_RSI  \\\n",
       "0       NaN   0.059571   0.0737517   0.0779993      NaN     NaN       7   \n",
       "1       NaN  0.0752849   0.0628275  0.00346848      NaN     NaN       9   \n",
       "2       NaN  0.0473834 -0.00611789   0.0830785      NaN     NaN       7   \n",
       "3       NaN   0.303389    0.339795    0.607978      NaN     NaN      10   \n",
       "4       NaN  0.0604245   0.0280537   0.0960336      NaN     NaN       7   \n",
       "\n",
       "   Tr_BB  Tr_BaH  \n",
       "0     12       2  \n",
       "1     11       2  \n",
       "2      7       2  \n",
       "3     10       2  \n",
       "4      7       2  "
      ]
     },
     "execution_count": 7,
     "metadata": {},
     "output_type": "execute_result"
    }
   ],
   "source": [
    "Results1"
   ]
  },
  {
   "cell_type": "code",
   "execution_count": null,
   "metadata": {},
   "outputs": [],
   "source": [
    "Results1.to_csv('../results_tables/test1_main_classification&time_results.csv')"
   ]
  },
  {
   "cell_type": "markdown",
   "metadata": {},
   "source": [
    "# Test 2 (2009-2010)"
   ]
  },
  {
   "cell_type": "markdown",
   "metadata": {},
   "source": [
    "# Test 3 (2017-2018/19)"
   ]
  },
  {
   "cell_type": "markdown",
   "metadata": {},
   "source": [
    "# All: Confusion matrices"
   ]
  },
  {
   "cell_type": "markdown",
   "metadata": {},
   "source": [
    "## 10 asset-wise"
   ]
  },
  {
   "cell_type": "code",
   "execution_count": 3,
   "metadata": {},
   "outputs": [
    {
     "data": {
      "text/plain": [
       "array([], dtype=float64)"
      ]
     },
     "execution_count": 3,
     "metadata": {},
     "output_type": "execute_result"
    }
   ],
   "source": [
    "label_names_array = ['Sell', 'Buy', 'Hold']\n",
    "y_true_univ = np.array([])\n",
    "y_true_indiv = np.array([])\n",
    "\n",
    "y_pred_univ = np.array([])\n",
    "y_pred_indiv = np.array([])"
   ]
  },
  {
   "cell_type": "code",
   "execution_count": null,
   "metadata": {},
   "outputs": [],
   "source": [
    "for variant in cnn_versions:\n",
    "    abbrev = variant[0]\n",
    "    for VarName in Names:\n",
    "        # get data\n",
    "        y_true = eval(abbrev + \"_\" + VarName + \"_TruePreds\")[VarName]\n",
    "        y_pred = eval(abbrev + \"_\" + VarName + \"_TruePreds\")['Prediction']\n",
    "        \n",
    "        # for aggregated\n",
    "        eval(\"y_true_\" + variant) = np.append(eval(\"y_true_\" + variant), y_true)\n",
    "        eval(\"y_pred_\" + variant) = np.append(eval(\"y_pred_\" + variant), y_pred)\n",
    "        \n",
    "        # plot\n",
    "        cm =  pd.DataFrame(confusion_matrix(y_true, y_pred), \n",
    "                                 index = label_names_array, \n",
    "                                 columns = label_names_array)\n",
    "\n",
    "        plt.figure(figsize=[8,6])\n",
    "        sn.heatmap(cm, annot=True,cmap='Blues', fmt='g')\n",
    "        plt.title(VarName + \": \"+ variant + \" model\")\n",
    "        plt.xlabel(\"Predicted Label\")\n",
    "        plt.ylabel(\"True Label\")\n",
    "        #plt.savefig(\"../report/0304(0)_report/images/CMs/CM_\" + variant + \"_\" + name +'.png')"
   ]
  },
  {
   "cell_type": "markdown",
   "metadata": {},
   "source": [
    "## 2 Overall"
   ]
  },
  {
   "cell_type": "code",
   "execution_count": null,
   "metadata": {},
   "outputs": [],
   "source": [
    "for variant in cnn_versions:\n",
    "    # plot\n",
    "    cm =  pd.DataFrame(confusion_matrix(eval(\"y_true_\" + variant), eval(\"y_pred_\" + variant)), \n",
    "                             index = label_names_array, \n",
    "                             columns = label_names_array)\n",
    "\n",
    "    plt.figure(figsize=[8,6])\n",
    "    sn.heatmap(cm, annot=True,cmap='Blues', fmt='g')\n",
    "    plt.title(\"Aggregated: \" + variant + \" model\")\n",
    "    plt.xlabel(\"Predicted Label\")\n",
    "    plt.ylabel(\"True Label\")\n",
    "    #plt.savefig(\"../report/0304(0)_report/images/CMs/CM_\" + variant + \"_aggreg.png\")"
   ]
  }
 ],
 "metadata": {
  "kernelspec": {
   "display_name": "Python 3",
   "language": "python",
   "name": "python3"
  },
  "language_info": {
   "codemirror_mode": {
    "name": "ipython",
    "version": 3
   },
   "file_extension": ".py",
   "mimetype": "text/x-python",
   "name": "python",
   "nbconvert_exporter": "python",
   "pygments_lexer": "ipython3",
   "version": "3.7.1"
  }
 },
 "nbformat": 4,
 "nbformat_minor": 2
}
