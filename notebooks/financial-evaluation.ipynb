{
 "cells": [
  {
   "cell_type": "markdown",
   "metadata": {},
   "source": [
    "This notebook\n",
    "1. reads in asset prices with relevant trading signals\n",
    "2. uses financial evaluation function to produce financial results\n",
    "3. creates suitable output tables for LaTeX"
   ]
  },
  {
   "cell_type": "code",
   "execution_count": 1,
   "metadata": {},
   "outputs": [],
   "source": [
    "import pandas as pd\n",
    "import numpy as np\n",
    "import os\n",
    "import matplotlib.pyplot as plt\n",
    "from sklearn.preprocessing import MinMaxScaler\n",
    "import time\n",
    "\n",
    "import sys\n",
    "sys.path.append('../utils/evaluation')\n",
    "from financial_evaluation import financial_evaluation"
   ]
  },
  {
   "cell_type": "markdown",
   "metadata": {},
   "source": [
    "### Overall"
   ]
  },
  {
   "cell_type": "code",
   "execution_count": 2,
   "metadata": {},
   "outputs": [],
   "source": [
    "competing_strategies = [\"RSI_Signals\", \"BB_Signals\", \"BaH_Signals\"]\n",
    "cnn_versions = [\"indiv\", \"univ\"]\n",
    "Names = ['GSPC', 'N225','IXIC', 'AAPL', 'SPY']"
   ]
  },
  {
   "cell_type": "markdown",
   "metadata": {},
   "source": [
    "# Test 1 (2006-2007)"
   ]
  },
  {
   "cell_type": "markdown",
   "metadata": {},
   "source": [
    "### Main results"
   ]
  },
  {
   "cell_type": "code",
   "execution_count": 3,
   "metadata": {},
   "outputs": [],
   "source": [
    "Results1 = pd.DataFrame(columns = [\"Assets\", \"Cumr_indiv\", \"Cumr_univ\", \"Cumr_RSI\", \"Cumr_BB\", \"Cumr_BaH\",\n",
    "                                    \"Annr_indiv\", \"Annr_univ\", \"Annr_RSI\", \"Annr_BB\", \"Annr_BaH\",\n",
    "                                    \"Tr_indiv\", \"Tr_univ\", \"Tr_RSI\", \"Tr_BB\", \"Tr_BaH\"\n",
    "                                   ])\n",
    "Results1['Assets'] = Names"
   ]
  },
  {
   "cell_type": "markdown",
   "metadata": {},
   "source": [
    "### Appendix results"
   ]
  },
  {
   "cell_type": "code",
   "execution_count": null,
   "metadata": {},
   "outputs": [],
   "source": [
    "App_results1 = pd.DataFrame(columns = [\"Assets\", \"TotalPL_indiv\", \"TotalPL_univ\", \"TotalPL_RSI\", \"TotalPL_BB\", \"TotalPL_BaH\",\n",
    "                                    \"TotalPL_Tr_indiv\", \"TotalPL_Tr_univ\", \"TotalPL_Tr_RSI\", \"TotalPL_Tr_BB\", \"TotalPL_Tr_BaH\"\n",
    "                                   ])\n",
    "App_results1['Assets'] = Names"
   ]
  },
  {
   "cell_type": "markdown",
   "metadata": {},
   "source": [
    "### Competing Strategies"
   ]
  },
  {
   "cell_type": "code",
   "execution_count": 4,
   "metadata": {},
   "outputs": [],
   "source": [
    "competing_path1 = \"../data/competing-strategies-signals/test1/\"\n",
    "competing1 = []\n",
    "competing_results1 = []"
   ]
  },
  {
   "cell_type": "code",
   "execution_count": 5,
   "metadata": {
    "scrolled": true
   },
   "outputs": [
    {
     "name": "stdout",
     "output_type": "stream",
     "text": [
      "   Unnamed: 0      AAPL RSI_Signals BB_Signals\n",
      "1  2005-12-06  7.026763        Hold       Hold\n",
      "2  2005-12-07  7.017271        Hold       Hold\n",
      "3  2005-12-08  7.029610        Hold       Hold\n",
      "4  2005-12-09  7.053332        Hold       Hold\n",
      "5  2005-12-12  7.108370        Hold       Hold\n",
      "   Unnamed: 0      AAPL RSI_Signals BB_Signals BaH_Signals\n",
      "1  2005-12-06  7.026763        Hold       Hold         Buy\n",
      "2  2005-12-07  7.017271        Hold       Hold        Hold\n",
      "3  2005-12-08  7.029610        Hold       Hold        Hold\n",
      "4  2005-12-09  7.053332        Hold       Hold        Hold\n",
      "5  2005-12-12  7.108370        Hold       Hold        Hold\n",
      "     Unnamed: 0      AAPL RSI_Signals BB_Signals BaH_Signals\n",
      "275  2006-12-25  7.800133        Hold       Hold        Hold\n",
      "276  2006-12-26  7.734660        Hold       Hold        Hold\n",
      "277  2006-12-27  7.735608        Hold       Hold        Hold\n",
      "278  2006-12-28  7.673926        Hold       Hold        Hold\n",
      "279  2006-12-29  8.050648         Buy       Hold        Sell\n",
      "   Unnamed: 0         GSPC RSI_Signals BB_Signals\n",
      "1  2005-12-06  1263.699951        Hold       Hold\n",
      "2  2005-12-07  1257.369995        Hold       Hold\n",
      "3  2005-12-08  1255.839966        Hold       Hold\n",
      "4  2005-12-09  1259.369995        Hold       Hold\n",
      "5  2005-12-12  1260.430054        Hold       Hold\n"
     ]
    },
    {
     "name": "stderr",
     "output_type": "stream",
     "text": [
      "C:\\Users\\Corvinus\\Anaconda3\\lib\\site-packages\\pandas\\core\\indexing.py:189: SettingWithCopyWarning: \n",
      "A value is trying to be set on a copy of a slice from a DataFrame\n",
      "\n",
      "See the caveats in the documentation: http://pandas.pydata.org/pandas-docs/stable/indexing.html#indexing-view-versus-copy\n",
      "  self._setitem_with_indexer(indexer, value)\n",
      "../utils/evaluation\\financial_evaluation.py:186: RuntimeWarning: divide by zero encountered in double_scalars\n",
      "  avg_trade_profit = total_profit / winners\n"
     ]
    },
    {
     "name": "stdout",
     "output_type": "stream",
     "text": [
      "   Unnamed: 0         GSPC RSI_Signals BB_Signals BaH_Signals\n",
      "1  2005-12-06  1263.699951        Hold       Hold         Buy\n",
      "2  2005-12-07  1257.369995        Hold       Hold        Hold\n",
      "3  2005-12-08  1255.839966        Hold       Hold        Hold\n",
      "4  2005-12-09  1259.369995        Hold       Hold        Hold\n",
      "5  2005-12-12  1260.430054        Hold       Hold        Hold\n",
      "     Unnamed: 0         GSPC RSI_Signals BB_Signals BaH_Signals\n",
      "275  2006-12-25  1410.760010        Hold       Hold        Hold\n",
      "276  2006-12-26  1416.900024        Hold       Hold        Hold\n",
      "277  2006-12-27  1426.839966        Hold       Hold        Hold\n",
      "278  2006-12-28  1424.729980        Hold       Hold        Hold\n",
      "279  2006-12-29  1418.300049        Hold       Hold        Sell\n",
      "   Unnamed: 0         IXIC RSI_Signals BB_Signals\n",
      "1  2005-12-06  2260.760010        Hold       Hold\n",
      "2  2005-12-07  2252.010010        Hold       Hold\n",
      "3  2005-12-08  2246.459961        Hold       Hold\n",
      "4  2005-12-09  2256.729980        Hold       Hold\n",
      "5  2005-12-12  2260.949951        Hold       Hold\n",
      "   Unnamed: 0         IXIC RSI_Signals BB_Signals BaH_Signals\n",
      "1  2005-12-06  2260.760010        Hold       Hold         Buy\n",
      "2  2005-12-07  2252.010010        Hold       Hold        Hold\n",
      "3  2005-12-08  2246.459961        Hold       Hold        Hold\n",
      "4  2005-12-09  2256.729980        Hold       Hold        Hold\n",
      "5  2005-12-12  2260.949951        Hold       Hold        Hold\n",
      "     Unnamed: 0         IXIC RSI_Signals BB_Signals BaH_Signals\n",
      "275  2006-12-25  2401.179932        Hold       Hold        Hold\n",
      "276  2006-12-26  2413.510010        Hold       Hold        Hold\n",
      "277  2006-12-27  2431.219971        Hold       Hold        Hold\n",
      "278  2006-12-28  2425.570068        Hold       Hold        Hold\n",
      "279  2006-12-29  2415.290039        Hold       Hold        Sell\n",
      "   Unnamed: 0         N225 RSI_Signals BB_Signals\n",
      "1  2005-12-06  15423.37988        Hold       Hold\n",
      "2  2005-12-07  15484.66016        Hold       Hold\n",
      "3  2005-12-08  15183.36035        Hold       Hold\n",
      "4  2005-12-09  15404.04981        Hold       Hold\n",
      "5  2005-12-12  15738.70020        Hold       Hold\n",
      "   Unnamed: 0         N225 RSI_Signals BB_Signals BaH_Signals\n",
      "1  2005-12-06  15423.37988        Hold       Hold         Buy\n",
      "2  2005-12-07  15484.66016        Hold       Hold        Hold\n",
      "3  2005-12-08  15183.36035        Hold       Hold        Hold\n",
      "4  2005-12-09  15404.04981        Hold       Hold        Hold\n",
      "5  2005-12-12  15738.70020        Hold       Hold        Hold\n",
      "     Unnamed: 0         N225 RSI_Signals BB_Signals BaH_Signals\n",
      "275  2006-12-25  17092.89063        Hold       Hold        Hold\n",
      "276  2006-12-26  17169.18945        Hold       Hold        Hold\n",
      "277  2006-12-27  17223.15039        Hold       Hold        Hold\n",
      "278  2006-12-28  17224.81055        Hold       Hold        Hold\n",
      "279  2006-12-29  17225.83008        Hold       Hold        Sell\n",
      "   Unnamed: 0        SPY RSI_Signals BB_Signals\n",
      "1  2005-12-06  96.407555        Hold       Hold\n",
      "2  2005-12-07  95.845016        Hold       Hold\n",
      "3  2005-12-08  95.784225        Hold       Hold\n",
      "4  2005-12-09  96.035057        Hold       Hold\n",
      "5  2005-12-12  96.126297        Hold       Hold\n",
      "   Unnamed: 0        SPY RSI_Signals BB_Signals BaH_Signals\n",
      "1  2005-12-06  96.407555        Hold       Hold         Buy\n",
      "2  2005-12-07  95.845016        Hold       Hold        Hold\n",
      "3  2005-12-08  95.784225        Hold       Hold        Hold\n",
      "4  2005-12-09  96.035057        Hold       Hold        Hold\n",
      "5  2005-12-12  96.126297        Hold       Hold        Hold\n",
      "     Unnamed: 0         SPY RSI_Signals BB_Signals BaH_Signals\n",
      "275  2006-12-25  109.553352        Hold       Hold        Hold\n",
      "276  2006-12-26  110.199379        Hold       Hold        Hold\n",
      "277  2006-12-27  110.923271        Hold       Hold        Hold\n",
      "278  2006-12-28  110.689789        Hold       Hold        Hold\n",
      "279  2006-12-29  110.230515        Hold       Hold        Sell\n"
     ]
    }
   ],
   "source": [
    "for name in os.listdir(competing_path1):\n",
    "    #get data\n",
    "    competing1.append(pd.read_csv(competing_path1 + name).dropna())\n",
    "    #check data\n",
    "    print(competing1[-1].head())\n",
    "    \n",
    "    #add Buy & Hold\n",
    "    competing1[-1]['BaH_Signals'] = 'Hold'\n",
    "    competing1[-1]['BaH_Signals'].iloc[0] = 'Buy'\n",
    "    competing1[-1]['BaH_Signals'].iloc[-1] = 'Sell'\n",
    "    \n",
    "    #check\n",
    "    print(competing1[-1].head())\n",
    "    print(competing1[-1].tail())\n",
    "    \n",
    "    #get varname\n",
    "    VarName = name[6:name.index('_com')]\n",
    "    \n",
    "    for strat in competing_strategies:\n",
    "        #get results for certain asset and strategy\n",
    "        competing_results1.append(financial_evaluation(varname = VarName + '_' + strat,\n",
    "                                                       prices = np.array(competing1[-1][VarName]), \n",
    "                                                       signals = np.array(competing1[-1][strat])))\n",
    "        # Save to tables\n",
    "        Results1['Cumr_' + strat[:-8]].loc[Results1['Assets'] == VarName] =competing_results1[-1]['cumulative_return']\n",
    "        Results1['Annr_' + strat[:-8]].loc[Results1['Assets'] == VarName] =competing_results1[-1]['annualized_return']\n",
    "        Results1['Tr_' + strat[:-8]].loc[Results1['Assets'] == VarName] =competing_results1[-1]['all_trades']\n",
    "        \n",
    "        App_results1['TotalPL_' + strat[:-8]].loc[App_results1['Assets'] == VarName] =competing_results1[-1]['total_profit_loss']\n",
    "        App_results1['TotalPL_Tr_' + strat[:-8]].loc[App_results1['Assets'] == VarName] =competing_results1[-1]['avg_profit_loss_trade']"
   ]
  },
  {
   "cell_type": "markdown",
   "metadata": {},
   "source": [
    "### Model Results"
   ]
  },
  {
   "cell_type": "code",
   "execution_count": null,
   "metadata": {},
   "outputs": [],
   "source": [
    "cnns_path1 = \"../data/competing-strategies-signals/test1\"\n",
    "cnns1 = []\n",
    "cnns_result1 = []"
   ]
  },
  {
   "cell_type": "code",
   "execution_count": null,
   "metadata": {},
   "outputs": [],
   "source": [
    "for name in os.listdir(cnns_path1):\n",
    "    #get data\n",
    "    cnns1.append(pd.read_csv(name).dropna())\n",
    "    \n",
    "    #get varname\n",
    "    VarName = name[6:name.index('_com')]\n",
    "    \n",
    "    #check\n",
    "    print(cnns1[-1].head())\n",
    "    \n",
    "    # get financial results for each asset, each model variant\n",
    "    for variant in cnn_versions:\n",
    "        \n",
    "        # check for data on relevant model variant\n",
    "        if variant in name:\n",
    "            cnns_result1.append(financial_evaluation(varname = VarName + '_' + variant,\n",
    "                                                           prices = np.array(cnns1[-1][VarName]), \n",
    "                                                           signals = np.array(cnns1[-1][\"Signals\"])))\n",
    "            # Save to tables\n",
    "            Results1['Cumr_' + variant.loc[Results1['Assets'] == VarName] =cnns_results1[-1]['cumulative_return']\n",
    "            Results1['Annr_' + variant].loc[Results1['Assets'] == VarName] =cnns_results1[-1]['annualized_return']\n",
    "            Results1['Tr_' + variant].loc[Results1['Assets'] == VarName] =cnns_results1[-1]['all_trades']\n",
    "\n",
    "            App_results1['TotalPL_' + variant].loc[App_results1['Assets'] == VarName] =cnns_results1[-1]['total_profit_loss']\n",
    "            App_results1['TotalPL_Tr_' + variant].loc[App_results1['Assets'] == VarName] =cnns_results1[-1]['avg_profit_loss_trade']"
   ]
  },
  {
   "cell_type": "code",
   "execution_count": 6,
   "metadata": {},
   "outputs": [
    {
     "data": {
      "text/html": [
       "<div>\n",
       "<style scoped>\n",
       "    .dataframe tbody tr th:only-of-type {\n",
       "        vertical-align: middle;\n",
       "    }\n",
       "\n",
       "    .dataframe tbody tr th {\n",
       "        vertical-align: top;\n",
       "    }\n",
       "\n",
       "    .dataframe thead th {\n",
       "        text-align: right;\n",
       "    }\n",
       "</style>\n",
       "<table border=\"1\" class=\"dataframe\">\n",
       "  <thead>\n",
       "    <tr style=\"text-align: right;\">\n",
       "      <th></th>\n",
       "      <th>Assets</th>\n",
       "      <th>Cumr_indiv</th>\n",
       "      <th>Cumr_univ</th>\n",
       "      <th>Cumr_RSI</th>\n",
       "      <th>Cumr_BB</th>\n",
       "      <th>Cumr_BaH</th>\n",
       "      <th>Annr_indiv</th>\n",
       "      <th>Annr_univ</th>\n",
       "      <th>Annr_RSI</th>\n",
       "      <th>Annr_BB</th>\n",
       "      <th>Annr_BaH</th>\n",
       "      <th>Tr_indiv</th>\n",
       "      <th>Tr_univ</th>\n",
       "      <th>Tr_RSI</th>\n",
       "      <th>Tr_BB</th>\n",
       "      <th>Tr_BaH</th>\n",
       "    </tr>\n",
       "  </thead>\n",
       "  <tbody>\n",
       "    <tr>\n",
       "      <th>0</th>\n",
       "      <td>GSPC</td>\n",
       "      <td>NaN</td>\n",
       "      <td>NaN</td>\n",
       "      <td>0.018348</td>\n",
       "      <td>0.0663001</td>\n",
       "      <td>0.121278</td>\n",
       "      <td>NaN</td>\n",
       "      <td>NaN</td>\n",
       "      <td>0.0170879</td>\n",
       "      <td>0.0616487</td>\n",
       "      <td>0.112571</td>\n",
       "      <td>NaN</td>\n",
       "      <td>NaN</td>\n",
       "      <td>2</td>\n",
       "      <td>6</td>\n",
       "      <td>2</td>\n",
       "    </tr>\n",
       "    <tr>\n",
       "      <th>1</th>\n",
       "      <td>N225</td>\n",
       "      <td>NaN</td>\n",
       "      <td>NaN</td>\n",
       "      <td>0.161035</td>\n",
       "      <td>0.17336</td>\n",
       "      <td>0.115806</td>\n",
       "      <td>NaN</td>\n",
       "      <td>NaN</td>\n",
       "      <td>0.149289</td>\n",
       "      <td>0.160654</td>\n",
       "      <td>0.107511</td>\n",
       "      <td>NaN</td>\n",
       "      <td>NaN</td>\n",
       "      <td>6</td>\n",
       "      <td>5</td>\n",
       "      <td>2</td>\n",
       "    </tr>\n",
       "    <tr>\n",
       "      <th>2</th>\n",
       "      <td>IXIC</td>\n",
       "      <td>NaN</td>\n",
       "      <td>NaN</td>\n",
       "      <td>0.0237005</td>\n",
       "      <td>-0.0289762</td>\n",
       "      <td>0.067319</td>\n",
       "      <td>NaN</td>\n",
       "      <td>NaN</td>\n",
       "      <td>0.0220688</td>\n",
       "      <td>-0.0270298</td>\n",
       "      <td>0.062594</td>\n",
       "      <td>NaN</td>\n",
       "      <td>NaN</td>\n",
       "      <td>4</td>\n",
       "      <td>4</td>\n",
       "      <td>2</td>\n",
       "    </tr>\n",
       "    <tr>\n",
       "      <th>3</th>\n",
       "      <td>AAPL</td>\n",
       "      <td>NaN</td>\n",
       "      <td>NaN</td>\n",
       "      <td>0.054122</td>\n",
       "      <td>0.0662016</td>\n",
       "      <td>0.144639</td>\n",
       "      <td>NaN</td>\n",
       "      <td>NaN</td>\n",
       "      <td>0.050345</td>\n",
       "      <td>0.0615574</td>\n",
       "      <td>0.134157</td>\n",
       "      <td>NaN</td>\n",
       "      <td>NaN</td>\n",
       "      <td>5</td>\n",
       "      <td>3</td>\n",
       "      <td>2</td>\n",
       "    </tr>\n",
       "    <tr>\n",
       "      <th>4</th>\n",
       "      <td>SPY</td>\n",
       "      <td>NaN</td>\n",
       "      <td>NaN</td>\n",
       "      <td>0.0273509</td>\n",
       "      <td>0.0273449</td>\n",
       "      <td>0.142309</td>\n",
       "      <td>NaN</td>\n",
       "      <td>NaN</td>\n",
       "      <td>0.0254648</td>\n",
       "      <td>0.0254592</td>\n",
       "      <td>0.132005</td>\n",
       "      <td>NaN</td>\n",
       "      <td>NaN</td>\n",
       "      <td>2</td>\n",
       "      <td>4</td>\n",
       "      <td>2</td>\n",
       "    </tr>\n",
       "  </tbody>\n",
       "</table>\n",
       "</div>"
      ],
      "text/plain": [
       "  Assets Cumr_indiv Cumr_univ   Cumr_RSI    Cumr_BB  Cumr_BaH Annr_indiv  \\\n",
       "0   GSPC        NaN       NaN   0.018348  0.0663001  0.121278        NaN   \n",
       "1   N225        NaN       NaN   0.161035    0.17336  0.115806        NaN   \n",
       "2   IXIC        NaN       NaN  0.0237005 -0.0289762  0.067319        NaN   \n",
       "3   AAPL        NaN       NaN   0.054122  0.0662016  0.144639        NaN   \n",
       "4    SPY        NaN       NaN  0.0273509  0.0273449  0.142309        NaN   \n",
       "\n",
       "  Annr_univ   Annr_RSI    Annr_BB  Annr_BaH Tr_indiv Tr_univ  Tr_RSI  Tr_BB  \\\n",
       "0       NaN  0.0170879  0.0616487  0.112571      NaN     NaN       2      6   \n",
       "1       NaN   0.149289   0.160654  0.107511      NaN     NaN       6      5   \n",
       "2       NaN  0.0220688 -0.0270298  0.062594      NaN     NaN       4      4   \n",
       "3       NaN   0.050345  0.0615574  0.134157      NaN     NaN       5      3   \n",
       "4       NaN  0.0254648  0.0254592  0.132005      NaN     NaN       2      4   \n",
       "\n",
       "   Tr_BaH  \n",
       "0       2  \n",
       "1       2  \n",
       "2       2  \n",
       "3       2  \n",
       "4       2  "
      ]
     },
     "execution_count": 6,
     "metadata": {},
     "output_type": "execute_result"
    }
   ],
   "source": [
    "Results1"
   ]
  },
  {
   "cell_type": "code",
   "execution_count": null,
   "metadata": {},
   "outputs": [],
   "source": [
    "App_results1"
   ]
  },
  {
   "cell_type": "code",
   "execution_count": null,
   "metadata": {},
   "outputs": [],
   "source": [
    "Results1.to_csv('test1_main_financial_results.csv')\n",
    "App_results1.to_csv('test1_appendix_financial_results.csv')"
   ]
  },
  {
   "cell_type": "code",
   "execution_count": null,
   "metadata": {},
   "outputs": [],
   "source": []
  }
 ],
 "metadata": {
  "kernelspec": {
   "display_name": "Python 3",
   "language": "python",
   "name": "python3"
  },
  "language_info": {
   "codemirror_mode": {
    "name": "ipython",
    "version": 3
   },
   "file_extension": ".py",
   "mimetype": "text/x-python",
   "name": "python",
   "nbconvert_exporter": "python",
   "pygments_lexer": "ipython3",
   "version": "3.7.1"
  }
 },
 "nbformat": 4,
 "nbformat_minor": 2
}
