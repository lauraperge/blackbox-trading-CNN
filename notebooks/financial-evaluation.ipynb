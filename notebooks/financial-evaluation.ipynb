{
 "cells": [
  {
   "cell_type": "markdown",
   "metadata": {},
   "source": [
    "This notebook\n",
    "1. reads in asset prices with relevant trading signals\n",
    "2. uses financial evaluation function to produce financial results\n",
    "3. creates suitable output tables for LaTeX"
   ]
  },
  {
   "cell_type": "code",
   "execution_count": 1,
   "metadata": {},
   "outputs": [],
   "source": [
    "import pandas as pd\n",
    "import numpy as np\n",
    "import os\n",
    "import matplotlib.pyplot as plt\n",
    "from sklearn.preprocessing import MinMaxScaler\n",
    "import time\n",
    "\n",
    "import sys\n",
    "sys.path.append('../utils/evaluation')\n",
    "from financial_evaluation import financial_evaluation\n"
   ]
  },
  {
   "cell_type": "markdown",
   "metadata": {},
   "source": [
    "### Overall"
   ]
  },
  {
   "cell_type": "code",
   "execution_count": 2,
   "metadata": {},
   "outputs": [],
   "source": [
    "competing_strategies = [\"RSI_Signals\", \"BB_Signals\", \"BaH_Signals\"]\n",
    "cnn_versions = [\"indiv\", \"univ\"]\n",
    "Names = ['GSPC', 'N225','IXIC', 'AAPL', 'SPY']"
   ]
  },
  {
   "cell_type": "markdown",
   "metadata": {},
   "source": [
    "# Test 1 (2006-2007)"
   ]
  },
  {
   "cell_type": "markdown",
   "metadata": {},
   "source": [
    "### Main results"
   ]
  },
  {
   "cell_type": "code",
   "execution_count": 3,
   "metadata": {},
   "outputs": [],
   "source": [
    "Results1 = pd.DataFrame(columns = [\"Assets\", \"Cumr_indiv\", \"Cumr_univ\", \"Cumr_RSI\", \"Cumr_BB\", \"Cumr_BaH\",\n",
    "                                    \"Annr_indiv\", \"Annr_univ\", \"Annr_RSI\", \"Annr_BB\", \"Annr_BaH\",\n",
    "                                    \"Tr_indiv\", \"Tr_univ\", \"Tr_RSI\", \"Tr_BB\", \"Tr_BaH\"\n",
    "                                   ])\n",
    "Results1['Assets'] = Names"
   ]
  },
  {
   "cell_type": "markdown",
   "metadata": {},
   "source": [
    "### Appendix results"
   ]
  },
  {
   "cell_type": "code",
   "execution_count": 4,
   "metadata": {},
   "outputs": [],
   "source": [
    "App_results1 = pd.DataFrame(columns = [\"Assets\", \"TotalPL_indiv\", \"TotalPL_univ\", \"TotalPL_RSI\", \"TotalPL_BB\", \"TotalPL_BaH\",\n",
    "                                    \"TotalPL_Tr_indiv\", \"TotalPL_Tr_univ\", \"TotalPL_Tr_RSI\", \"TotalPL_Tr_BB\", \"TotalPL_Tr_BaH\"\n",
    "                                   ])\n",
    "App_results1['Assets'] = Names"
   ]
  },
  {
   "cell_type": "markdown",
   "metadata": {},
   "source": [
    "## Capital evolution"
   ]
  },
  {
   "cell_type": "code",
   "execution_count": null,
   "metadata": {},
   "outputs": [],
   "source": [
    "Capitals = pd.DataFrame(columns = [\"CNN_i\", \"CNN_u\", \"RSI\", \"BB\", \"BaH\"])"
   ]
  },
  {
   "cell_type": "markdown",
   "metadata": {},
   "source": [
    "### Competing Strategies"
   ]
  },
  {
   "cell_type": "code",
   "execution_count": 5,
   "metadata": {},
   "outputs": [],
   "source": [
    "competing_path1 = \"../data/competing-strategies-signals/test1/\"\n",
    "competing1 = []\n",
    "competing_results1 = []\n",
    "names = []"
   ]
  },
  {
   "cell_type": "code",
   "execution_count": 6,
   "metadata": {
    "scrolled": true
   },
   "outputs": [
    {
     "name": "stdout",
     "output_type": "stream",
     "text": [
      "   Unnamed: 0      AAPL RSI_Signals BB_Signals\n",
      "1  2005-12-08  7.029610        Hold       Hold\n",
      "2  2005-12-09  7.053332        Hold       Hold\n",
      "3  2005-12-12  7.108370        Hold       Hold\n",
      "4  2005-12-13  7.115014        Hold       Hold\n",
      "5  2005-12-14  6.833184        Hold       Hold\n",
      "   Unnamed: 0      AAPL RSI_Signals BB_Signals BaH_Signals\n",
      "1  2005-12-08  7.029610        Hold       Hold         Buy\n",
      "2  2005-12-09  7.053332        Hold       Hold        Hold\n",
      "3  2005-12-12  7.108370        Hold       Hold        Hold\n",
      "4  2005-12-13  7.115014        Hold       Hold        Hold\n",
      "5  2005-12-14  6.833184        Hold       Hold        Hold\n",
      "     Unnamed: 0       AAPL RSI_Signals BB_Signals BaH_Signals\n",
      "534  2007-12-25  18.864561        Hold       Hold        Hold\n",
      "535  2007-12-26  18.878799        Hold       Hold        Hold\n",
      "536  2007-12-27  18.842733        Hold       Hold        Hold\n",
      "537  2007-12-28  18.962296        Hold       Hold        Hold\n",
      "538  2007-12-31  18.796236        Hold       Hold        Sell\n",
      "   Unnamed: 0         GSPC RSI_Signals BB_Signals\n",
      "1  2005-12-08  1255.839966        Hold       Hold\n",
      "2  2005-12-09  1259.369995        Hold       Hold\n",
      "3  2005-12-12  1260.430054        Hold       Hold\n",
      "4  2005-12-13  1267.430054        Hold       Hold\n",
      "5  2005-12-14  1272.739990        Hold       Hold\n",
      "   Unnamed: 0         GSPC RSI_Signals BB_Signals BaH_Signals\n",
      "1  2005-12-08  1255.839966        Hold       Hold         Buy\n",
      "2  2005-12-09  1259.369995        Hold       Hold        Hold\n",
      "3  2005-12-12  1260.430054        Hold       Hold        Hold\n",
      "4  2005-12-13  1267.430054        Hold       Hold        Hold\n",
      "5  2005-12-14  1272.739990        Hold       Hold        Hold\n"
     ]
    },
    {
     "name": "stderr",
     "output_type": "stream",
     "text": [
      "C:\\Users\\Corvinus\\Anaconda3\\lib\\site-packages\\pandas\\core\\indexing.py:189: SettingWithCopyWarning: \n",
      "A value is trying to be set on a copy of a slice from a DataFrame\n",
      "\n",
      "See the caveats in the documentation: http://pandas.pydata.org/pandas-docs/stable/indexing.html#indexing-view-versus-copy\n",
      "  self._setitem_with_indexer(indexer, value)\n",
      "../utils/evaluation\\financial_evaluation.py:189: RuntimeWarning: divide by zero encountered in double_scalars\n",
      "  avg_trade_profit = total_profit / winners\n"
     ]
    },
    {
     "name": "stdout",
     "output_type": "stream",
     "text": [
      "     Unnamed: 0         GSPC RSI_Signals BB_Signals BaH_Signals\n",
      "534  2007-12-25  1496.449951        Hold       Hold        Hold\n",
      "535  2007-12-26  1497.660034        Hold       Hold        Hold\n",
      "536  2007-12-27  1476.270020        Hold       Hold        Hold\n",
      "537  2007-12-28  1478.489990        Hold       Hold        Hold\n",
      "538  2007-12-31  1468.359985        Hold       Hold        Sell\n",
      "   Unnamed: 0         IXIC RSI_Signals BB_Signals\n",
      "1  2005-12-08  2246.459961        Hold       Hold\n",
      "2  2005-12-09  2256.729980        Hold       Hold\n",
      "3  2005-12-12  2260.949951        Hold       Hold\n",
      "4  2005-12-13  2265.000000        Hold       Hold\n",
      "5  2005-12-14  2262.590088        Hold       Hold\n",
      "   Unnamed: 0         IXIC RSI_Signals BB_Signals BaH_Signals\n",
      "1  2005-12-08  2246.459961        Hold       Hold         Buy\n",
      "2  2005-12-09  2256.729980        Hold       Hold        Hold\n",
      "3  2005-12-12  2260.949951        Hold       Hold        Hold\n",
      "4  2005-12-13  2265.000000        Hold       Hold        Hold\n",
      "5  2005-12-14  2262.590088        Hold       Hold        Hold\n",
      "     Unnamed: 0         IXIC RSI_Signals BB_Signals BaH_Signals\n",
      "534  2007-12-25  2713.500000        Hold       Hold        Hold\n",
      "535  2007-12-26  2724.409912        Hold       Hold        Hold\n",
      "536  2007-12-27  2676.790039        Hold       Hold        Hold\n",
      "537  2007-12-28  2674.459961        Hold       Hold        Hold\n",
      "538  2007-12-31  2652.280029        Hold       Hold        Sell\n",
      "   Unnamed: 0         N225 RSI_Signals BB_Signals\n",
      "1  2005-12-08  15183.36035        Hold       Hold\n",
      "2  2005-12-09  15404.04981        Hold       Hold\n",
      "3  2005-12-12  15738.70020        Hold       Hold\n",
      "4  2005-12-13  15778.86035        Hold       Hold\n",
      "5  2005-12-14  15464.58008        Hold       Hold\n",
      "   Unnamed: 0         N225 RSI_Signals BB_Signals BaH_Signals\n",
      "1  2005-12-08  15183.36035        Hold       Hold         Buy\n",
      "2  2005-12-09  15404.04981        Hold       Hold        Hold\n",
      "3  2005-12-12  15738.70020        Hold       Hold        Hold\n",
      "4  2005-12-13  15778.86035        Hold       Hold        Hold\n",
      "5  2005-12-14  15464.58008        Hold       Hold        Hold\n",
      "     Unnamed: 0         N225 RSI_Signals BB_Signals BaH_Signals\n",
      "534  2007-12-25  15552.58984        Hold       Hold        Hold\n",
      "535  2007-12-26  15653.54004        Hold       Hold        Hold\n",
      "536  2007-12-27  15564.69043        Hold       Hold        Hold\n",
      "537  2007-12-28  15307.78027        Hold       Hold        Hold\n",
      "538  2007-12-31  15307.78027        Hold       Hold        Sell\n",
      "   Unnamed: 0        SPY RSI_Signals BB_Signals\n",
      "1  2005-12-08  95.784225        Hold       Hold\n",
      "2  2005-12-09  96.035057        Hold       Hold\n",
      "3  2005-12-12  96.126297        Hold       Hold\n",
      "4  2005-12-13  96.780060        Hold       Hold\n",
      "5  2005-12-14  97.160172        Hold       Hold\n",
      "   Unnamed: 0        SPY RSI_Signals BB_Signals BaH_Signals\n",
      "1  2005-12-08  95.784225        Hold       Hold         Buy\n",
      "2  2005-12-09  96.035057        Hold       Hold        Hold\n",
      "3  2005-12-12  96.126297        Hold       Hold        Hold\n",
      "4  2005-12-13  96.780060        Hold       Hold        Hold\n",
      "5  2005-12-14  97.160172        Hold       Hold        Hold\n",
      "     Unnamed: 0         SPY RSI_Signals BB_Signals BaH_Signals\n",
      "534  2007-12-25  118.297264        Hold       Hold        Hold\n",
      "535  2007-12-26  118.550926        Hold       Hold        Hold\n",
      "536  2007-12-27  117.060585        Hold       Hold        Hold\n",
      "537  2007-12-28  116.767326        Hold       Hold        Hold\n",
      "538  2007-12-31  115.903229        Hold       Hold        Sell\n"
     ]
    }
   ],
   "source": [
    "for name in os.listdir(competing_path1):\n",
    "    #get data\n",
    "    competing1.append(pd.read_csv(competing_path1 + name).dropna())\n",
    "    #check data\n",
    "    print(competing1[-1].head())\n",
    "    \n",
    "    #add Buy & Hold\n",
    "    competing1[-1]['BaH_Signals'] = 'Hold'\n",
    "    competing1[-1]['BaH_Signals'].iloc[0] = 'Buy'\n",
    "    competing1[-1]['BaH_Signals'].iloc[-1] = 'Sell'\n",
    "    \n",
    "    #check\n",
    "    print(competing1[-1].head())\n",
    "    print(competing1[-1].tail())\n",
    "    \n",
    "    #get varname\n",
    "    VarName = name[6:name.index('_com')]\n",
    "    names.append(VarName)\n",
    "    \n",
    "    vars()[\"Capitals1_\" + VarName] = Capitals.copy()\n",
    "    \n",
    "    for strat in competing_strategies:\n",
    "        #get results for certain asset and strategy\n",
    "        competing_results1.append(financial_evaluation(varname = VarName + '_' + strat,\n",
    "                                                       prices = np.array(competing1[-1][VarName]), \n",
    "                                                       signals = np.array(competing1[-1][strat])))\n",
    "        # Save to tables\n",
    "        Results1['Cumr_' + strat[:-8]].loc[Results1['Assets'] == VarName] =competing_results1[-1]['cumulative_return']\n",
    "        Results1['Annr_' + strat[:-8]].loc[Results1['Assets'] == VarName] =competing_results1[-1]['annualized_return']\n",
    "        Results1['Tr_' + strat[:-8]].loc[Results1['Assets'] == VarName] =competing_results1[-1]['all_trades']\n",
    "        \n",
    "        App_results1['TotalPL_' + strat[:-8]].loc[App_results1['Assets'] == VarName] =competing_results1[-1]['total_profit_loss']\n",
    "        App_results1['TotalPL_Tr_' + strat[:-8]].loc[App_results1['Assets'] == VarName] =competing_results1[-1]['avg_profit_loss_trade']\n",
    "        \n",
    "        # Save Capitals for figures\n",
    "        eval(\"Capitals1_\" + VarName)['Capital_' + strat[:-8]] = competing_results1[-1]['capital']"
   ]
  },
  {
   "cell_type": "markdown",
   "metadata": {},
   "source": [
    "### Model Results"
   ]
  },
  {
   "cell_type": "code",
   "execution_count": null,
   "metadata": {},
   "outputs": [],
   "source": [
    "cnns_path1 = \"../Results/test1\"\n",
    "cnns1 = []\n",
    "cnns_result1 = []"
   ]
  },
  {
   "cell_type": "code",
   "execution_count": null,
   "metadata": {},
   "outputs": [],
   "source": [
    "# check for data on relevant model variant\n",
    "for variant in cnn_versions:\n",
    "    cnns_path1_ = cnns_path1 + \"/\" + variant\n",
    "    abbrev = variant[0]\n",
    "    for VarName in os.listdir(cnns_path1_):\n",
    "        \n",
    "        #get data\n",
    "        cnns1.append(pd.read_csv(cnns_path1_ + \"/\" + VarName + \"/\" + \"PredForFinEval.csv\").dropna())\n",
    "\n",
    "        #check\n",
    "        print(cnns1[-1].head())\n",
    "\n",
    "        # get financial results for each asset, each model variant\n",
    "\n",
    "        cnns_result1.append(financial_evaluation(varname = VarName + '_' + variant,\n",
    "                                                       prices = np.array(cnns1[-1][VarName]), \n",
    "                                                       signals = np.array(cnns1[-1][\"Signals\"])))\n",
    "        # Save to tables\n",
    "        Results1['Cumr_' + variant.loc[Results1['Assets'] == VarName] =cnns_results1[-1]['cumulative_return']\n",
    "        Results1['Annr_' + variant].loc[Results1['Assets'] == VarName] =cnns_results1[-1]['annualized_return']\n",
    "        Results1['Tr_' + variant].loc[Results1['Assets'] == VarName] =cnns_results1[-1]['all_trades']\n",
    "\n",
    "        App_results1['TotalPL_' + variant].loc[App_results1['Assets'] == VarName] =cnns_results1[-1]['total_profit_loss']\n",
    "        App_results1['TotalPL_Tr_' + variant].loc[App_results1['Assets'] == VarName] =cnns_results1[-1]['avg_profit_loss_trade']\n",
    "        \n",
    "        # Save Capitals for figures\n",
    "        eval(\"Capitals1_\" + VarName)['Capital_' + abbrev] = competing_results1[-1]['capital']"
   ]
  },
  {
   "cell_type": "code",
   "execution_count": 7,
   "metadata": {},
   "outputs": [
    {
     "data": {
      "text/html": [
       "<div>\n",
       "<style scoped>\n",
       "    .dataframe tbody tr th:only-of-type {\n",
       "        vertical-align: middle;\n",
       "    }\n",
       "\n",
       "    .dataframe tbody tr th {\n",
       "        vertical-align: top;\n",
       "    }\n",
       "\n",
       "    .dataframe thead th {\n",
       "        text-align: right;\n",
       "    }\n",
       "</style>\n",
       "<table border=\"1\" class=\"dataframe\">\n",
       "  <thead>\n",
       "    <tr style=\"text-align: right;\">\n",
       "      <th></th>\n",
       "      <th>Assets</th>\n",
       "      <th>Cumr_indiv</th>\n",
       "      <th>Cumr_univ</th>\n",
       "      <th>Cumr_RSI</th>\n",
       "      <th>Cumr_BB</th>\n",
       "      <th>Cumr_BaH</th>\n",
       "      <th>Annr_indiv</th>\n",
       "      <th>Annr_univ</th>\n",
       "      <th>Annr_RSI</th>\n",
       "      <th>Annr_BB</th>\n",
       "      <th>Annr_BaH</th>\n",
       "      <th>Tr_indiv</th>\n",
       "      <th>Tr_univ</th>\n",
       "      <th>Tr_RSI</th>\n",
       "      <th>Tr_BB</th>\n",
       "      <th>Tr_BaH</th>\n",
       "    </tr>\n",
       "  </thead>\n",
       "  <tbody>\n",
       "    <tr>\n",
       "      <th>0</th>\n",
       "      <td>GSPC</td>\n",
       "      <td>NaN</td>\n",
       "      <td>NaN</td>\n",
       "      <td>0.127197</td>\n",
       "      <td>0.158637</td>\n",
       "      <td>0.168141</td>\n",
       "      <td>NaN</td>\n",
       "      <td>NaN</td>\n",
       "      <td>0.059571</td>\n",
       "      <td>0.0737517</td>\n",
       "      <td>0.0779993</td>\n",
       "      <td>NaN</td>\n",
       "      <td>NaN</td>\n",
       "      <td>7</td>\n",
       "      <td>12</td>\n",
       "      <td>2</td>\n",
       "    </tr>\n",
       "    <tr>\n",
       "      <th>1</th>\n",
       "      <td>N225</td>\n",
       "      <td>NaN</td>\n",
       "      <td>NaN</td>\n",
       "      <td>0.162062</td>\n",
       "      <td>0.134378</td>\n",
       "      <td>0.00719039</td>\n",
       "      <td>NaN</td>\n",
       "      <td>NaN</td>\n",
       "      <td>0.0752849</td>\n",
       "      <td>0.0628275</td>\n",
       "      <td>0.00346848</td>\n",
       "      <td>NaN</td>\n",
       "      <td>NaN</td>\n",
       "      <td>9</td>\n",
       "      <td>11</td>\n",
       "      <td>2</td>\n",
       "    </tr>\n",
       "    <tr>\n",
       "      <th>2</th>\n",
       "      <td>IXIC</td>\n",
       "      <td>NaN</td>\n",
       "      <td>NaN</td>\n",
       "      <td>0.100534</td>\n",
       "      <td>-0.0126179</td>\n",
       "      <td>0.179558</td>\n",
       "      <td>NaN</td>\n",
       "      <td>NaN</td>\n",
       "      <td>0.0473834</td>\n",
       "      <td>-0.00611789</td>\n",
       "      <td>0.0830785</td>\n",
       "      <td>NaN</td>\n",
       "      <td>NaN</td>\n",
       "      <td>7</td>\n",
       "      <td>7</td>\n",
       "      <td>2</td>\n",
       "    </tr>\n",
       "    <tr>\n",
       "      <th>3</th>\n",
       "      <td>AAPL</td>\n",
       "      <td>NaN</td>\n",
       "      <td>NaN</td>\n",
       "      <td>0.730272</td>\n",
       "      <td>0.831773</td>\n",
       "      <td>1.67203</td>\n",
       "      <td>NaN</td>\n",
       "      <td>NaN</td>\n",
       "      <td>0.303389</td>\n",
       "      <td>0.339795</td>\n",
       "      <td>0.607978</td>\n",
       "      <td>NaN</td>\n",
       "      <td>NaN</td>\n",
       "      <td>10</td>\n",
       "      <td>10</td>\n",
       "      <td>2</td>\n",
       "    </tr>\n",
       "    <tr>\n",
       "      <th>4</th>\n",
       "      <td>SPY</td>\n",
       "      <td>NaN</td>\n",
       "      <td>NaN</td>\n",
       "      <td>0.129077</td>\n",
       "      <td>0.0589208</td>\n",
       "      <td>0.20894</td>\n",
       "      <td>NaN</td>\n",
       "      <td>NaN</td>\n",
       "      <td>0.0604245</td>\n",
       "      <td>0.0280537</td>\n",
       "      <td>0.0960336</td>\n",
       "      <td>NaN</td>\n",
       "      <td>NaN</td>\n",
       "      <td>7</td>\n",
       "      <td>7</td>\n",
       "      <td>2</td>\n",
       "    </tr>\n",
       "  </tbody>\n",
       "</table>\n",
       "</div>"
      ],
      "text/plain": [
       "  Assets Cumr_indiv Cumr_univ  Cumr_RSI    Cumr_BB    Cumr_BaH Annr_indiv  \\\n",
       "0   GSPC        NaN       NaN  0.127197   0.158637    0.168141        NaN   \n",
       "1   N225        NaN       NaN  0.162062   0.134378  0.00719039        NaN   \n",
       "2   IXIC        NaN       NaN  0.100534 -0.0126179    0.179558        NaN   \n",
       "3   AAPL        NaN       NaN  0.730272   0.831773     1.67203        NaN   \n",
       "4    SPY        NaN       NaN  0.129077  0.0589208     0.20894        NaN   \n",
       "\n",
       "  Annr_univ   Annr_RSI     Annr_BB    Annr_BaH Tr_indiv Tr_univ  Tr_RSI  \\\n",
       "0       NaN   0.059571   0.0737517   0.0779993      NaN     NaN       7   \n",
       "1       NaN  0.0752849   0.0628275  0.00346848      NaN     NaN       9   \n",
       "2       NaN  0.0473834 -0.00611789   0.0830785      NaN     NaN       7   \n",
       "3       NaN   0.303389    0.339795    0.607978      NaN     NaN      10   \n",
       "4       NaN  0.0604245   0.0280537   0.0960336      NaN     NaN       7   \n",
       "\n",
       "   Tr_BB  Tr_BaH  \n",
       "0     12       2  \n",
       "1     11       2  \n",
       "2      7       2  \n",
       "3     10       2  \n",
       "4      7       2  "
      ]
     },
     "execution_count": 7,
     "metadata": {},
     "output_type": "execute_result"
    }
   ],
   "source": [
    "Results1"
   ]
  },
  {
   "cell_type": "code",
   "execution_count": null,
   "metadata": {},
   "outputs": [],
   "source": [
    "App_results1"
   ]
  },
  {
   "cell_type": "code",
   "execution_count": null,
   "metadata": {},
   "outputs": [],
   "source": [
    "Results1.to_csv('../results_tables/test1_main_financial_results.csv')\n",
    "App_results1.to_csv('../results_tables/test1_appendix_financial_results.csv')"
   ]
  },
  {
   "cell_type": "markdown",
   "metadata": {},
   "source": [
    "## Capital evolution plots"
   ]
  },
  {
   "cell_type": "code",
   "execution_count": null,
   "metadata": {},
   "outputs": [],
   "source": [
    "for name in names:\n",
    "    eval(\"Capitals1_\" + name).plot\n",
    "    plt.show()\n",
    "    #plt.savefig(\"../report/0304(0)_report/images/capitals/Capitals1_\" + name +'.png')"
   ]
  }
 ],
 "metadata": {
  "kernelspec": {
   "display_name": "Python 3",
   "language": "python",
   "name": "python3"
  },
  "language_info": {
   "codemirror_mode": {
    "name": "ipython",
    "version": 3
   },
   "file_extension": ".py",
   "mimetype": "text/x-python",
   "name": "python",
   "nbconvert_exporter": "python",
   "pygments_lexer": "ipython3",
   "version": "3.7.1"
  }
 },
 "nbformat": 4,
 "nbformat_minor": 2
}
