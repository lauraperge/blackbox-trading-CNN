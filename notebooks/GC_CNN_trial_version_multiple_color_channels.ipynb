{
  "nbformat": 4,
  "nbformat_minor": 0,
  "metadata": {
    "colab": {
      "name": "CNN-trial-version-multiple color channels.ipynb",
      "version": "0.3.2",
      "provenance": [],
      "collapsed_sections": [
        "zhu8-HSyhfop",
        "kX3wcxXmhfov"
      ]
    },
    "language_info": {
      "codemirror_mode": {
        "name": "ipython",
        "version": 3
      },
      "file_extension": ".py",
      "mimetype": "text/x-python",
      "name": "python",
      "nbconvert_exporter": "python",
      "pygments_lexer": "ipython3",
      "version": "3.7.1"
    },
    "kernelspec": {
      "display_name": "Python 3",
      "language": "python",
      "name": "python3"
    }
  },
  "cells": [
    {
      "cell_type": "code",
      "metadata": {
        "id": "CsRJBGIQhfnd",
        "colab_type": "code",
        "colab": {
          "base_uri": "https://localhost:8080/",
          "height": 54
        },
        "outputId": "7beb8f14-9f23-4c6f-d1e7-d2c0d9bffeab"
      },
      "source": [
        "!pip install numpy==1.16.1\n",
        "import numpy as np\n",
        "import matplotlib.pyplot as plt\n",
        "import tensorflow as tf\n",
        "%matplotlib inline\n",
        "from sklearn.model_selection import train_test_split\n",
        "\n",
        "import os\n",
        "tf.logging.set_verbosity(tf.logging.INFO)"
      ],
      "execution_count": 1,
      "outputs": [
        {
          "output_type": "stream",
          "text": [
            "Requirement already satisfied: numpy==1.16.1 in /usr/local/lib/python3.6/dist-packages (1.16.1)\n"
          ],
          "name": "stdout"
        }
      ]
    },
    {
      "cell_type": "code",
      "metadata": {
        "id": "YKPSFQnNhror",
        "colab_type": "code",
        "colab": {
          "base_uri": "https://localhost:8080/",
          "height": 54
        },
        "outputId": "e59476dc-179d-4d7d-d385-adffa6ecbe76"
      },
      "source": [
        "from google.colab import drive\n",
        "drive.mount('/content/drive')"
      ],
      "execution_count": 2,
      "outputs": [
        {
          "output_type": "stream",
          "text": [
            "Drive already mounted at /content/drive; to attempt to forcibly remount, call drive.mount(\"/content/drive\", force_remount=True).\n"
          ],
          "name": "stdout"
        }
      ]
    },
    {
      "cell_type": "markdown",
      "metadata": {
        "id": "gmYi8EA9hfng",
        "colab_type": "text"
      },
      "source": [
        "# Load data"
      ]
    },
    {
      "cell_type": "code",
      "metadata": {
        "id": "yyLoJVWZhfnh",
        "colab_type": "code",
        "colab": {}
      },
      "source": [
        "filename = \"test_gemini_BTCUSD_Close_2H_LWS3_IWS20_Trf['RP', 'GADF', 'MTF'].npz\""
      ],
      "execution_count": 0,
      "outputs": []
    },
    {
      "cell_type": "markdown",
      "metadata": {
        "id": "BECKUki_hfnj",
        "colab_type": "text"
      },
      "source": [
        "### Image window sizes"
      ]
    },
    {
      "cell_type": "code",
      "metadata": {
        "id": "YaxNADcuhfnk",
        "colab_type": "code",
        "colab": {
          "base_uri": "https://localhost:8080/",
          "height": 34
        },
        "outputId": "f4caa827-6306-479c-b13f-486f89a63c94"
      },
      "source": [
        "Image_window_size = np.int(filename[filename.find('_IWS') + 4 : filename.find(\"_Trf\")])\n",
        "Image_window_size"
      ],
      "execution_count": 4,
      "outputs": [
        {
          "output_type": "execute_result",
          "data": {
            "text/plain": [
              "20"
            ]
          },
          "metadata": {
            "tags": []
          },
          "execution_count": 4
        }
      ]
    },
    {
      "cell_type": "markdown",
      "metadata": {
        "id": "vL2PD7xUhfnq",
        "colab_type": "text"
      },
      "source": [
        "### Transformation types"
      ]
    },
    {
      "cell_type": "code",
      "metadata": {
        "id": "2H5Ytn0Nhfnr",
        "colab_type": "code",
        "colab": {
          "base_uri": "https://localhost:8080/",
          "height": 34
        },
        "outputId": "70995d13-e918-40be-8c2b-f494efc732cb"
      },
      "source": [
        "Image_trf = eval(filename[filename.find('_Trf')+4:filename.find('.npz')])\n",
        "Image_trf"
      ],
      "execution_count": 5,
      "outputs": [
        {
          "output_type": "execute_result",
          "data": {
            "text/plain": [
              "['RP', 'GADF', 'MTF']"
            ]
          },
          "metadata": {
            "tags": []
          },
          "execution_count": 5
        }
      ]
    },
    {
      "cell_type": "code",
      "metadata": {
        "id": "RU4xIyZzhfnv",
        "colab_type": "code",
        "colab": {
          "base_uri": "https://localhost:8080/",
          "height": 34
        },
        "outputId": "964bfc66-6968-4950-8035-c335ae283692"
      },
      "source": [
        "num_color_channels = len(Image_trf)\n",
        "num_color_channels"
      ],
      "execution_count": 6,
      "outputs": [
        {
          "output_type": "execute_result",
          "data": {
            "text/plain": [
              "3"
            ]
          },
          "metadata": {
            "tags": []
          },
          "execution_count": 6
        }
      ]
    },
    {
      "cell_type": "code",
      "metadata": {
        "id": "FBS72L20hfny",
        "colab_type": "code",
        "colab": {}
      },
      "source": [
        "data = np.load('/content/drive/My Drive/Colab Notebooks/CNN/' + filename)"
      ],
      "execution_count": 0,
      "outputs": []
    },
    {
      "cell_type": "code",
      "metadata": {
        "id": "2N79Fbp5hfn0",
        "colab_type": "code",
        "colab": {}
      },
      "source": [
        "images = data['images']\n",
        "image_labels = data['image_labels']\n",
        "label_names = data['label_names']"
      ],
      "execution_count": 0,
      "outputs": []
    },
    {
      "cell_type": "markdown",
      "metadata": {
        "id": "ZEQ2xcayhfn2",
        "colab_type": "text"
      },
      "source": [
        "# Check data"
      ]
    },
    {
      "cell_type": "code",
      "metadata": {
        "id": "VVXXfKCchfn3",
        "colab_type": "code",
        "colab": {}
      },
      "source": [
        "# for quick check: only 1000 images\n",
        "# images = images[:1000]\n",
        "# image_labels = image_labels[:1000]"
      ],
      "execution_count": 0,
      "outputs": []
    },
    {
      "cell_type": "code",
      "metadata": {
        "id": "7aHyc8A3hfn6",
        "colab_type": "code",
        "colab": {
          "base_uri": "https://localhost:8080/",
          "height": 34
        },
        "outputId": "cbb3de72-ba96-437a-ef50-f9fff8369c35"
      },
      "source": [
        "images.shape"
      ],
      "execution_count": 10,
      "outputs": [
        {
          "output_type": "execute_result",
          "data": {
            "text/plain": [
              "(3, 12575, 20, 20)"
            ]
          },
          "metadata": {
            "tags": []
          },
          "execution_count": 10
        }
      ]
    },
    {
      "cell_type": "code",
      "metadata": {
        "id": "MtxvCH9Ihfn-",
        "colab_type": "code",
        "colab": {
          "base_uri": "https://localhost:8080/",
          "height": 34
        },
        "outputId": "dc166580-0d4b-4836-cadd-3ae369bb997e"
      },
      "source": [
        "image_labels.shape"
      ],
      "execution_count": 11,
      "outputs": [
        {
          "output_type": "execute_result",
          "data": {
            "text/plain": [
              "(12575, 3)"
            ]
          },
          "metadata": {
            "tags": []
          },
          "execution_count": 11
        }
      ]
    },
    {
      "cell_type": "code",
      "metadata": {
        "id": "4qlbXbU0hfoB",
        "colab_type": "code",
        "colab": {
          "base_uri": "https://localhost:8080/",
          "height": 34
        },
        "outputId": "d261e03d-8238-4e5a-d60f-d67ba421016a"
      },
      "source": [
        "print(\"max: {}; min: {}\".format(np.amax(images), np.amin(images)))"
      ],
      "execution_count": 12,
      "outputs": [
        {
          "output_type": "stream",
          "text": [
            "max: 1.0; min: 0.0\n"
          ],
          "name": "stdout"
        }
      ]
    },
    {
      "cell_type": "code",
      "metadata": {
        "id": "U3J-99BbhfoE",
        "colab_type": "code",
        "colab": {
          "base_uri": "https://localhost:8080/",
          "height": 34
        },
        "outputId": "ef9caab5-ab8a-4e5d-b7fb-b2158b5f1380"
      },
      "source": [
        "label_names = label_names.item()\n",
        "label_names"
      ],
      "execution_count": 13,
      "outputs": [
        {
          "output_type": "execute_result",
          "data": {
            "text/plain": [
              "{0: 'Buy', 1: 'Hold', 2: 'Sell'}"
            ]
          },
          "metadata": {
            "tags": []
          },
          "execution_count": 13
        }
      ]
    },
    {
      "cell_type": "markdown",
      "metadata": {
        "id": "yQ9XCR7EhfoG",
        "colab_type": "text"
      },
      "source": [
        "## e.g.:"
      ]
    },
    {
      "cell_type": "code",
      "metadata": {
        "scrolled": false,
        "id": "P2ak9kp4hfoH",
        "colab_type": "code",
        "colab": {
          "base_uri": "https://localhost:8080/",
          "height": 1654
        },
        "outputId": "b5f6a933-6cb6-4e41-c239-11165faa8b55"
      },
      "source": [
        "for trfidx, trf in enumerate(Image_trf):\n",
        "    print('Transformation type: ' + trf)\n",
        "    for idx, image in enumerate(images[trfidx,:2,:,:]):\n",
        "        plt.imshow(image, cmap = \"Greys\")\n",
        "        plt.title(label_names[np.int(np.argwhere(image_labels[idx]))])\n",
        "        plt.show()"
      ],
      "execution_count": 14,
      "outputs": [
        {
          "output_type": "stream",
          "text": [
            "Transformation type: RP\n"
          ],
          "name": "stdout"
        },
        {
          "output_type": "display_data",
          "data": {
            "image/png": "[encoded data removed]",
            "text/plain": [
              "<Figure size 432x288 with 1 Axes>"
            ]
          },
          "metadata": {
            "tags": []
          }
        },
        {
          "output_type": "display_data",
          "data": {
            "image/png": "[encoded data removed]",
            "text/plain": [
              "<Figure size 432x288 with 1 Axes>"
            ]
          },
          "metadata": {
            "tags": []
          }
        },
        {
          "output_type": "stream",
          "text": [
            "Transformation type: GADF\n"
          ],
          "name": "stdout"
        },
        {
          "output_type": "display_data",
          "data": {
            "image/png": "[encoded data removed]",
            "text/plain": [
              "<Figure size 432x288 with 1 Axes>"
            ]
          },
          "metadata": {
            "tags": []
          }
        },
        {
          "output_type": "display_data",
          "data": {
            "image/png": "[encoded data removed]",
            "text/plain": [
              "<Figure size 432x288 with 1 Axes>"
            ]
          },
          "metadata": {
            "tags": []
          }
        },
        {
          "output_type": "stream",
          "text": [
            "Transformation type: MTF\n"
          ],
          "name": "stdout"
        },
        {
          "output_type": "display_data",
          "data": {
            "image/png": "[encoded data removed]",
            "text/plain": [
              "<Figure size 432x288 with 1 Axes>"
            ]
          },
          "metadata": {
            "tags": []
          }
        },
        {
          "output_type": "display_data",
          "data": {
            "image/png": "[encoded data removed]",
            "text/plain": [
              "<Figure size 432x288 with 1 Axes>"
            ]
          },
          "metadata": {
            "tags": []
          }
        }
      ]
    },
    {
      "cell_type": "markdown",
      "metadata": {
        "id": "cWSOzZvlhfoL",
        "colab_type": "text"
      },
      "source": [
        "## Baseline\n",
        "Choosing the biggest class to be the class of all gives the accuracy of:"
      ]
    },
    {
      "cell_type": "code",
      "metadata": {
        "scrolled": true,
        "id": "-fJFsN6AhfoM",
        "colab_type": "code",
        "colab": {
          "base_uri": "https://localhost:8080/",
          "height": 34
        },
        "outputId": "70b74bbb-4b87-42a8-b588-0e0dce9ef3a9"
      },
      "source": [
        "baseline = np.max(np.sum(image_labels, 0))/np.sum(image_labels)\n",
        "baseline"
      ],
      "execution_count": 15,
      "outputs": [
        {
          "output_type": "execute_result",
          "data": {
            "text/plain": [
              "0.4842942345924453"
            ]
          },
          "metadata": {
            "tags": []
          },
          "execution_count": 15
        }
      ]
    },
    {
      "cell_type": "code",
      "metadata": {
        "id": "pqjpOUYvt8oF",
        "colab_type": "code",
        "colab": {}
      },
      "source": [
        "baseline_balanced = 1/num_color_channels #http://mvpa.blogspot.com/2015/12/balanced-accuracy-what-and-why.html"
      ],
      "execution_count": 0,
      "outputs": []
    },
    {
      "cell_type": "code",
      "metadata": {
        "id": "KdBuxJA79ibh",
        "colab_type": "code",
        "colab": {
          "base_uri": "https://localhost:8080/",
          "height": 34
        },
        "outputId": "f7253a4b-f1e6-4a28-8e36-350ef1a0ef66"
      },
      "source": [
        "np.sum(image_labels, axis = 0)/np.sum(image_labels)"
      ],
      "execution_count": 17,
      "outputs": [
        {
          "output_type": "execute_result",
          "data": {
            "text/plain": [
              "array([0.26091451, 0.48429423, 0.25479125])"
            ]
          },
          "metadata": {
            "tags": []
          },
          "execution_count": 17
        }
      ]
    },
    {
      "cell_type": "markdown",
      "metadata": {
        "id": "_yeTpcMyhfoQ",
        "colab_type": "text"
      },
      "source": [
        "## Reshape"
      ]
    },
    {
      "cell_type": "code",
      "metadata": {
        "id": "KZ_TysiqhfoQ",
        "colab_type": "code",
        "colab": {}
      },
      "source": [
        "images = np.moveaxis(images,0,-1)"
      ],
      "execution_count": 0,
      "outputs": []
    },
    {
      "cell_type": "code",
      "metadata": {
        "id": "YojCfRYvhfoS",
        "colab_type": "code",
        "colab": {
          "base_uri": "https://localhost:8080/",
          "height": 34
        },
        "outputId": "e528ac63-127a-4062-92d6-1d039d44fc60"
      },
      "source": [
        "print(\"Images shape : {}; Labels shape : {}\".format(images.shape, image_labels.shape))"
      ],
      "execution_count": 19,
      "outputs": [
        {
          "output_type": "stream",
          "text": [
            "Images shape : (12575, 20, 20, 3); Labels shape : (12575, 3)\n"
          ],
          "name": "stdout"
        }
      ]
    },
    {
      "cell_type": "markdown",
      "metadata": {
        "id": "Aepe9_fkhfoW",
        "colab_type": "text"
      },
      "source": [
        "**The shape we need:**\n",
        "\n",
        "Images shape : (obs, image_dim, image_dim, num_color_channels); Labels shape : (obs, num_classes)"
      ]
    },
    {
      "cell_type": "markdown",
      "metadata": {
        "id": "wiDYcok5hfoX",
        "colab_type": "raw"
      },
      "source": [
        "# to check\n",
        "for trfidx, trf in enumerate(Image_trf):\n",
        "    print('Transformation type: ' + trf)\n",
        "    for idx, image in enumerate(images[:2,:,:,trfidx]):\n",
        "        plt.imshow(image, cmap = \"Greys\")\n",
        "        plt.title(label_names[np.int(np.argwhere(image_labels[idx]))])\n",
        "        plt.show()"
      ]
    },
    {
      "cell_type": "markdown",
      "metadata": {
        "id": "aurIWPq8hfoX",
        "colab_type": "text"
      },
      "source": [
        "# Train - test split without overlap"
      ]
    },
    {
      "cell_type": "code",
      "metadata": {
        "id": "USkzwFC9hfoZ",
        "colab_type": "code",
        "colab": {}
      },
      "source": [
        "images_train, images_test, image_labels_train, image_labels_test = train_test_split(images, \n",
        "                                                                                    image_labels, \n",
        "                                                                                    test_size = .2, \n",
        "                                                                                    random_state = 22\n",
        "                                                                                   )"
      ],
      "execution_count": 0,
      "outputs": []
    },
    {
      "cell_type": "markdown",
      "metadata": {
        "id": "5dRNb_9ehfob",
        "colab_type": "text"
      },
      "source": [
        "## We need to get rid of the first (Image Window Size -1) test data to avoid lookahead bias."
      ]
    },
    {
      "cell_type": "code",
      "metadata": {
        "id": "9JzM_w1Shfoc",
        "colab_type": "code",
        "colab": {}
      },
      "source": [
        "images_test = images_test[(Image_window_size-1):]\n",
        "image_labels_test = image_labels_test[(Image_window_size-1):]"
      ],
      "execution_count": 0,
      "outputs": []
    },
    {
      "cell_type": "code",
      "metadata": {
        "scrolled": true,
        "id": "A7Fyk4zuhfoe",
        "colab_type": "code",
        "colab": {
          "base_uri": "https://localhost:8080/",
          "height": 34
        },
        "outputId": "9ccc1396-c082-401c-d1ff-290f8ffb2ab2"
      },
      "source": [
        "print(\"Train images shape : {}; Train labels shape : {}\".format(images_train.shape, image_labels_train.shape))"
      ],
      "execution_count": 22,
      "outputs": [
        {
          "output_type": "stream",
          "text": [
            "Train images shape : (10060, 20, 20, 3); Train labels shape : (10060, 3)\n"
          ],
          "name": "stdout"
        }
      ]
    },
    {
      "cell_type": "code",
      "metadata": {
        "id": "rNwYHwrLhfoh",
        "colab_type": "code",
        "colab": {
          "base_uri": "https://localhost:8080/",
          "height": 34
        },
        "outputId": "9d7aa5ed-1285-4e67-9049-fe197aa65923"
      },
      "source": [
        "print(\"Test images shape : {}; Test labels shape : {}\".format(images_test.shape, image_labels_test.shape))"
      ],
      "execution_count": 23,
      "outputs": [
        {
          "output_type": "stream",
          "text": [
            "Test images shape : (2496, 20, 20, 3); Test labels shape : (2496, 3)\n"
          ],
          "name": "stdout"
        }
      ]
    },
    {
      "cell_type": "markdown",
      "metadata": {
        "id": "BVq3ALOWhfom",
        "colab_type": "text"
      },
      "source": [
        "# The Deep CNN"
      ]
    },
    {
      "cell_type": "markdown",
      "metadata": {
        "id": "3C6ppdG9hfom",
        "colab_type": "text"
      },
      "source": [
        "## Hyperparameter settings"
      ]
    },
    {
      "cell_type": "code",
      "metadata": {
        "id": "LekmlYishfon",
        "colab_type": "code",
        "colab": {}
      },
      "source": [
        "training_iters = 120\n",
        "learning_rate = 0.001\n",
        "batch_size = 128"
      ],
      "execution_count": 0,
      "outputs": []
    },
    {
      "cell_type": "markdown",
      "metadata": {
        "id": "zhu8-HSyhfop",
        "colab_type": "text"
      },
      "source": [
        "### Network Parameters"
      ]
    },
    {
      "cell_type": "code",
      "metadata": {
        "id": "BKsZnvguhfoq",
        "colab_type": "code",
        "colab": {}
      },
      "source": [
        "# image shape (d x d)\n",
        "n_input = images_train.shape[1]\n",
        "\n",
        "# number of classes\n",
        "n_classes =  image_labels_train.shape[1]\n",
        "\n",
        "# dropout\n",
        "dropout = 0.8 # prob. to keep "
      ],
      "execution_count": 0,
      "outputs": []
    },
    {
      "cell_type": "code",
      "metadata": {
        "id": "DM2VGcQxhfos",
        "colab_type": "code",
        "colab": {}
      },
      "source": [
        "# placeholders float type\n",
        "#input placeholder\n",
        "x = tf.placeholder(\"float\", [None, n_input, n_input, num_color_channels])\n",
        "\n",
        "# output placeholder\n",
        "y = tf.placeholder(\"float\", [None, n_classes])\n",
        "\n",
        "# dropout\n",
        "keep_prob = tf.placeholder(tf.float32)"
      ],
      "execution_count": 0,
      "outputs": []
    },
    {
      "cell_type": "markdown",
      "metadata": {
        "id": "kX3wcxXmhfov",
        "colab_type": "text"
      },
      "source": [
        "### Wrappers"
      ]
    },
    {
      "cell_type": "markdown",
      "metadata": {
        "id": "V7afK4DOhfow",
        "colab_type": "text"
      },
      "source": [
        "Because using conv layer multiple times, we define it as a function (strides should be 1 for the first and last (how the convolution filter strides through picture: sliding 1 pixel at once, etc.))"
      ]
    },
    {
      "cell_type": "code",
      "metadata": {
        "id": "77-bWOD9hfow",
        "colab_type": "code",
        "colab": {}
      },
      "source": [
        "def conv2d(x, W, b, strides = 1):\n",
        "    # Conv2D wrapper, with bias and relu activation\n",
        "    x = tf.nn.conv2d(x, W, strides =[1, strides, strides, 1], padding = 'SAME')\n",
        "    x = tf.nn.bias_add(x, b)\n",
        "    return tf.nn.relu(x) # activation ReLu"
      ],
      "execution_count": 0,
      "outputs": []
    },
    {
      "cell_type": "code",
      "metadata": {
        "id": "ZD0Ta56Whfoy",
        "colab_type": "code",
        "colab": {}
      },
      "source": [
        "def conv3d(x, W, b, strides = 1):\n",
        "    # Conv2D wrapper, with bias and relu activation\n",
        "    x = tf.nn.conv2d(x, W, strides =[1, strides, strides, strides, 1], padding = 'SAME')\n",
        "    x = tf.nn.bias_add(x, b)\n",
        "    return tf.nn.relu(x) # activation ReLu"
      ],
      "execution_count": 0,
      "outputs": []
    },
    {
      "cell_type": "code",
      "metadata": {
        "id": "r6ihSThGhfo0",
        "colab_type": "code",
        "colab": {}
      },
      "source": [
        "def maxpool2d(x, k = 2):\n",
        "    return tf.nn.max_pool(x, ksize = [1, k, k, 1], strides = [1, k, k, 1], padding = 'SAME')"
      ],
      "execution_count": 0,
      "outputs": []
    },
    {
      "cell_type": "code",
      "metadata": {
        "id": "9IlQmgZDhfo2",
        "colab_type": "code",
        "colab": {}
      },
      "source": [
        "def maxpool3d(x, k = 2):\n",
        "    return tf.nn.max_pool(x, ksize = [1, k, k, k, 1], strides = [1, k, k, k, 1], padding = 'SAME')"
      ],
      "execution_count": 0,
      "outputs": []
    },
    {
      "cell_type": "code",
      "metadata": {
        "id": "rccZHy78hfo3",
        "colab_type": "code",
        "colab": {}
      },
      "source": [
        "def avgpool2d(x, k = 2):\n",
        "    return tf.nn.avg_pool(x, ksize = [1, k, k, 1], strides = [1, k, k, 1], padding = 'SAME')"
      ],
      "execution_count": 0,
      "outputs": []
    },
    {
      "cell_type": "code",
      "metadata": {
        "id": "NLjwatR7hfo6",
        "colab_type": "code",
        "colab": {}
      },
      "source": [
        "def avgpool3d(x, k = 2):\n",
        "    return tf.nn.avg_pool(x, ksize = [1, k, k, k, 1], strides = [1, k, k, k, 1], padding = 'SAME')"
      ],
      "execution_count": 0,
      "outputs": []
    },
    {
      "cell_type": "markdown",
      "metadata": {
        "id": "oNrWzAglhfo8",
        "colab_type": "text"
      },
      "source": [
        "### Initialization of weights, biases"
      ]
    },
    {
      "cell_type": "markdown",
      "metadata": {
        "id": "GCVTMTsphfo9",
        "colab_type": "text"
      },
      "source": [
        "Xavier initialization: Xavier Glorot & Yoshua Bengio (2010), designed to keep the scale of the gradients roughly the same in all layers."
      ]
    },
    {
      "cell_type": "markdown",
      "metadata": {
        "id": "3i6OXZKthfo-",
        "colab_type": "text"
      },
      "source": [
        "Defining dimension - multiplier for weights of fully connected layer"
      ]
    },
    {
      "cell_type": "code",
      "metadata": {
        "id": "FOTASoiGhfo-",
        "colab_type": "code",
        "colab": {}
      },
      "source": [
        "poolsize1 = 2\n",
        "poolsize2 = 2\n",
        "poolsize3 = 2\n",
        "\n",
        "fc_dim = np.int(np.ceil(np.ceil(np.ceil(n_input/poolsize1)/poolsize2)/poolsize3))"
      ],
      "execution_count": 0,
      "outputs": []
    },
    {
      "cell_type": "code",
      "metadata": {
        "id": "l1HtJXiIhfpA",
        "colab_type": "code",
        "colab": {
          "base_uri": "https://localhost:8080/",
          "height": 213
        },
        "outputId": "1ff033e0-ac87-4833-983b-d7442bfb20a5"
      },
      "source": [
        "weights = {\n",
        "    # (kernel, kernel, input, output)\n",
        "    'wc1' : tf.get_variable('W0', shape = (3, 3, num_color_channels,  32), initializer=tf.contrib.layers.xavier_initializer()), \n",
        "    'wc2' : tf.get_variable('W1', shape = (3, 3, 32, 64), initializer=tf.contrib.layers.xavier_initializer()),\n",
        "    'wc3' : tf.get_variable('W2', shape = (3, 3, 64, 128), initializer=tf.contrib.layers.xavier_initializer()),\n",
        "    'wd1' : tf.get_variable('W3', shape = (fc_dim*fc_dim*128, 128), initializer=tf.contrib.layers.xavier_initializer()), #depends on image size\n",
        "    'out' : tf.get_variable('W4', shape = (128, n_classes), initializer=tf.contrib.layers.xavier_initializer())\n",
        "}\n",
        "\n",
        "biases = {\n",
        "    'bc1' : tf.get_variable('B0', shape = (32), initializer=tf.contrib.layers.xavier_initializer()),\n",
        "    'bc2' : tf.get_variable('B1', shape = (64), initializer=tf.contrib.layers.xavier_initializer()),\n",
        "    'bc3' : tf.get_variable('B2', shape = (128), initializer=tf.contrib.layers.xavier_initializer()),\n",
        "    'bd1' : tf.get_variable('B3', shape = (128), initializer=tf.contrib.layers.xavier_initializer()),\n",
        "    'out' : tf.get_variable('B4', shape = (n_classes), initializer=tf.contrib.layers.xavier_initializer())\n",
        "}"
      ],
      "execution_count": 34,
      "outputs": [
        {
          "output_type": "stream",
          "text": [
            "\n",
            "WARNING: The TensorFlow contrib module will not be included in TensorFlow 2.0.\n",
            "For more information, please see:\n",
            "  * https://github.com/tensorflow/community/blob/master/rfcs/20180907-contrib-sunset.md\n",
            "  * https://github.com/tensorflow/addons\n",
            "If you depend on functionality not listed there, please file an issue.\n",
            "\n",
            "WARNING:tensorflow:From /usr/local/lib/python3.6/dist-packages/tensorflow/python/framework/op_def_library.py:263: colocate_with (from tensorflow.python.framework.ops) is deprecated and will be removed in a future version.\n",
            "Instructions for updating:\n",
            "Colocations handled automatically by placer.\n"
          ],
          "name": "stdout"
        }
      ]
    },
    {
      "cell_type": "markdown",
      "metadata": {
        "id": "PEr1gqcVhfpC",
        "colab_type": "text"
      },
      "source": [
        "### Network Build"
      ]
    },
    {
      "cell_type": "code",
      "metadata": {
        "id": "EDicsCJ7hfpD",
        "colab_type": "code",
        "colab": {}
      },
      "source": [
        "def conv_net(x, weights, biases, dropout):\n",
        "    # here we call conv2d fct. and pass input image x, weights wc1, bias bc1\n",
        "    conv1 = conv2d(x, weights['wc1'], biases['bc1'])\n",
        "    # Avg. pooling (down-sampling), this chooses the avg value of a 2*2 matrix window and outputs a 10*10 matrix (ceil(image_size/2))\n",
        "    conv1 = maxpool2d(conv1, k = poolsize1) # could be maxpooling\n",
        "    \n",
        "    # Convolution layer\n",
        "    \n",
        "    # call conv2d, pass input conv1, weights wc2, biases bc2\n",
        "    conv2 = conv2d(conv1, weights['wc2'], biases['bc2'])\n",
        "    # Avg. pooling (down-sampling), this chooses the avg value of a 2*2 matrix window and outputs a ceil(conv1_len/2) * ceil(conv1_len/2)  matrix\n",
        "    conv2 = maxpool2d(conv2, k = poolsize2)\n",
        "    \n",
        "    conv3 = conv2d(conv2, weights['wc3'], biases['bc3'])\n",
        "    # Avg. pooling (down-sampling), this chooses the avg value of a 2*2 matrix window and outputs a ceil(conv2_len/2)*ceil(conv2_len/2) matrix\n",
        "    conv3 = maxpool2d(conv3, k = poolsize3)\n",
        "    \n",
        "    \n",
        "    # Fully Connected Layer (Dense)\n",
        "    # REshape conv3 output to fit fully connected layer input\n",
        "    fc1 = tf.reshape(conv3, [-1, weights['wd1'].get_shape().as_list()[0]])\n",
        "    fc1 = tf.add(tf.matmul(fc1, weights['wd1']), biases['bd1'])\n",
        "    fc1 = tf.nn.relu(fc1)\n",
        "    \n",
        "     # Apply Dropout\n",
        "    fc1 = tf.nn.dropout(fc1, rate=(1-dropout))\n",
        "    \n",
        "    # Output, class prediction\n",
        "    # finally we multiply the fully connected layer with the weights and bias term for the out\n",
        "    out = tf.add(tf.matmul(fc1, weights['out']), biases['out'])\n",
        "    \n",
        "    return out"
      ],
      "execution_count": 0,
      "outputs": []
    },
    {
      "cell_type": "markdown",
      "metadata": {
        "id": "_3_irWi1hfpE",
        "colab_type": "text"
      },
      "source": [
        "### Loss and Optimizer Nodes"
      ]
    },
    {
      "cell_type": "markdown",
      "metadata": {
        "id": "p1QJ7T2ChfpF",
        "colab_type": "text"
      },
      "source": [
        "Loss funciton here is cross entropy, with the reasoning that it's a fitting loss function due to always being positive and tending towards zero if the neuron gets better in guessing the right label and because it recovers faster from wrong intializations and the learning doesnt slow down\n",
        "\n",
        "Avg. loss over batches to get a  single loss - maybe weighted"
      ]
    },
    {
      "cell_type": "code",
      "metadata": {
        "id": "1LKREt8t9Xak",
        "colab_type": "code",
        "colab": {}
      },
      "source": [
        "pred = conv_net(x, weights, biases, keep_prob)\n",
        "\n",
        "# your class weights\n",
        "class_weights = tf.constant([np.ndarray.tolist(np.sum(image_labels, axis = 0)/np.sum(image_labels))])\n",
        "# class_weights = tf.constant([[.3, .3, .3]])\n",
        "# deduce weights for batch samples based on their true label\n",
        "weights = tf.reduce_sum(class_weights * y, axis=1)\n",
        "# compute your (unweighted) softmax cross entropy loss\n",
        "unweighted_losses = tf.nn.softmax_cross_entropy_with_logits_v2(labels = y, logits = pred)\n",
        "# apply the weights, relying on broadcasting of the multiplication\n",
        "weighted_losses = unweighted_losses * weights\n",
        "# reduce the result to get your final loss\n",
        "cost = tf.reduce_mean(weighted_losses)\n",
        "\n",
        "optimizer = tf.train.AdamOptimizer(learning_rate = learning_rate).minimize(cost)"
      ],
      "execution_count": 0,
      "outputs": []
    },
    {
      "cell_type": "markdown",
      "metadata": {
        "id": "uuF4zMZbhfpH",
        "colab_type": "text"
      },
      "source": [
        "### Evaluate Model Node"
      ]
    },
    {
      "cell_type": "markdown",
      "metadata": {
        "id": "RfzYmkCihfpH",
        "colab_type": "text"
      },
      "source": [
        "U can save a graph and run testing on it later\n",
        "\n",
        "ACCURACY CAN BE CHANGED TO OTHER MEASURE LATER"
      ]
    },
    {
      "cell_type": "code",
      "metadata": {
        "id": "XJVQZvJshfpI",
        "colab_type": "code",
        "colab": {}
      },
      "source": [
        "# Check whether the index of the maximum value of the predicted image is equal to the actual labelled image - both will be a column vector\n",
        "correct_prediction = tf.equal(tf.argmax(pred, 1), tf.argmax(y, 1))\n",
        "\n",
        "# Calculate accuracy across all given images and average them\n",
        "accuracy = tf.reduce_mean(tf.cast(correct_prediction, tf.float32))"
      ],
      "execution_count": 0,
      "outputs": []
    },
    {
      "cell_type": "code",
      "metadata": {
        "id": "9oQRZxyrhfpN",
        "colab_type": "code",
        "colab": {}
      },
      "source": [
        "# Initializing the vars\n",
        "init = [tf.global_variables_initializer(), tf.local_variables_initializer()]\n"
      ],
      "execution_count": 0,
      "outputs": []
    },
    {
      "cell_type": "markdown",
      "metadata": {
        "id": "44kOgjN2hfpQ",
        "colab_type": "text"
      },
      "source": [
        "## Training and testing"
      ]
    },
    {
      "cell_type": "code",
      "metadata": {
        "scrolled": true,
        "id": "ux6Oy8CrhfpQ",
        "colab_type": "code",
        "colab": {
          "base_uri": "https://localhost:8080/",
          "height": 6353
        },
        "outputId": "4e9e2bc3-f693-4fa4-9819-2eca905cff64"
      },
      "source": [
        "with tf.Session() as sess:\n",
        "    sess.run(init)\n",
        "    train_loss = []\n",
        "    test_loss = []\n",
        "    train_accuracy = []\n",
        "    test_accuracy = []\n",
        "    summary_writer = tf.summary.FileWriter('./Output', sess.graph)\n",
        "    for i in range(training_iters):\n",
        "        for batch in range(np.int(np.ceil(len(images_train)/batch_size))):\n",
        "            batch_x = images_train[batch*batch_size : min((batch+1)*batch_size, len(images_train))]\n",
        "            batch_y = image_labels_train[batch*batch_size : min((batch+1)*batch_size, len(image_labels_train))]\n",
        "            \n",
        "            # Run optimization op (backprop)\n",
        "            # Calculate batch loss and accuracy\n",
        "            sess.run(optimizer, feed_dict = {x : batch_x, y : batch_y, keep_prob: dropout})\n",
        "            \n",
        "            loss, acc = sess.run([cost, accuracy], feed_dict = {x : batch_x,\n",
        "                                                                y : batch_y,\n",
        "                                                                keep_prob: 1.})\n",
        "        print(\"Iter \" + str(i) + \", Loss = \" + \\\n",
        "              \"{:.6f}\".format(loss) + \", Training F1 Accuracy = \" + \\\n",
        "              \"{:.5f}\".format(acc)\n",
        "             )\n",
        "        print('Optimization Finished!')\n",
        "\n",
        "        # Calculate accuracy for all test images\n",
        "        test_acc, valid_loss = sess.run([accuracy, cost], feed_dict = {x : images_test,\n",
        "                                                                       y : image_labels_test,\n",
        "                                                                       keep_prob: 1.})\n",
        "        train_loss.append(loss)\n",
        "        test_loss.append(valid_loss)\n",
        "        train_accuracy.append(acc)\n",
        "        test_accuracy.append(test_acc)\n",
        "        print('Testing F1 Accuracy: ', \"{:.5f}\".format(test_acc))\n",
        "    summary_writer.close()"
      ],
      "execution_count": 39,
      "outputs": [
        {
          "output_type": "stream",
          "text": [
            "Iter 0, Loss = 0.303849, Training F1 Accuracy = 0.46053\n",
            "Optimization Finished!\n",
            "Testing F1 Accuracy:  0.48958\n",
            "Iter 1, Loss = 0.254814, Training F1 Accuracy = 0.46053\n",
            "Optimization Finished!\n",
            "Testing F1 Accuracy:  0.48958\n",
            "Iter 2, Loss = 0.250625, Training F1 Accuracy = 0.46053\n",
            "Optimization Finished!\n",
            "Testing F1 Accuracy:  0.48958\n",
            "Iter 3, Loss = 0.245494, Training F1 Accuracy = 0.46053\n",
            "Optimization Finished!\n",
            "Testing F1 Accuracy:  0.48998\n",
            "Iter 4, Loss = 0.241346, Training F1 Accuracy = 0.46053\n",
            "Optimization Finished!\n",
            "Testing F1 Accuracy:  0.48958\n",
            "Iter 5, Loss = 0.238333, Training F1 Accuracy = 0.46053\n",
            "Optimization Finished!\n",
            "Testing F1 Accuracy:  0.48918\n",
            "Iter 6, Loss = 0.233420, Training F1 Accuracy = 0.48684\n",
            "Optimization Finished!\n",
            "Testing F1 Accuracy:  0.48518\n",
            "Iter 7, Loss = 0.233673, Training F1 Accuracy = 0.48684\n",
            "Optimization Finished!\n",
            "Testing F1 Accuracy:  0.48678\n",
            "Iter 8, Loss = 0.229018, Training F1 Accuracy = 0.48684\n",
            "Optimization Finished!\n",
            "Testing F1 Accuracy:  0.48638\n",
            "Iter 9, Loss = 0.222200, Training F1 Accuracy = 0.57895\n",
            "Optimization Finished!\n",
            "Testing F1 Accuracy:  0.50561\n",
            "Iter 10, Loss = 0.217493, Training F1 Accuracy = 0.56579\n",
            "Optimization Finished!\n",
            "Testing F1 Accuracy:  0.49960\n",
            "Iter 11, Loss = 0.213951, Training F1 Accuracy = 0.61842\n",
            "Optimization Finished!\n",
            "Testing F1 Accuracy:  0.50481\n",
            "Iter 12, Loss = 0.204399, Training F1 Accuracy = 0.68421\n",
            "Optimization Finished!\n",
            "Testing F1 Accuracy:  0.51122\n",
            "Iter 13, Loss = 0.196740, Training F1 Accuracy = 0.68421\n",
            "Optimization Finished!\n",
            "Testing F1 Accuracy:  0.50761\n",
            "Iter 14, Loss = 0.190879, Training F1 Accuracy = 0.78947\n",
            "Optimization Finished!\n",
            "Testing F1 Accuracy:  0.50921\n",
            "Iter 15, Loss = 0.193146, Training F1 Accuracy = 0.61842\n",
            "Optimization Finished!\n",
            "Testing F1 Accuracy:  0.51042\n",
            "Iter 16, Loss = 0.180025, Training F1 Accuracy = 0.67105\n",
            "Optimization Finished!\n",
            "Testing F1 Accuracy:  0.50881\n",
            "Iter 17, Loss = 0.152118, Training F1 Accuracy = 0.80263\n",
            "Optimization Finished!\n",
            "Testing F1 Accuracy:  0.52404\n",
            "Iter 18, Loss = 0.139692, Training F1 Accuracy = 0.86842\n",
            "Optimization Finished!\n",
            "Testing F1 Accuracy:  0.50521\n",
            "Iter 19, Loss = 0.146388, Training F1 Accuracy = 0.82895\n",
            "Optimization Finished!\n",
            "Testing F1 Accuracy:  0.49479\n",
            "Iter 20, Loss = 0.159023, Training F1 Accuracy = 0.72368\n",
            "Optimization Finished!\n",
            "Testing F1 Accuracy:  0.50761\n",
            "Iter 21, Loss = 0.160524, Training F1 Accuracy = 0.75000\n",
            "Optimization Finished!\n",
            "Testing F1 Accuracy:  0.49920\n",
            "Iter 22, Loss = 0.138998, Training F1 Accuracy = 0.78947\n",
            "Optimization Finished!\n",
            "Testing F1 Accuracy:  0.51082\n",
            "Iter 23, Loss = 0.102948, Training F1 Accuracy = 0.89474\n",
            "Optimization Finished!\n",
            "Testing F1 Accuracy:  0.50801\n",
            "Iter 24, Loss = 0.114796, Training F1 Accuracy = 0.85526\n",
            "Optimization Finished!\n",
            "Testing F1 Accuracy:  0.51603\n",
            "Iter 25, Loss = 0.103817, Training F1 Accuracy = 0.84211\n",
            "Optimization Finished!\n",
            "Testing F1 Accuracy:  0.50321\n",
            "Iter 26, Loss = 0.097134, Training F1 Accuracy = 0.84211\n",
            "Optimization Finished!\n",
            "Testing F1 Accuracy:  0.50160\n",
            "Iter 27, Loss = 0.076777, Training F1 Accuracy = 0.86842\n",
            "Optimization Finished!\n",
            "Testing F1 Accuracy:  0.50080\n",
            "Iter 28, Loss = 0.066174, Training F1 Accuracy = 0.93421\n",
            "Optimization Finished!\n",
            "Testing F1 Accuracy:  0.49880\n",
            "Iter 29, Loss = 0.066578, Training F1 Accuracy = 0.90789\n",
            "Optimization Finished!\n",
            "Testing F1 Accuracy:  0.49199\n",
            "Iter 30, Loss = 0.064906, Training F1 Accuracy = 0.92105\n",
            "Optimization Finished!\n",
            "Testing F1 Accuracy:  0.48878\n",
            "Iter 31, Loss = 0.070451, Training F1 Accuracy = 0.94737\n",
            "Optimization Finished!\n",
            "Testing F1 Accuracy:  0.50962\n",
            "Iter 32, Loss = 0.074441, Training F1 Accuracy = 0.93421\n",
            "Optimization Finished!\n",
            "Testing F1 Accuracy:  0.52204\n",
            "Iter 33, Loss = 0.067201, Training F1 Accuracy = 0.93421\n",
            "Optimization Finished!\n",
            "Testing F1 Accuracy:  0.51202\n",
            "Iter 34, Loss = 0.048207, Training F1 Accuracy = 0.96053\n",
            "Optimization Finished!\n",
            "Testing F1 Accuracy:  0.50801\n",
            "Iter 35, Loss = 0.042652, Training F1 Accuracy = 0.96053\n",
            "Optimization Finished!\n",
            "Testing F1 Accuracy:  0.51282\n",
            "Iter 36, Loss = 0.031935, Training F1 Accuracy = 1.00000\n",
            "Optimization Finished!\n",
            "Testing F1 Accuracy:  0.49880\n",
            "Iter 37, Loss = 0.026538, Training F1 Accuracy = 1.00000\n",
            "Optimization Finished!\n",
            "Testing F1 Accuracy:  0.51082\n",
            "Iter 38, Loss = 0.026496, Training F1 Accuracy = 0.97368\n",
            "Optimization Finished!\n",
            "Testing F1 Accuracy:  0.51042\n",
            "Iter 39, Loss = 0.038442, Training F1 Accuracy = 0.93421\n",
            "Optimization Finished!\n",
            "Testing F1 Accuracy:  0.51002\n",
            "Iter 40, Loss = 0.029414, Training F1 Accuracy = 0.97368\n",
            "Optimization Finished!\n",
            "Testing F1 Accuracy:  0.51442\n",
            "Iter 41, Loss = 0.022059, Training F1 Accuracy = 0.98684\n",
            "Optimization Finished!\n",
            "Testing F1 Accuracy:  0.50721\n",
            "Iter 42, Loss = 0.018319, Training F1 Accuracy = 0.98684\n",
            "Optimization Finished!\n",
            "Testing F1 Accuracy:  0.50521\n",
            "Iter 43, Loss = 0.020634, Training F1 Accuracy = 1.00000\n",
            "Optimization Finished!\n",
            "Testing F1 Accuracy:  0.49399\n",
            "Iter 44, Loss = 0.017848, Training F1 Accuracy = 1.00000\n",
            "Optimization Finished!\n",
            "Testing F1 Accuracy:  0.49319\n",
            "Iter 45, Loss = 0.010513, Training F1 Accuracy = 1.00000\n",
            "Optimization Finished!\n",
            "Testing F1 Accuracy:  0.48798\n",
            "Iter 46, Loss = 0.006597, Training F1 Accuracy = 1.00000\n",
            "Optimization Finished!\n",
            "Testing F1 Accuracy:  0.49720\n",
            "Iter 47, Loss = 0.010580, Training F1 Accuracy = 1.00000\n",
            "Optimization Finished!\n",
            "Testing F1 Accuracy:  0.49920\n",
            "Iter 48, Loss = 0.009219, Training F1 Accuracy = 1.00000\n",
            "Optimization Finished!\n",
            "Testing F1 Accuracy:  0.50601\n",
            "Iter 49, Loss = 0.009280, Training F1 Accuracy = 1.00000\n",
            "Optimization Finished!\n",
            "Testing F1 Accuracy:  0.51723\n",
            "Iter 50, Loss = 0.010589, Training F1 Accuracy = 1.00000\n",
            "Optimization Finished!\n",
            "Testing F1 Accuracy:  0.52123\n",
            "Iter 51, Loss = 0.008508, Training F1 Accuracy = 1.00000\n",
            "Optimization Finished!\n",
            "Testing F1 Accuracy:  0.51803\n",
            "Iter 52, Loss = 0.006514, Training F1 Accuracy = 1.00000\n",
            "Optimization Finished!\n",
            "Testing F1 Accuracy:  0.50601\n",
            "Iter 53, Loss = 0.005956, Training F1 Accuracy = 1.00000\n",
            "Optimization Finished!\n",
            "Testing F1 Accuracy:  0.51002\n",
            "Iter 54, Loss = 0.004710, Training F1 Accuracy = 1.00000\n",
            "Optimization Finished!\n",
            "Testing F1 Accuracy:  0.50921\n",
            "Iter 55, Loss = 0.010613, Training F1 Accuracy = 0.98684\n",
            "Optimization Finished!\n",
            "Testing F1 Accuracy:  0.49599\n",
            "Iter 56, Loss = 0.004340, Training F1 Accuracy = 1.00000\n",
            "Optimization Finished!\n",
            "Testing F1 Accuracy:  0.50401\n",
            "Iter 57, Loss = 0.007726, Training F1 Accuracy = 0.98684\n",
            "Optimization Finished!\n",
            "Testing F1 Accuracy:  0.51603\n",
            "Iter 58, Loss = 0.010295, Training F1 Accuracy = 0.98684\n",
            "Optimization Finished!\n",
            "Testing F1 Accuracy:  0.52404\n",
            "Iter 59, Loss = 0.009859, Training F1 Accuracy = 0.98684\n",
            "Optimization Finished!\n",
            "Testing F1 Accuracy:  0.52604\n",
            "Iter 60, Loss = 0.002747, Training F1 Accuracy = 1.00000\n",
            "Optimization Finished!\n",
            "Testing F1 Accuracy:  0.50321\n",
            "Iter 61, Loss = 0.003818, Training F1 Accuracy = 1.00000\n",
            "Optimization Finished!\n",
            "Testing F1 Accuracy:  0.49479\n",
            "Iter 62, Loss = 0.002533, Training F1 Accuracy = 1.00000\n",
            "Optimization Finished!\n",
            "Testing F1 Accuracy:  0.50601\n",
            "Iter 63, Loss = 0.002257, Training F1 Accuracy = 1.00000\n",
            "Optimization Finished!\n",
            "Testing F1 Accuracy:  0.49840\n",
            "Iter 64, Loss = 0.003757, Training F1 Accuracy = 1.00000\n",
            "Optimization Finished!\n",
            "Testing F1 Accuracy:  0.49439\n",
            "Iter 65, Loss = 0.002320, Training F1 Accuracy = 1.00000\n",
            "Optimization Finished!\n",
            "Testing F1 Accuracy:  0.49479\n",
            "Iter 66, Loss = 0.004825, Training F1 Accuracy = 1.00000\n",
            "Optimization Finished!\n",
            "Testing F1 Accuracy:  0.50321\n",
            "Iter 67, Loss = 0.004852, Training F1 Accuracy = 1.00000\n",
            "Optimization Finished!\n",
            "Testing F1 Accuracy:  0.49679\n",
            "Iter 68, Loss = 0.001982, Training F1 Accuracy = 1.00000\n",
            "Optimization Finished!\n",
            "Testing F1 Accuracy:  0.50280\n",
            "Iter 69, Loss = 0.001717, Training F1 Accuracy = 1.00000\n",
            "Optimization Finished!\n",
            "Testing F1 Accuracy:  0.51562\n",
            "Iter 70, Loss = 0.001901, Training F1 Accuracy = 1.00000\n",
            "Optimization Finished!\n",
            "Testing F1 Accuracy:  0.50321\n",
            "Iter 71, Loss = 0.003040, Training F1 Accuracy = 1.00000\n",
            "Optimization Finished!\n",
            "Testing F1 Accuracy:  0.51362\n",
            "Iter 72, Loss = 0.002002, Training F1 Accuracy = 1.00000\n",
            "Optimization Finished!\n",
            "Testing F1 Accuracy:  0.50280\n",
            "Iter 73, Loss = 0.001208, Training F1 Accuracy = 1.00000\n",
            "Optimization Finished!\n",
            "Testing F1 Accuracy:  0.50160\n",
            "Iter 74, Loss = 0.000991, Training F1 Accuracy = 1.00000\n",
            "Optimization Finished!\n",
            "Testing F1 Accuracy:  0.51082\n",
            "Iter 75, Loss = 0.000820, Training F1 Accuracy = 1.00000\n",
            "Optimization Finished!\n",
            "Testing F1 Accuracy:  0.49599\n",
            "Iter 76, Loss = 0.000690, Training F1 Accuracy = 1.00000\n",
            "Optimization Finished!\n",
            "Testing F1 Accuracy:  0.49119\n",
            "Iter 77, Loss = 0.000615, Training F1 Accuracy = 1.00000\n",
            "Optimization Finished!\n",
            "Testing F1 Accuracy:  0.49599\n",
            "Iter 78, Loss = 0.001728, Training F1 Accuracy = 1.00000\n",
            "Optimization Finished!\n",
            "Testing F1 Accuracy:  0.49639\n",
            "Iter 79, Loss = 0.001682, Training F1 Accuracy = 1.00000\n",
            "Optimization Finished!\n",
            "Testing F1 Accuracy:  0.49519\n",
            "Iter 80, Loss = 0.002559, Training F1 Accuracy = 1.00000\n",
            "Optimization Finished!\n",
            "Testing F1 Accuracy:  0.49720\n",
            "Iter 81, Loss = 0.001637, Training F1 Accuracy = 1.00000\n",
            "Optimization Finished!\n",
            "Testing F1 Accuracy:  0.50601\n",
            "Iter 82, Loss = 0.003095, Training F1 Accuracy = 1.00000\n",
            "Optimization Finished!\n",
            "Testing F1 Accuracy:  0.50721\n",
            "Iter 83, Loss = 0.005596, Training F1 Accuracy = 0.98684\n",
            "Optimization Finished!\n",
            "Testing F1 Accuracy:  0.49479\n",
            "Iter 84, Loss = 0.003160, Training F1 Accuracy = 0.98684\n",
            "Optimization Finished!\n",
            "Testing F1 Accuracy:  0.50000\n",
            "Iter 85, Loss = 0.001915, Training F1 Accuracy = 1.00000\n",
            "Optimization Finished!\n",
            "Testing F1 Accuracy:  0.50321\n",
            "Iter 86, Loss = 0.000656, Training F1 Accuracy = 1.00000\n",
            "Optimization Finished!\n",
            "Testing F1 Accuracy:  0.50240\n",
            "Iter 87, Loss = 0.000774, Training F1 Accuracy = 1.00000\n",
            "Optimization Finished!\n",
            "Testing F1 Accuracy:  0.51042\n",
            "Iter 88, Loss = 0.000787, Training F1 Accuracy = 1.00000\n",
            "Optimization Finished!\n",
            "Testing F1 Accuracy:  0.50881\n",
            "Iter 89, Loss = 0.002562, Training F1 Accuracy = 1.00000\n",
            "Optimization Finished!\n",
            "Testing F1 Accuracy:  0.51202\n",
            "Iter 90, Loss = 0.000766, Training F1 Accuracy = 1.00000\n",
            "Optimization Finished!\n",
            "Testing F1 Accuracy:  0.51162\n",
            "Iter 91, Loss = 0.000334, Training F1 Accuracy = 1.00000\n",
            "Optimization Finished!\n",
            "Testing F1 Accuracy:  0.50200\n",
            "Iter 92, Loss = 0.000386, Training F1 Accuracy = 1.00000\n",
            "Optimization Finished!\n",
            "Testing F1 Accuracy:  0.50160\n",
            "Iter 93, Loss = 0.001624, Training F1 Accuracy = 1.00000\n",
            "Optimization Finished!\n",
            "Testing F1 Accuracy:  0.50401\n",
            "Iter 94, Loss = 0.000926, Training F1 Accuracy = 1.00000\n",
            "Optimization Finished!\n",
            "Testing F1 Accuracy:  0.50120\n",
            "Iter 95, Loss = 0.000691, Training F1 Accuracy = 1.00000\n",
            "Optimization Finished!\n",
            "Testing F1 Accuracy:  0.49319\n",
            "Iter 96, Loss = 0.002748, Training F1 Accuracy = 1.00000\n",
            "Optimization Finished!\n",
            "Testing F1 Accuracy:  0.49319\n",
            "Iter 97, Loss = 0.001175, Training F1 Accuracy = 1.00000\n",
            "Optimization Finished!\n",
            "Testing F1 Accuracy:  0.49479\n",
            "Iter 98, Loss = 0.001023, Training F1 Accuracy = 1.00000\n",
            "Optimization Finished!\n",
            "Testing F1 Accuracy:  0.49599\n",
            "Iter 99, Loss = 0.001115, Training F1 Accuracy = 1.00000\n",
            "Optimization Finished!\n",
            "Testing F1 Accuracy:  0.50481\n",
            "Iter 100, Loss = 0.000413, Training F1 Accuracy = 1.00000\n",
            "Optimization Finished!\n",
            "Testing F1 Accuracy:  0.49679\n",
            "Iter 101, Loss = 0.000511, Training F1 Accuracy = 1.00000\n",
            "Optimization Finished!\n",
            "Testing F1 Accuracy:  0.50120\n",
            "Iter 102, Loss = 0.000825, Training F1 Accuracy = 1.00000\n",
            "Optimization Finished!\n",
            "Testing F1 Accuracy:  0.49359\n",
            "Iter 103, Loss = 0.000764, Training F1 Accuracy = 1.00000\n",
            "Optimization Finished!\n",
            "Testing F1 Accuracy:  0.49479\n",
            "Iter 104, Loss = 0.001500, Training F1 Accuracy = 1.00000\n",
            "Optimization Finished!\n",
            "Testing F1 Accuracy:  0.49639\n",
            "Iter 105, Loss = 0.001371, Training F1 Accuracy = 1.00000\n",
            "Optimization Finished!\n",
            "Testing F1 Accuracy:  0.48918\n",
            "Iter 106, Loss = 0.001070, Training F1 Accuracy = 1.00000\n",
            "Optimization Finished!\n",
            "Testing F1 Accuracy:  0.50080\n",
            "Iter 107, Loss = 0.002287, Training F1 Accuracy = 1.00000\n",
            "Optimization Finished!\n",
            "Testing F1 Accuracy:  0.50521\n",
            "Iter 108, Loss = 0.000378, Training F1 Accuracy = 1.00000\n",
            "Optimization Finished!\n",
            "Testing F1 Accuracy:  0.48878\n",
            "Iter 109, Loss = 0.000589, Training F1 Accuracy = 1.00000\n",
            "Optimization Finished!\n",
            "Testing F1 Accuracy:  0.49239\n",
            "Iter 110, Loss = 0.000076, Training F1 Accuracy = 1.00000\n",
            "Optimization Finished!\n",
            "Testing F1 Accuracy:  0.50040\n",
            "Iter 111, Loss = 0.000876, Training F1 Accuracy = 1.00000\n",
            "Optimization Finished!\n",
            "Testing F1 Accuracy:  0.49800\n",
            "Iter 112, Loss = 0.000591, Training F1 Accuracy = 1.00000\n",
            "Optimization Finished!\n",
            "Testing F1 Accuracy:  0.50200\n",
            "Iter 113, Loss = 0.000835, Training F1 Accuracy = 1.00000\n",
            "Optimization Finished!\n",
            "Testing F1 Accuracy:  0.50240\n",
            "Iter 114, Loss = 0.000558, Training F1 Accuracy = 1.00000\n",
            "Optimization Finished!\n",
            "Testing F1 Accuracy:  0.51042\n",
            "Iter 115, Loss = 0.000355, Training F1 Accuracy = 1.00000\n",
            "Optimization Finished!\n",
            "Testing F1 Accuracy:  0.50401\n",
            "Iter 116, Loss = 0.000435, Training F1 Accuracy = 1.00000\n",
            "Optimization Finished!\n",
            "Testing F1 Accuracy:  0.50120\n",
            "Iter 117, Loss = 0.000393, Training F1 Accuracy = 1.00000\n",
            "Optimization Finished!\n",
            "Testing F1 Accuracy:  0.49760\n",
            "Iter 118, Loss = 0.001786, Training F1 Accuracy = 1.00000\n",
            "Optimization Finished!\n",
            "Testing F1 Accuracy:  0.50401\n",
            "Iter 119, Loss = 0.000186, Training F1 Accuracy = 1.00000\n",
            "Optimization Finished!\n",
            "Testing F1 Accuracy:  0.50481\n"
          ],
          "name": "stdout"
        }
      ]
    }
  ]
}