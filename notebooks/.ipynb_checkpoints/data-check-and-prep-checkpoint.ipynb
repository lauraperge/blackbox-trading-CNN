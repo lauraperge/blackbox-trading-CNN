{
 "cells": [
  {
   "cell_type": "markdown",
   "metadata": {},
   "source": [
    "Here I use the premade modules to \n",
    "* read in, clean and \n",
    "* transform the raw input data. \n",
    "\n",
    "Then I evaluate the transformed data.\n",
    "\n",
    "**The output should be a suitable input for a tensorflow CNN model.**"
   ]
  },
  {
   "cell_type": "markdown",
   "metadata": {},
   "source": [
    "## Contents\n",
    "\n",
    "[1. Dependencies](#sec1)\n",
    "\n",
    "[2. Data cleaning](#sec2)\n",
    "\n",
    "[3. Data labelling & image transformation](#sec3)\n",
    "\n",
    "[4. Explore resulting images](#sec4)"
   ]
  },
  {
   "cell_type": "markdown",
   "metadata": {},
   "source": [
    "## 1. Dependencies\n",
    "<a id = 'sec1'></a>"
   ]
  },
  {
   "cell_type": "code",
   "execution_count": null,
   "metadata": {},
   "outputs": [],
   "source": [
    "import pandas as pd\n",
    "import numpy as np\n",
    "import matplotlib.pyplot as plt\n",
    "from sklearn.preprocessing import MinMaxScaler\n",
    "\n",
    "import sys\n",
    "sys.path.append('../utils/')\n",
    "import data_cleaning \n",
    "from labelled_image_preparation import data_to_labelled_img\n",
    "from labels import trading_strategies\n",
    "from transform  import gramian_angular_field, recurrence_plot, markov_transition_field\n",
    "from visualize import ts_with_markers\n"
   ]
  },
  {
   "cell_type": "markdown",
   "metadata": {},
   "source": [
    "## 2. Data cleaning\n",
    "<a id = 'sec2'></a>"
   ]
  },
  {
   "cell_type": "markdown",
   "metadata": {},
   "source": [
    "### Before cleaning : quick report"
   ]
  },
  {
   "cell_type": "code",
   "execution_count": null,
   "metadata": {},
   "outputs": [],
   "source": [
    "# data_cleaning.report()"
   ]
  },
  {
   "cell_type": "markdown",
   "metadata": {},
   "source": [
    "### Data related parameter settings\n"
   ]
  },
  {
   "cell_type": "code",
   "execution_count": null,
   "metadata": {},
   "outputs": [],
   "source": [
    "path = \"../data/gemini_BTCUSD\"\n",
    "name = \"gemini_BTCUSD\"\n",
    "VarName = \"Close\"\n",
    "Freq = \"3H\""
   ]
  },
  {
   "cell_type": "code",
   "execution_count": null,
   "metadata": {},
   "outputs": [],
   "source": [
    "data = data_cleaning.create_cleaned_set(\n",
    "    file_with_path=path,\n",
    "    varname=VarName,\n",
    "    datename=\"Date\",\n",
    "    datetime_last=\"2018-08-23 01:50:00\",\n",
    "    freq = Freq\n",
    ")"
   ]
  },
  {
   "cell_type": "code",
   "execution_count": null,
   "metadata": {},
   "outputs": [],
   "source": [
    "data.head()"
   ]
  },
  {
   "cell_type": "code",
   "execution_count": null,
   "metadata": {},
   "outputs": [],
   "source": [
    "data.info()"
   ]
  },
  {
   "cell_type": "code",
   "execution_count": null,
   "metadata": {},
   "outputs": [],
   "source": [
    "data.describe()"
   ]
  },
  {
   "cell_type": "code",
   "execution_count": null,
   "metadata": {
    "scrolled": true
   },
   "outputs": [],
   "source": [
    "data.plot(grid = True)"
   ]
  },
  {
   "cell_type": "markdown",
   "metadata": {},
   "source": [
    "## Data Labelling & Image transformation\n",
    "<a id = 'sec3'></a>"
   ]
  },
  {
   "cell_type": "markdown",
   "metadata": {},
   "source": [
    "### Decide hyperparameters of transformation"
   ]
  },
  {
   "cell_type": "code",
   "execution_count": null,
   "metadata": {},
   "outputs": [],
   "source": [
    "Label_window_size = 3\n",
    "Image_window_size = 20\n",
    "\n",
    "# image transformation strategy (will be for all)\n",
    "Image_trf = \"MTF\""
   ]
  },
  {
   "cell_type": "code",
   "execution_count": null,
   "metadata": {},
   "outputs": [],
   "source": [
    "labelled_pd, images, image_labels, label_names = data_to_labelled_img(\n",
    "    data=data, \n",
    "    column_name=VarName, \n",
    "    label_window_size = Label_window_size, \n",
    "    image_window_size = Image_window_size, \n",
    "    image_trf_strat = Image_trf\n",
    ")"
   ]
  },
  {
   "cell_type": "code",
   "execution_count": null,
   "metadata": {
    "scrolled": true
   },
   "outputs": [],
   "source": [
    "labelled_pd.describe()"
   ]
  },
  {
   "cell_type": "code",
   "execution_count": null,
   "metadata": {},
   "outputs": [],
   "source": [
    "np.amax(images)"
   ]
  },
  {
   "cell_type": "code",
   "execution_count": null,
   "metadata": {},
   "outputs": [],
   "source": [
    "np.amin(images)"
   ]
  },
  {
   "cell_type": "markdown",
   "metadata": {},
   "source": [
    "### Show labelled data"
   ]
  },
  {
   "cell_type": "code",
   "execution_count": null,
   "metadata": {
    "scrolled": true
   },
   "outputs": [],
   "source": [
    "fig = ts_with_markers.plot_ts_markers(data = labelled_pd,\n",
    "        main_col = 'Series',\n",
    "        by_col = \"Strategy\",\n",
    "        to_mark = [\"Sell\", \"Buy\"],\n",
    "        color = ['g', 'r'],\n",
    "        marker_type = ['v', '^']\n",
    "        )\n",
    "fig.set_size_inches(20, 10)\n",
    "fig.show()"
   ]
  },
  {
   "cell_type": "markdown",
   "metadata": {},
   "source": [
    "## If Recurrence Plot: Normalize images between 0 and 1"
   ]
  },
  {
   "cell_type": "code",
   "execution_count": null,
   "metadata": {},
   "outputs": [],
   "source": [
    "if Image_trf == \"RP\":\n",
    "    for image in images:\n",
    "        scaler = MinMaxScaler(feature_range=(0, 1), copy=True)\n",
    "        scaler.fit(image)\n",
    "        image = scaler.transform(image)\n",
    "\n",
    "# Fixing floating point inaccuracy\n",
    "images = np.where(images >= 1., 1., images)\n",
    "images = np.where(images <= 0., 0., images)"
   ]
  },
  {
   "cell_type": "markdown",
   "metadata": {},
   "source": [
    "### Print images"
   ]
  },
  {
   "cell_type": "code",
   "execution_count": null,
   "metadata": {},
   "outputs": [],
   "source": [
    "for idx, image in enumerate(images):\n",
    "    plt.imshow(image, cmap = \"Greys\")\n",
    "    plt.title(label_names[np.int(np.argwhere(image_labels[idx]))])\n",
    "    plt.show()"
   ]
  },
  {
   "cell_type": "markdown",
   "metadata": {},
   "source": [
    "## Save images and labels"
   ]
  },
  {
   "cell_type": "code",
   "execution_count": null,
   "metadata": {},
   "outputs": [],
   "source": [
    "np.savez('../data/test_'+ str(name) + \"_\" + str(VarName) + \"_\" + str(Freq) + \"_LWS\" + str(Label_window_size) + \"_IWS\" + str(Image_window_size) + \"_Trf\" + str(Image_trf),\n",
    "         images = images, image_labels = image_labels, label_names = label_names\n",
    "        )"
   ]
  }
 ],
 "metadata": {
  "kernelspec": {
   "display_name": "Python 3",
   "language": "python",
   "name": "python3"
  },
  "language_info": {
   "codemirror_mode": {
    "name": "ipython",
    "version": 3
   },
   "file_extension": ".py",
   "mimetype": "text/x-python",
   "name": "python",
   "nbconvert_exporter": "python",
   "pygments_lexer": "ipython3",
   "version": "3.7.1"
  }
 },
 "nbformat": 4,
 "nbformat_minor": 2
}
