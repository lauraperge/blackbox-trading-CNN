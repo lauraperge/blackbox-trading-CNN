{
  "nbformat": 4,
  "nbformat_minor": 0,
  "metadata": {
    "colab": {
      "name": "CNN_keras_multiple_color_channels.ipynb",
      "version": "0.3.2",
      "provenance": [],
      "collapsed_sections": [
        "V1JfemSHSmEA",
        "O3OrEx_zSmET",
        "EH5WJycASmE1",
        "kAf52xh9SmE_",
        "gHRxsdZPrTfY",
        "OoEApNTlSmFB",
        "nJWSfQMGSmFI",
        "Udum5f_5SmFS"
      ]
    },
    "language_info": {
      "codemirror_mode": {
        "name": "ipython",
        "version": 3
      },
      "file_extension": ".py",
      "mimetype": "text/x-python",
      "name": "python",
      "nbconvert_exporter": "python",
      "pygments_lexer": "ipython3",
      "version": "3.7.1"
    },
    "kernelspec": {
      "display_name": "Python 3",
      "language": "python",
      "name": "python3"
    }
  },
  "cells": [
    {
      "cell_type": "code",
      "metadata": {
        "id": "8Ym6foWJSmD7",
        "colab_type": "code",
        "colab": {}
      },
      "source": [
        "import numpy as np\n",
        "import pandas as pd\n",
        "import matplotlib.pyplot as plt\n",
        "import seaborn as sn\n",
        "%matplotlib inline\n",
        "from sklearn.model_selection import TimeSeriesSplit\n",
        "from sklearn.utils import class_weight\n",
        "from sklearn.metrics import f1_score, confusion_matrix\n",
        "import time\n",
        "\n",
        "import tensorflow as tf\n",
        "from keras.models import Sequential\n",
        "from keras.layers import Dense, Conv2D, MaxPooling2D, Dropout, Flatten\n",
        "from keras import regularizers"
      ],
      "execution_count": 0,
      "outputs": []
    },
    {
      "cell_type": "code",
      "metadata": {
        "id": "QAxro-G8Sq-s",
        "colab_type": "code",
        "outputId": "927d262f-8f8b-4621-9294-445404b2fb74",
        "colab": {
          "base_uri": "https://localhost:8080/",
          "height": 34
        }
      },
      "source": [
        "from google.colab import drive\n",
        "drive.mount('/content/drive')"
      ],
      "execution_count": 78,
      "outputs": [
        {
          "output_type": "stream",
          "text": [
            "Drive already mounted at /content/drive; to attempt to forcibly remount, call drive.mount(\"/content/drive\", force_remount=True).\n"
          ],
          "name": "stdout"
        }
      ]
    },
    {
      "cell_type": "markdown",
      "metadata": {
        "id": "V1JfemSHSmEA",
        "colab_type": "text"
      },
      "source": [
        "# Load data"
      ]
    },
    {
      "cell_type": "code",
      "metadata": {
        "id": "YSU7KV-DSmEB",
        "colab_type": "code",
        "colab": {}
      },
      "source": [
        "filename = \"test_gemini_BTCUSD_Close_2H_LWS3_IWS20_Trf['RP', 'GADF', 'MTF'].npz\""
      ],
      "execution_count": 0,
      "outputs": []
    },
    {
      "cell_type": "markdown",
      "metadata": {
        "id": "iv13tTxfSmED",
        "colab_type": "text"
      },
      "source": [
        "### Image window sizes"
      ]
    },
    {
      "cell_type": "code",
      "metadata": {
        "id": "LoYxhjw5SmEE",
        "colab_type": "code",
        "outputId": "4e746d02-5fca-4675-d88c-e3da445c0dfd",
        "colab": {
          "base_uri": "https://localhost:8080/",
          "height": 0
        }
      },
      "source": [
        "Image_window_size = np.int(filename[filename.find('_IWS') + 4 : filename.find(\"_Trf\")])\n",
        "Image_window_size"
      ],
      "execution_count": 80,
      "outputs": [
        {
          "output_type": "execute_result",
          "data": {
            "text/plain": [
              "20"
            ]
          },
          "metadata": {
            "tags": []
          },
          "execution_count": 80
        }
      ]
    },
    {
      "cell_type": "markdown",
      "metadata": {
        "id": "hipHiKyQSmEH",
        "colab_type": "text"
      },
      "source": [
        "### Transformation types"
      ]
    },
    {
      "cell_type": "code",
      "metadata": {
        "id": "RFjP8w8cSmEI",
        "colab_type": "code",
        "outputId": "445c58ae-f4f6-4bfe-dbaa-8971be7e9a46",
        "colab": {
          "base_uri": "https://localhost:8080/",
          "height": 0
        }
      },
      "source": [
        "Image_trf = eval(filename[filename.find('_Trf')+4:filename.find('.npz')])\n",
        "Image_trf"
      ],
      "execution_count": 81,
      "outputs": [
        {
          "output_type": "execute_result",
          "data": {
            "text/plain": [
              "['RP', 'GADF', 'MTF']"
            ]
          },
          "metadata": {
            "tags": []
          },
          "execution_count": 81
        }
      ]
    },
    {
      "cell_type": "code",
      "metadata": {
        "id": "h1k0ZJnKSmEL",
        "colab_type": "code",
        "outputId": "fcd0b30a-5b9a-4221-e961-bfdc8352e590",
        "colab": {
          "base_uri": "https://localhost:8080/",
          "height": 0
        }
      },
      "source": [
        "num_color_channels = len(Image_trf)\n",
        "num_color_channels"
      ],
      "execution_count": 82,
      "outputs": [
        {
          "output_type": "execute_result",
          "data": {
            "text/plain": [
              "3"
            ]
          },
          "metadata": {
            "tags": []
          },
          "execution_count": 82
        }
      ]
    },
    {
      "cell_type": "markdown",
      "metadata": {
        "id": "eTK7AVNHSmEO",
        "colab_type": "text"
      },
      "source": [
        "#### In case file is missing run the data-check-and-prep with preferred settings and use the new file's name (cannot upload too big files to Git)"
      ]
    },
    {
      "cell_type": "code",
      "metadata": {
        "id": "tW_ZDfwUSmEP",
        "colab_type": "code",
        "colab": {}
      },
      "source": [
        "data = np.load('/content/drive/My Drive/Colab Notebooks/CNN/' + filename)"
      ],
      "execution_count": 0,
      "outputs": []
    },
    {
      "cell_type": "code",
      "metadata": {
        "id": "sg7LsI0RSmER",
        "colab_type": "code",
        "colab": {}
      },
      "source": [
        "images = data['images']\n",
        "image_labels = data['image_labels']\n",
        "label_names = data['label_names']"
      ],
      "execution_count": 0,
      "outputs": []
    },
    {
      "cell_type": "markdown",
      "metadata": {
        "id": "O3OrEx_zSmET",
        "colab_type": "text"
      },
      "source": [
        "# Check data"
      ]
    },
    {
      "cell_type": "code",
      "metadata": {
        "id": "AFJ1Bc-tSmEU",
        "colab_type": "code",
        "colab": {}
      },
      "source": [
        "# for quick check: only 1000 images\n",
        "# images = images[:1000]\n",
        "# image_labels = image_labels[:1000]"
      ],
      "execution_count": 0,
      "outputs": []
    },
    {
      "cell_type": "code",
      "metadata": {
        "id": "9c5J7RFmSmEW",
        "colab_type": "code",
        "colab": {
          "base_uri": "https://localhost:8080/",
          "height": 0
        },
        "outputId": "09c32f13-3462-47f4-e871-b22e7b19ff9d"
      },
      "source": [
        "images.shape"
      ],
      "execution_count": 86,
      "outputs": [
        {
          "output_type": "execute_result",
          "data": {
            "text/plain": [
              "(12574, 20, 20, 3)"
            ]
          },
          "metadata": {
            "tags": []
          },
          "execution_count": 86
        }
      ]
    },
    {
      "cell_type": "code",
      "metadata": {
        "id": "ULNsvkGsSmEZ",
        "colab_type": "code",
        "colab": {
          "base_uri": "https://localhost:8080/",
          "height": 0
        },
        "outputId": "999138d1-1188-418a-9ae5-28268ff6efec"
      },
      "source": [
        "image_labels.shape"
      ],
      "execution_count": 87,
      "outputs": [
        {
          "output_type": "execute_result",
          "data": {
            "text/plain": [
              "(12574, 3)"
            ]
          },
          "metadata": {
            "tags": []
          },
          "execution_count": 87
        }
      ]
    },
    {
      "cell_type": "code",
      "metadata": {
        "id": "xS5aKYc_SmEc",
        "colab_type": "code",
        "colab": {
          "base_uri": "https://localhost:8080/",
          "height": 0
        },
        "outputId": "5bd66550-b199-4db5-eba7-fcf92a735c38"
      },
      "source": [
        "print(\"max: {}; min: {}\".format(np.amax(images), np.amin(images)))"
      ],
      "execution_count": 88,
      "outputs": [
        {
          "output_type": "stream",
          "text": [
            "max: 1.0; min: 0.0\n"
          ],
          "name": "stdout"
        }
      ]
    },
    {
      "cell_type": "code",
      "metadata": {
        "id": "HGeeH1XySmEf",
        "colab_type": "code",
        "colab": {
          "base_uri": "https://localhost:8080/",
          "height": 0
        },
        "outputId": "48410cd8-836d-420b-e5c8-31528e3c72e0"
      },
      "source": [
        "label_names = label_names.item()\n",
        "label_names"
      ],
      "execution_count": 89,
      "outputs": [
        {
          "output_type": "execute_result",
          "data": {
            "text/plain": [
              "{0: 'Buy', 1: 'Hold', 2: 'Sell'}"
            ]
          },
          "metadata": {
            "tags": []
          },
          "execution_count": 89
        }
      ]
    },
    {
      "cell_type": "code",
      "metadata": {
        "id": "G8Ixy1QUp-CF",
        "colab_type": "code",
        "colab": {
          "base_uri": "https://localhost:8080/",
          "height": 0
        },
        "outputId": "b98b2200-b74d-4635-8166-e13c121faf72"
      },
      "source": [
        "label_names_array = np.chararray(3, itemsize = 4).decode(\"utf-8\")\n",
        "\n",
        "for key, value in label_names.items():\n",
        "  label_names_array[key] = value\n",
        "label_names_array"
      ],
      "execution_count": 90,
      "outputs": [
        {
          "output_type": "execute_result",
          "data": {
            "text/plain": [
              "array(['Buy', 'Hold', 'Sell'], dtype='<U4')"
            ]
          },
          "metadata": {
            "tags": []
          },
          "execution_count": 90
        }
      ]
    },
    {
      "cell_type": "markdown",
      "metadata": {
        "id": "jAqAag9DSmEj",
        "colab_type": "text"
      },
      "source": [
        "## e.g.:"
      ]
    },
    {
      "cell_type": "code",
      "metadata": {
        "scrolled": false,
        "id": "TsHEife2SmEk",
        "colab_type": "code",
        "colab": {
          "base_uri": "https://localhost:8080/",
          "height": 0
        },
        "outputId": "a78b6426-eb9c-4a08-e975-81275be3803e"
      },
      "source": [
        "for trfidx, trf in enumerate(Image_trf):\n",
        "    print('Transformation type: ' + trf)\n",
        "    for idx, image in enumerate(images[:2,:,:, trfidx]):\n",
        "        plt.imshow(image, cmap = \"Greys\")\n",
        "        plt.title(label_names[np.int(np.argwhere(image_labels[idx]))])\n",
        "        plt.show()"
      ],
      "execution_count": 91,
      "outputs": [
        {
          "output_type": "stream",
          "text": [
            "Transformation type: RP\n"
          ],
          "name": "stdout"
        },
        {
          "output_type": "display_data",
          "data": {
            "image/png": "[encoded data removed]",
            "text/plain": [
              "<Figure size 432x288 with 1 Axes>"
            ]
          },
          "metadata": {
            "tags": []
          }
        },
        {
          "output_type": "display_data",
          "data": {
            "image/png": "[encoded data removed]",
            "text/plain": [
              "<Figure size 432x288 with 1 Axes>"
            ]
          },
          "metadata": {
            "tags": []
          }
        },
        {
          "output_type": "stream",
          "text": [
            "Transformation type: GADF\n"
          ],
          "name": "stdout"
        },
        {
          "output_type": "display_data",
          "data": {
            "image/png": "[encoded data removed]",
            "text/plain": [
              "<Figure size 432x288 with 1 Axes>"
            ]
          },
          "metadata": {
            "tags": []
          }
        },
        {
          "output_type": "display_data",
          "data": {
            "image/png": "[encoded data removed]",
            "text/plain": [
              "<Figure size 432x288 with 1 Axes>"
            ]
          },
          "metadata": {
            "tags": []
          }
        },
        {
          "output_type": "stream",
          "text": [
            "Transformation type: MTF\n"
          ],
          "name": "stdout"
        },
        {
          "output_type": "display_data",
          "data": {
            "image/png": "[encoded data removed]",
            "text/plain": [
              "<Figure size 432x288 with 1 Axes>"
            ]
          },
          "metadata": {
            "tags": []
          }
        },
        {
          "output_type": "display_data",
          "data": {
            "image/png": "[encoded data removed]",
            "text/plain": [
              "<Figure size 432x288 with 1 Axes>"
            ]
          },
          "metadata": {
            "tags": []
          }
        }
      ]
    },
    {
      "cell_type": "code",
      "metadata": {
        "id": "txLP84ZGSmEw",
        "colab_type": "code",
        "colab": {
          "base_uri": "https://localhost:8080/",
          "height": 0
        },
        "outputId": "ea8a761e-c395-44ba-f044-6773cb07bb0b"
      },
      "source": [
        "print(\"Images shape : {}; Labels shape : {}\".format(images.shape, image_labels.shape))"
      ],
      "execution_count": 92,
      "outputs": [
        {
          "output_type": "stream",
          "text": [
            "Images shape : (12574, 20, 20, 3); Labels shape : (12574, 3)\n"
          ],
          "name": "stdout"
        }
      ]
    },
    {
      "cell_type": "markdown",
      "metadata": {
        "id": "EH5WJycASmE1",
        "colab_type": "text"
      },
      "source": [
        "# Train - test split without overlap\n",
        "## We need to get rid of the first (Image Window Size -1) test data to avoid lookahead bias."
      ]
    },
    {
      "cell_type": "code",
      "metadata": {
        "id": "iScqMXmLSmE2",
        "colab_type": "code",
        "colab": {}
      },
      "source": [
        "train_size = np.int(image_labels.shape[0]*.9)\n",
        "images_train = images[:train_size, :]\n",
        "images_test = images[(train_size+Image_window_size-1):]\n",
        "image_labels_train = image_labels[:train_size, :]\n",
        "image_labels_test = image_labels[(train_size+Image_window_size-1):]"
      ],
      "execution_count": 0,
      "outputs": []
    },
    {
      "cell_type": "code",
      "metadata": {
        "scrolled": true,
        "id": "4CB0sqHLSmE6",
        "colab_type": "code",
        "colab": {
          "base_uri": "https://localhost:8080/",
          "height": 0
        },
        "outputId": "14ecce80-7ce5-4d64-90f7-54ceb306dd22"
      },
      "source": [
        "print(\"Train images shape : {}; Train labels shape : {}\".format(images_train.shape, image_labels_train.shape))"
      ],
      "execution_count": 94,
      "outputs": [
        {
          "output_type": "stream",
          "text": [
            "Train images shape : (11316, 20, 20, 3); Train labels shape : (11316, 3)\n"
          ],
          "name": "stdout"
        }
      ]
    },
    {
      "cell_type": "code",
      "metadata": {
        "id": "oghRSsUySmE8",
        "colab_type": "code",
        "colab": {
          "base_uri": "https://localhost:8080/",
          "height": 0
        },
        "outputId": "433e1116-ca4b-4d83-929d-414d831cba9e"
      },
      "source": [
        "print(\"Test images shape : {}; Test labels shape : {}\".format(images_test.shape, image_labels_test.shape))"
      ],
      "execution_count": 95,
      "outputs": [
        {
          "output_type": "stream",
          "text": [
            "Test images shape : (1239, 20, 20, 3); Test labels shape : (1239, 3)\n"
          ],
          "name": "stdout"
        }
      ]
    },
    {
      "cell_type": "markdown",
      "metadata": {
        "id": "I8k-HNpWdevi",
        "colab_type": "text"
      },
      "source": [
        "# Baseline predictions\n",
        "Choosing the biggest class to be the class of all"
      ]
    },
    {
      "cell_type": "code",
      "metadata": {
        "id": "JWLowmaQdckb",
        "colab_type": "code",
        "colab": {
          "base_uri": "https://localhost:8080/",
          "height": 107
        },
        "outputId": "8e6a6490-0dc4-4391-d08a-3af7952c1b0d"
      },
      "source": [
        "basepred = np.zeros(image_labels_test.shape)\n",
        "basepred[:, np.argmax(np.sum(image_labels_test, 0))] = 1.0\n",
        "\n",
        "base_acc = sum(np.equal(np.argmax(basepred, 1), np.argmax(image_labels_test, 1)))/np.sum(image_labels_test)\n",
        "base_f1 = f1_score(y_true = image_labels_test, y_pred = basepred, average = 'macro')\n",
        "# warning F1 due to only label 2 being predicted in baseline\n",
        "\n",
        "print(\"Accuracy: {:.5f}\".format(base_acc))\n",
        "\n",
        "print(\"F1 score: {:.5f}\".format(base_f1))"
      ],
      "execution_count": 96,
      "outputs": [
        {
          "output_type": "stream",
          "text": [
            "Accuracy: 0.42857\n",
            "F1 score: 0.20000\n"
          ],
          "name": "stdout"
        },
        {
          "output_type": "stream",
          "text": [
            "/usr/local/lib/python3.6/dist-packages/sklearn/metrics/classification.py:1437: UndefinedMetricWarning: F-score is ill-defined and being set to 0.0 in labels with no predicted samples.\n",
            "  'precision', 'predicted', average, warn_for)\n"
          ],
          "name": "stderr"
        }
      ]
    },
    {
      "cell_type": "markdown",
      "metadata": {
        "id": "DxLM7ScmSmE-",
        "colab_type": "text"
      },
      "source": [
        "# The Deep CNN"
      ]
    },
    {
      "cell_type": "markdown",
      "metadata": {
        "id": "kAf52xh9SmE_",
        "colab_type": "text"
      },
      "source": [
        "### Custom Keras Eval metrics: F1 Score\n",
        "\n",
        "https://www.kaggle.com/guglielmocamporese/macro-f1-score-keras"
      ]
    },
    {
      "cell_type": "code",
      "metadata": {
        "id": "ObWpnqH7SmE_",
        "colab_type": "code",
        "colab": {}
      },
      "source": [
        "import keras.backend as K\n",
        "\n",
        "def f1(y_true, y_pred):\n",
        "    y_pred = K.round(y_pred)\n",
        "    tp = K.sum(K.cast(y_true*y_pred, 'float'), axis=0)\n",
        "    # tn = K.sum(K.cast((1-y_true)*(1-y_pred), 'float'), axis=0)\n",
        "    fp = K.sum(K.cast((1-y_true)*y_pred, 'float'), axis=0)\n",
        "    fn = K.sum(K.cast(y_true*(1-y_pred), 'float'), axis=0)\n",
        "\n",
        "    p = tp / (tp + fp + K.epsilon())\n",
        "    r = tp / (tp + fn + K.epsilon())\n",
        "\n",
        "    f1 = 2*p*r / (p+r+K.epsilon())\n",
        "    f1 = tf.where(tf.is_nan(f1), tf.zeros_like(f1), f1)\n",
        "    return K.mean(f1)"
      ],
      "execution_count": 0,
      "outputs": []
    },
    {
      "cell_type": "markdown",
      "metadata": {
        "id": "gHRxsdZPrTfY",
        "colab_type": "text"
      },
      "source": [
        "### Custom Time Logging"
      ]
    },
    {
      "cell_type": "code",
      "metadata": {
        "id": "JrGaCY1frXZ7",
        "colab_type": "code",
        "colab": {}
      },
      "source": [
        "import keras.callbacks as keras_cb\n",
        "\n",
        "class TimeHistory(keras_cb.Callback):\n",
        "  def on_train_begin(self, logs={}):\n",
        "    self.times = []\n",
        "\n",
        "  def on_epoch_begin(self, epoch, logs={}):\n",
        "    self.epoch_time_start = time.time()\n",
        "\n",
        "  def on_epoch_end(self, epoch, logs={}):\n",
        "    self.times.append(time.time() - self.epoch_time_start)\n",
        "time_callback = TimeHistory()"
      ],
      "execution_count": 0,
      "outputs": []
    },
    {
      "cell_type": "markdown",
      "metadata": {
        "id": "OoEApNTlSmFB",
        "colab_type": "text"
      },
      "source": [
        "### Network Parameters"
      ]
    },
    {
      "cell_type": "code",
      "metadata": {
        "id": "PhM6GkYnSmFB",
        "colab_type": "code",
        "colab": {}
      },
      "source": [
        "# image shape (d x d)\n",
        "n_input = images_train.shape[1]\n",
        "inputShape = (n_input, n_input, num_color_channels)\n",
        "\n",
        "# number of classes\n",
        "n_classes =  image_labels_train.shape[1]\n",
        "\n",
        "# dropout\n",
        "to_drop = 0.2 # prob. to DROP "
      ],
      "execution_count": 0,
      "outputs": []
    },
    {
      "cell_type": "markdown",
      "metadata": {
        "id": "htX89RpMSmFD",
        "colab_type": "text"
      },
      "source": [
        "## Building the model"
      ]
    },
    {
      "cell_type": "code",
      "metadata": {
        "scrolled": true,
        "id": "btaBgX29SmFE",
        "colab_type": "code",
        "colab": {}
      },
      "source": [
        "def createModel(input_shape, dropout = .2):\n",
        "    model = Sequential()\n",
        "    # Input\n",
        "    model.add(Conv2D(32, \n",
        "                     (3, 3), \n",
        "                     padding='same', \n",
        "                     activation='relu', \n",
        "                     input_shape=input_shape))\n",
        "    \n",
        "    # Convolutions, pooling\n",
        "    # model.add(Conv2D(32, \n",
        "    #                  (3, 3),\n",
        "    #                  padding='same',\n",
        "    #                  activation='relu'))\n",
        "    # model.add(MaxPooling2D(pool_size=(2, 2)))\n",
        "    model.add(Dropout(dropout))\n",
        "  \n",
        "    model.add(Conv2D(64, (3, 3), \n",
        "                     padding='same', \n",
        "                     activation='relu', \n",
        "                     kernel_regularizer=regularizers.l2(0.001)))\n",
        "    model.add(MaxPooling2D(pool_size=(2, 2)))\n",
        "    model.add(Dropout(dropout))\n",
        "  \n",
        "    # model.add(Conv2D(128, (3, 3), \n",
        "    #                  padding='same', \n",
        "    #                  activation='relu', \n",
        "    #                  kernel_regularizer=regularizers.l2(0.001)\n",
        "    #                 ))\n",
        "    \n",
        "    # model.add(MaxPooling2D(pool_size=(2, 2)))\n",
        "      \n",
        "    # Flatten & Dense layers \n",
        "    model.add(Flatten())\n",
        "    \n",
        "    model.add(Dense(512, activation='relu', kernel_regularizer=regularizers.l2(0.0001)))\n",
        "    model.add(Dropout(.2))\n",
        "    model.add(Dense(n_classes, activation='softmax'))\n",
        "  \n",
        "    return model"
      ],
      "execution_count": 0,
      "outputs": []
    },
    {
      "cell_type": "code",
      "metadata": {
        "id": "Pir05RDjSmFG",
        "colab_type": "code",
        "colab": {}
      },
      "source": [
        "model1 = createModel(dropout = to_drop, input_shape = inputShape)"
      ],
      "execution_count": 0,
      "outputs": []
    },
    {
      "cell_type": "markdown",
      "metadata": {
        "id": "nJWSfQMGSmFI",
        "colab_type": "text"
      },
      "source": [
        "## Hyperparameter settings"
      ]
    },
    {
      "cell_type": "code",
      "metadata": {
        "id": "F3QPAcXSSmFJ",
        "colab_type": "code",
        "colab": {}
      },
      "source": [
        "training_iters = 100\n",
        "batch_size = 128"
      ],
      "execution_count": 0,
      "outputs": []
    },
    {
      "cell_type": "markdown",
      "metadata": {
        "id": "hgYC7uqTSmFL",
        "colab_type": "text"
      },
      "source": [
        "### Accounting for imbalance"
      ]
    },
    {
      "cell_type": "code",
      "metadata": {
        "id": "Z1owEJn9SmFL",
        "colab_type": "code",
        "colab": {
          "base_uri": "https://localhost:8080/",
          "height": 0
        },
        "outputId": "05a0fc29-b342-4f78-9d59-007bdab07031"
      },
      "source": [
        "label_names"
      ],
      "execution_count": 103,
      "outputs": [
        {
          "output_type": "execute_result",
          "data": {
            "text/plain": [
              "{0: 'Buy', 1: 'Hold', 2: 'Sell'}"
            ]
          },
          "metadata": {
            "tags": []
          },
          "execution_count": 103
        }
      ]
    },
    {
      "cell_type": "code",
      "metadata": {
        "id": "L7cXGJ1MSmFO",
        "colab_type": "code",
        "colab": {
          "base_uri": "https://localhost:8080/",
          "height": 0
        },
        "outputId": "13fde042-9ee8-47ca-e86e-7bd8a4c075a6"
      },
      "source": [
        "np.sum(image_labels, axis = 0)/np.sum(image_labels)"
      ],
      "execution_count": 104,
      "outputs": [
        {
          "output_type": "execute_result",
          "data": {
            "text/plain": [
              "array([0.26093526, 0.48425322, 0.25481152])"
            ]
          },
          "metadata": {
            "tags": []
          },
          "execution_count": 104
        }
      ]
    },
    {
      "cell_type": "code",
      "metadata": {
        "id": "sr4VxujmSmFQ",
        "colab_type": "code",
        "colab": {
          "base_uri": "https://localhost:8080/",
          "height": 0
        },
        "outputId": "a848565e-020a-4689-fa64-3d479f018012"
      },
      "source": [
        "y_ints = [y.argmax() for y in image_labels_train]\n",
        "class_weights = class_weight.compute_class_weight('balanced',\n",
        "                                                 np.unique(y_ints),\n",
        "                                                 y_ints)\n",
        "class_weight_dict = dict(enumerate(class_weights))\n",
        "class_weight_dict"
      ],
      "execution_count": 105,
      "outputs": [
        {
          "output_type": "execute_result",
          "data": {
            "text/plain": [
              "{0: 1.2917808219178082, 1: 0.6796396396396397, 2: 1.3253689388615602}"
            ]
          },
          "metadata": {
            "tags": []
          },
          "execution_count": 105
        }
      ]
    },
    {
      "cell_type": "markdown",
      "metadata": {
        "id": "Udum5f_5SmFS",
        "colab_type": "text"
      },
      "source": [
        "## Compiling"
      ]
    },
    {
      "cell_type": "code",
      "metadata": {
        "id": "QcgBthyaSmFS",
        "colab_type": "code",
        "colab": {}
      },
      "source": [
        "model1.compile(optimizer='adam',\n",
        "               loss='categorical_crossentropy', \n",
        "               metrics=['accuracy', f1])\n"
      ],
      "execution_count": 0,
      "outputs": []
    },
    {
      "cell_type": "markdown",
      "metadata": {
        "id": "eT7z4axHSmFU",
        "colab_type": "text"
      },
      "source": [
        "## Training"
      ]
    },
    {
      "cell_type": "code",
      "metadata": {
        "scrolled": true,
        "id": "C7oPLe2FSmFU",
        "colab_type": "code",
        "colab": {
          "base_uri": "https://localhost:8080/",
          "height": 1071
        },
        "outputId": "c168793d-31a5-4532-ca55-e6bb1ac27fda"
      },
      "source": [
        "history = model1.fit(images_train, \n",
        "                     image_labels_train, \n",
        "                     batch_size=batch_size, \n",
        "                     epochs=training_iters, verbose=1,\n",
        "                     validation_data=(images_test, image_labels_test),\n",
        "                     class_weight=class_weight_dict,\n",
        "                     callbacks=[time_callback]\n",
        "                    )\n",
        "  \n",
        "model1.evaluate(images_test, image_labels_test)"
      ],
      "execution_count": 107,
      "outputs": [
        {
          "output_type": "stream",
          "text": [
            "Train on 11316 samples, validate on 1239 samples\n",
            "Epoch 1/100\n",
            "11316/11316 [==============================] - 33s 3ms/step - loss: 1.0880 - acc: 0.4523 - f1: 0.2233 - val_loss: 0.9686 - val_acc: 0.5311 - val_f1: 0.4035\n",
            "Epoch 2/100\n",
            "11316/11316 [==============================] - 31s 3ms/step - loss: 0.9013 - acc: 0.4753 - f1: 0.3845 - val_loss: 0.8981 - val_acc: 0.5287 - val_f1: 0.4237\n",
            "Epoch 3/100\n",
            "11316/11316 [==============================] - 32s 3ms/step - loss: 0.8704 - acc: 0.4677 - f1: 0.3962 - val_loss: 0.8707 - val_acc: 0.5424 - val_f1: 0.4355\n",
            "Epoch 4/100\n",
            "11316/11316 [==============================] - 31s 3ms/step - loss: 0.8464 - acc: 0.4718 - f1: 0.3994 - val_loss: 0.8556 - val_acc: 0.5303 - val_f1: 0.4261\n",
            "Epoch 5/100\n",
            "11316/11316 [==============================] - 32s 3ms/step - loss: 0.8407 - acc: 0.4699 - f1: 0.3993 - val_loss: 0.8618 - val_acc: 0.5278 - val_f1: 0.4399\n",
            "Epoch 6/100\n",
            "11316/11316 [==============================] - 32s 3ms/step - loss: 0.8265 - acc: 0.4740 - f1: 0.4036 - val_loss: 0.8431 - val_acc: 0.5311 - val_f1: 0.4170\n",
            "Epoch 7/100\n",
            "11316/11316 [==============================] - 31s 3ms/step - loss: 0.8153 - acc: 0.4851 - f1: 0.4118 - val_loss: 0.8459 - val_acc: 0.5278 - val_f1: 0.4359\n",
            "Epoch 8/100\n",
            "11316/11316 [==============================] - 32s 3ms/step - loss: 0.8092 - acc: 0.4899 - f1: 0.4200 - val_loss: 0.8505 - val_acc: 0.5262 - val_f1: 0.4378\n",
            "Epoch 9/100\n",
            "11316/11316 [==============================] - 32s 3ms/step - loss: 0.8048 - acc: 0.4890 - f1: 0.4201 - val_loss: 0.8677 - val_acc: 0.5230 - val_f1: 0.4226\n",
            "Epoch 10/100\n",
            "11316/11316 [==============================] - 32s 3ms/step - loss: 0.7950 - acc: 0.5042 - f1: 0.4376 - val_loss: 0.8452 - val_acc: 0.5408 - val_f1: 0.4298\n",
            "Epoch 11/100\n",
            "11316/11316 [==============================] - 32s 3ms/step - loss: 0.7877 - acc: 0.5069 - f1: 0.4443 - val_loss: 0.8788 - val_acc: 0.5351 - val_f1: 0.4407\n",
            "Epoch 12/100\n",
            "11316/11316 [==============================] - 32s 3ms/step - loss: 0.7917 - acc: 0.5093 - f1: 0.4500 - val_loss: 0.8712 - val_acc: 0.5456 - val_f1: 0.4593\n",
            "Epoch 13/100\n",
            "11316/11316 [==============================] - 32s 3ms/step - loss: 0.7843 - acc: 0.5201 - f1: 0.4658 - val_loss: 0.8680 - val_acc: 0.5351 - val_f1: 0.4501\n",
            "Epoch 14/100\n",
            "11316/11316 [==============================] - 31s 3ms/step - loss: 0.7723 - acc: 0.5349 - f1: 0.4881 - val_loss: 0.8768 - val_acc: 0.5214 - val_f1: 0.4519\n",
            "Epoch 15/100\n",
            "11316/11316 [==============================] - 32s 3ms/step - loss: 0.7666 - acc: 0.5437 - f1: 0.5041 - val_loss: 0.8836 - val_acc: 0.5416 - val_f1: 0.4560\n",
            "Epoch 16/100\n",
            "11316/11316 [==============================] - 32s 3ms/step - loss: 0.7546 - acc: 0.5613 - f1: 0.5284 - val_loss: 0.8902 - val_acc: 0.5246 - val_f1: 0.4752\n",
            "Epoch 17/100\n",
            "11316/11316 [==============================] - 31s 3ms/step - loss: 0.7437 - acc: 0.5819 - f1: 0.5537 - val_loss: 0.9013 - val_acc: 0.5408 - val_f1: 0.4775\n",
            "Epoch 18/100\n",
            "11316/11316 [==============================] - 31s 3ms/step - loss: 0.7308 - acc: 0.5986 - f1: 0.5762 - val_loss: 0.8957 - val_acc: 0.5028 - val_f1: 0.4682\n",
            "Epoch 19/100\n",
            "10240/11316 [==========================>...] - ETA: 2s - loss: 0.7203 - acc: 0.6148 - f1: 0.5971"
          ],
          "name": "stdout"
        },
        {
          "output_type": "error",
          "ename": "KeyboardInterrupt",
          "evalue": "ignored",
          "traceback": [
            "\u001b[0;31m---------------------------------------------------------------------------\u001b[0m",
            "\u001b[0;31mKeyboardInterrupt\u001b[0m                         Traceback (most recent call last)",
            "\u001b[0;32m<ipython-input-107-139e37f92723>\u001b[0m in \u001b[0;36m<module>\u001b[0;34m()\u001b[0m\n\u001b[1;32m      5\u001b[0m                      \u001b[0mvalidation_data\u001b[0m\u001b[0;34m=\u001b[0m\u001b[0;34m(\u001b[0m\u001b[0mimages_test\u001b[0m\u001b[0;34m,\u001b[0m \u001b[0mimage_labels_test\u001b[0m\u001b[0;34m)\u001b[0m\u001b[0;34m,\u001b[0m\u001b[0;34m\u001b[0m\u001b[0;34m\u001b[0m\u001b[0m\n\u001b[1;32m      6\u001b[0m                      \u001b[0mclass_weight\u001b[0m\u001b[0;34m=\u001b[0m\u001b[0mclass_weight_dict\u001b[0m\u001b[0;34m,\u001b[0m\u001b[0;34m\u001b[0m\u001b[0;34m\u001b[0m\u001b[0m\n\u001b[0;32m----> 7\u001b[0;31m                      \u001b[0mcallbacks\u001b[0m\u001b[0;34m=\u001b[0m\u001b[0;34m[\u001b[0m\u001b[0mtime_callback\u001b[0m\u001b[0;34m]\u001b[0m\u001b[0;34m\u001b[0m\u001b[0;34m\u001b[0m\u001b[0m\n\u001b[0m\u001b[1;32m      8\u001b[0m                     )\n\u001b[1;32m      9\u001b[0m \u001b[0;34m\u001b[0m\u001b[0m\n",
            "\u001b[0;32m/usr/local/lib/python3.6/dist-packages/keras/engine/training.py\u001b[0m in \u001b[0;36mfit\u001b[0;34m(self, x, y, batch_size, epochs, verbose, callbacks, validation_split, validation_data, shuffle, class_weight, sample_weight, initial_epoch, steps_per_epoch, validation_steps, **kwargs)\u001b[0m\n\u001b[1;32m   1037\u001b[0m                                         \u001b[0minitial_epoch\u001b[0m\u001b[0;34m=\u001b[0m\u001b[0minitial_epoch\u001b[0m\u001b[0;34m,\u001b[0m\u001b[0;34m\u001b[0m\u001b[0;34m\u001b[0m\u001b[0m\n\u001b[1;32m   1038\u001b[0m                                         \u001b[0msteps_per_epoch\u001b[0m\u001b[0;34m=\u001b[0m\u001b[0msteps_per_epoch\u001b[0m\u001b[0;34m,\u001b[0m\u001b[0;34m\u001b[0m\u001b[0;34m\u001b[0m\u001b[0m\n\u001b[0;32m-> 1039\u001b[0;31m                                         validation_steps=validation_steps)\n\u001b[0m\u001b[1;32m   1040\u001b[0m \u001b[0;34m\u001b[0m\u001b[0m\n\u001b[1;32m   1041\u001b[0m     def evaluate(self, x=None, y=None,\n",
            "\u001b[0;32m/usr/local/lib/python3.6/dist-packages/keras/engine/training_arrays.py\u001b[0m in \u001b[0;36mfit_loop\u001b[0;34m(model, f, ins, out_labels, batch_size, epochs, verbose, callbacks, val_f, val_ins, shuffle, callback_metrics, initial_epoch, steps_per_epoch, validation_steps)\u001b[0m\n\u001b[1;32m    197\u001b[0m                     \u001b[0mins_batch\u001b[0m\u001b[0;34m[\u001b[0m\u001b[0mi\u001b[0m\u001b[0;34m]\u001b[0m \u001b[0;34m=\u001b[0m \u001b[0mins_batch\u001b[0m\u001b[0;34m[\u001b[0m\u001b[0mi\u001b[0m\u001b[0;34m]\u001b[0m\u001b[0;34m.\u001b[0m\u001b[0mtoarray\u001b[0m\u001b[0;34m(\u001b[0m\u001b[0;34m)\u001b[0m\u001b[0;34m\u001b[0m\u001b[0;34m\u001b[0m\u001b[0m\n\u001b[1;32m    198\u001b[0m \u001b[0;34m\u001b[0m\u001b[0m\n\u001b[0;32m--> 199\u001b[0;31m                 \u001b[0mouts\u001b[0m \u001b[0;34m=\u001b[0m \u001b[0mf\u001b[0m\u001b[0;34m(\u001b[0m\u001b[0mins_batch\u001b[0m\u001b[0;34m)\u001b[0m\u001b[0;34m\u001b[0m\u001b[0;34m\u001b[0m\u001b[0m\n\u001b[0m\u001b[1;32m    200\u001b[0m                 \u001b[0mouts\u001b[0m \u001b[0;34m=\u001b[0m \u001b[0mto_list\u001b[0m\u001b[0;34m(\u001b[0m\u001b[0mouts\u001b[0m\u001b[0;34m)\u001b[0m\u001b[0;34m\u001b[0m\u001b[0;34m\u001b[0m\u001b[0m\n\u001b[1;32m    201\u001b[0m                 \u001b[0;32mfor\u001b[0m \u001b[0ml\u001b[0m\u001b[0;34m,\u001b[0m \u001b[0mo\u001b[0m \u001b[0;32min\u001b[0m \u001b[0mzip\u001b[0m\u001b[0;34m(\u001b[0m\u001b[0mout_labels\u001b[0m\u001b[0;34m,\u001b[0m \u001b[0mouts\u001b[0m\u001b[0;34m)\u001b[0m\u001b[0;34m:\u001b[0m\u001b[0;34m\u001b[0m\u001b[0;34m\u001b[0m\u001b[0m\n",
            "\u001b[0;32m/usr/local/lib/python3.6/dist-packages/keras/backend/tensorflow_backend.py\u001b[0m in \u001b[0;36m__call__\u001b[0;34m(self, inputs)\u001b[0m\n\u001b[1;32m   2713\u001b[0m                 \u001b[0;32mreturn\u001b[0m \u001b[0mself\u001b[0m\u001b[0;34m.\u001b[0m\u001b[0m_legacy_call\u001b[0m\u001b[0;34m(\u001b[0m\u001b[0minputs\u001b[0m\u001b[0;34m)\u001b[0m\u001b[0;34m\u001b[0m\u001b[0;34m\u001b[0m\u001b[0m\n\u001b[1;32m   2714\u001b[0m \u001b[0;34m\u001b[0m\u001b[0m\n\u001b[0;32m-> 2715\u001b[0;31m             \u001b[0;32mreturn\u001b[0m \u001b[0mself\u001b[0m\u001b[0;34m.\u001b[0m\u001b[0m_call\u001b[0m\u001b[0;34m(\u001b[0m\u001b[0minputs\u001b[0m\u001b[0;34m)\u001b[0m\u001b[0;34m\u001b[0m\u001b[0;34m\u001b[0m\u001b[0m\n\u001b[0m\u001b[1;32m   2716\u001b[0m         \u001b[0;32melse\u001b[0m\u001b[0;34m:\u001b[0m\u001b[0;34m\u001b[0m\u001b[0;34m\u001b[0m\u001b[0m\n\u001b[1;32m   2717\u001b[0m             \u001b[0;32mif\u001b[0m \u001b[0mpy_any\u001b[0m\u001b[0;34m(\u001b[0m\u001b[0mis_tensor\u001b[0m\u001b[0;34m(\u001b[0m\u001b[0mx\u001b[0m\u001b[0;34m)\u001b[0m \u001b[0;32mfor\u001b[0m \u001b[0mx\u001b[0m \u001b[0;32min\u001b[0m \u001b[0minputs\u001b[0m\u001b[0;34m)\u001b[0m\u001b[0;34m:\u001b[0m\u001b[0;34m\u001b[0m\u001b[0;34m\u001b[0m\u001b[0m\n",
            "\u001b[0;32m/usr/local/lib/python3.6/dist-packages/keras/backend/tensorflow_backend.py\u001b[0m in \u001b[0;36m_call\u001b[0;34m(self, inputs)\u001b[0m\n\u001b[1;32m   2673\u001b[0m             \u001b[0mfetched\u001b[0m \u001b[0;34m=\u001b[0m \u001b[0mself\u001b[0m\u001b[0;34m.\u001b[0m\u001b[0m_callable_fn\u001b[0m\u001b[0;34m(\u001b[0m\u001b[0;34m*\u001b[0m\u001b[0marray_vals\u001b[0m\u001b[0;34m,\u001b[0m \u001b[0mrun_metadata\u001b[0m\u001b[0;34m=\u001b[0m\u001b[0mself\u001b[0m\u001b[0;34m.\u001b[0m\u001b[0mrun_metadata\u001b[0m\u001b[0;34m)\u001b[0m\u001b[0;34m\u001b[0m\u001b[0;34m\u001b[0m\u001b[0m\n\u001b[1;32m   2674\u001b[0m         \u001b[0;32melse\u001b[0m\u001b[0;34m:\u001b[0m\u001b[0;34m\u001b[0m\u001b[0;34m\u001b[0m\u001b[0m\n\u001b[0;32m-> 2675\u001b[0;31m             \u001b[0mfetched\u001b[0m \u001b[0;34m=\u001b[0m \u001b[0mself\u001b[0m\u001b[0;34m.\u001b[0m\u001b[0m_callable_fn\u001b[0m\u001b[0;34m(\u001b[0m\u001b[0;34m*\u001b[0m\u001b[0marray_vals\u001b[0m\u001b[0;34m)\u001b[0m\u001b[0;34m\u001b[0m\u001b[0;34m\u001b[0m\u001b[0m\n\u001b[0m\u001b[1;32m   2676\u001b[0m         \u001b[0;32mreturn\u001b[0m \u001b[0mfetched\u001b[0m\u001b[0;34m[\u001b[0m\u001b[0;34m:\u001b[0m\u001b[0mlen\u001b[0m\u001b[0;34m(\u001b[0m\u001b[0mself\u001b[0m\u001b[0;34m.\u001b[0m\u001b[0moutputs\u001b[0m\u001b[0;34m)\u001b[0m\u001b[0;34m]\u001b[0m\u001b[0;34m\u001b[0m\u001b[0;34m\u001b[0m\u001b[0m\n\u001b[1;32m   2677\u001b[0m \u001b[0;34m\u001b[0m\u001b[0m\n",
            "\u001b[0;32m/usr/local/lib/python3.6/dist-packages/tensorflow/python/client/session.py\u001b[0m in \u001b[0;36m__call__\u001b[0;34m(self, *args, **kwargs)\u001b[0m\n\u001b[1;32m   1437\u001b[0m           ret = tf_session.TF_SessionRunCallable(\n\u001b[1;32m   1438\u001b[0m               \u001b[0mself\u001b[0m\u001b[0;34m.\u001b[0m\u001b[0m_session\u001b[0m\u001b[0;34m.\u001b[0m\u001b[0m_session\u001b[0m\u001b[0;34m,\u001b[0m \u001b[0mself\u001b[0m\u001b[0;34m.\u001b[0m\u001b[0m_handle\u001b[0m\u001b[0;34m,\u001b[0m \u001b[0margs\u001b[0m\u001b[0;34m,\u001b[0m \u001b[0mstatus\u001b[0m\u001b[0;34m,\u001b[0m\u001b[0;34m\u001b[0m\u001b[0;34m\u001b[0m\u001b[0m\n\u001b[0;32m-> 1439\u001b[0;31m               run_metadata_ptr)\n\u001b[0m\u001b[1;32m   1440\u001b[0m         \u001b[0;32mif\u001b[0m \u001b[0mrun_metadata\u001b[0m\u001b[0;34m:\u001b[0m\u001b[0;34m\u001b[0m\u001b[0;34m\u001b[0m\u001b[0m\n\u001b[1;32m   1441\u001b[0m           \u001b[0mproto_data\u001b[0m \u001b[0;34m=\u001b[0m \u001b[0mtf_session\u001b[0m\u001b[0;34m.\u001b[0m\u001b[0mTF_GetBuffer\u001b[0m\u001b[0;34m(\u001b[0m\u001b[0mrun_metadata_ptr\u001b[0m\u001b[0;34m)\u001b[0m\u001b[0;34m\u001b[0m\u001b[0;34m\u001b[0m\u001b[0m\n",
            "\u001b[0;31mKeyboardInterrupt\u001b[0m: "
          ]
        }
      ]
    },
    {
      "cell_type": "markdown",
      "metadata": {
        "id": "EArSwHIlSmFY",
        "colab_type": "text"
      },
      "source": [
        "## Loss & Accuracy Curves"
      ]
    },
    {
      "cell_type": "code",
      "metadata": {
        "id": "01rFG7OnSmFY",
        "colab_type": "code",
        "colab": {}
      },
      "source": [
        "# Loss Curves\n",
        "plt.figure(figsize=[8,6])\n",
        "plt.plot(history.history['loss'],'r',linewidth=3.0)\n",
        "plt.plot(history.history['val_loss'],'b',linewidth=3.0)\n",
        "plt.legend(['Training loss', 'Validation Loss'],fontsize=18)\n",
        "plt.xlabel('Epochs ',fontsize=16)\n",
        "plt.ylabel('Loss',fontsize=16)\n",
        "plt.title('Loss Curves',fontsize=16)\n",
        "  \n",
        "# Accuracy Curves\n",
        "plt.figure(figsize=[8,6])\n",
        "plt.plot(history.history['acc'],'r',linewidth=3.0)\n",
        "plt.plot(history.history['val_acc'],'b',linewidth=3.0)\n",
        "plt.legend(['Training Accuracy', 'Validation Accuracy'],fontsize=18)\n",
        "plt.xlabel('Epochs ',fontsize=16)\n",
        "plt.ylabel('Accuracy',fontsize=16)\n",
        "plt.title('Accuracy Curves',fontsize=16)\n",
        "\n",
        "# F1 Curves\n",
        "plt.figure(figsize=[8,6])\n",
        "plt.plot(history.history['f1'],'r',linewidth=3.0)\n",
        "plt.plot(history.history['val_f1'],'b',linewidth=3.0)\n",
        "plt.legend(['Training F1 score', 'Validation F1 score'],fontsize=18)\n",
        "plt.xlabel('Epochs ',fontsize=16)\n",
        "plt.ylabel('F1 Score',fontsize=16)\n",
        "plt.title('F1 Curves',fontsize=16)"
      ],
      "execution_count": 0,
      "outputs": []
    },
    {
      "cell_type": "markdown",
      "metadata": {
        "id": "zhOiBEnzmqFv",
        "colab_type": "text"
      },
      "source": [
        "## Confusion Matrix"
      ]
    },
    {
      "cell_type": "code",
      "metadata": {
        "id": "MXoYR-chh7BI",
        "colab_type": "code",
        "colab": {}
      },
      "source": [
        "image_labels_pred = model1.predict(images_test)\n",
        "image_labels_pred = np.where(image_labels_pred > 0.5, 1, 0)\n",
        "cm =  pd.DataFrame(confusion_matrix(np.argmax(image_labels_test,1), np.argmax(image_labels_pred,1)), \n",
        "                                 index = label_names_array, \n",
        "                                 columns = label_names_array)\n",
        "\n",
        "plt.figure(figsize=[8,6])\n",
        "sn.heatmap(cm, annot=True,cmap='Blues', fmt='g')"
      ],
      "execution_count": 0,
      "outputs": []
    },
    {
      "cell_type": "markdown",
      "metadata": {
        "id": "T9bBECHYs42y",
        "colab_type": "text"
      },
      "source": [
        "## Time spent"
      ]
    },
    {
      "cell_type": "code",
      "metadata": {
        "id": "GcPvwRcis3t9",
        "colab_type": "code",
        "colab": {}
      },
      "source": [
        "print(\"Time spent on entire model training: {:4f} seconds\".format(sum(time_callback.times)))"
      ],
      "execution_count": 0,
      "outputs": []
    }
  ]
}