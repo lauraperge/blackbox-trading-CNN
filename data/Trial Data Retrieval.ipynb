{
 "cells": [
  {
   "cell_type": "markdown",
   "metadata": {},
   "source": [
    "# Bitfinex CryptoCurrencies"
   ]
  },
  {
   "cell_type": "code",
   "execution_count": 1,
   "metadata": {},
   "outputs": [
    {
     "name": "stdout",
     "output_type": "stream",
     "text": [
      "No keys, only access to public API functions\n"
     ]
    }
   ],
   "source": [
    "import bitfinex\n",
    "import datetime\n",
    "import time\n",
    " \n",
    "# Create api instance of the v2 API\n",
    "api_v2 = bitfinex.bitfinex_v2.api_v2()"
   ]
  },
  {
   "cell_type": "code",
   "execution_count": null,
   "metadata": {},
   "outputs": [],
   "source": [
    "def fetch_data(start, stop, symbol, interval, tick_limit, step):\n",
    "    # Create api instance\n",
    "    api_v2 = bitfinex.bitfinex_v2.api_v2()\n",
    "    data = []\n",
    "    start = start - step\n",
    "    while start < stop:\n",
    "        start = start + step\n",
    "        end = start + step\n",
    "        res = api_v2.candles(symbol=symbol, interval=interval,\n",
    "                             limit=tick_limit, start=start,\n",
    "                             end=end)\n",
    "        data.extend(res)\n",
    "        time.sleep(2)\n",
    "    return data"
   ]
  },
  {
   "cell_type": "code",
   "execution_count": null,
   "metadata": {},
   "outputs": [],
   "source": [
    "# Set step size\n",
    "time_step = 60000000"
   ]
  },
  {
   "cell_type": "code",
   "execution_count": null,
   "metadata": {},
   "outputs": [],
   "source": [
    "# Define query parameters\n",
    "pair = 'btcusd' # Currency pair of interest\n",
    "bin_size = '6m' # This will return minute data\n",
    "limit = 1000    # We want the maximum of 1000 data points "
   ]
  },
  {
   "cell_type": "code",
   "execution_count": null,
   "metadata": {},
   "outputs": [],
   "source": [
    "# Define the start date\n",
    "t_start = datetime.datetime(2009, 1, 1, 0, 0)\n",
    "t_start = time.mktime(t_start.timetuple()) * 1000"
   ]
  },
  {
   "cell_type": "code",
   "execution_count": null,
   "metadata": {},
   "outputs": [],
   "source": [
    "# Define the end date\n",
    "t_stop = datetime.datetime(2019, 5, 1, 0, 0)\n",
    "t_stop = time.mktime(t_stop.timetuple()) * 1000"
   ]
  },
  {
   "cell_type": "code",
   "execution_count": null,
   "metadata": {
    "scrolled": true
   },
   "outputs": [],
   "source": [
    "pair_data = fetch_data(start=t_start, stop=t_stop, symbol=pair,\n",
    "                       interval=bin_size, tick_limit=limit, \n",
    "                       step=time_step)"
   ]
  },
  {
   "cell_type": "raw",
   "metadata": {},
   "source": [
    "api_v1 = bitfinex.bitfinex_v1.api_v1()\n",
    "pairs = api_v1.symbols()\n",
    "pairs"
   ]
  },
  {
   "cell_type": "code",
   "execution_count": null,
   "metadata": {},
   "outputs": [],
   "source": [
    "len(pair_data)"
   ]
  },
  {
   "cell_type": "markdown",
   "metadata": {},
   "source": [
    "# Yahoo Finance - Stock Prices"
   ]
  },
  {
   "cell_type": "code",
   "execution_count": 2,
   "metadata": {},
   "outputs": [],
   "source": [
    "from pandas_datareader import data\n",
    "import matplotlib.pyplot as plt\n",
    "import pandas as pd"
   ]
  },
  {
   "cell_type": "code",
   "execution_count": null,
   "metadata": {},
   "outputs": [],
   "source": [
    "# Define the instruments to download. We would like to see Nasdaq, Nikkei, SP500, ETF: SPDR, iShares MSCI Japan,MSCI UK, Germany\n",
    "tickers = ['^IXIC', '^N225', '^GSPC', 'SPY', 'EWJ', 'EWU', 'EWG']"
   ]
  },
  {
   "cell_type": "code",
   "execution_count": null,
   "metadata": {},
   "outputs": [],
   "source": [
    "# We would like all available data from 01/01/1970 until 05/01/2019.\n",
    "start_date = '1970-01-02'\n",
    "end_date = '2019-05-01'"
   ]
  },
  {
   "cell_type": "code",
   "execution_count": null,
   "metadata": {},
   "outputs": [],
   "source": [
    "# User pandas_reader.data.DataReader to load the desired data. As simple as that.\n",
    "panel_data = data.DataReader(tickers, 'yahoo', start_date, end_date)"
   ]
  },
  {
   "cell_type": "code",
   "execution_count": null,
   "metadata": {
    "scrolled": true
   },
   "outputs": [],
   "source": [
    "panel_data.head()"
   ]
  },
  {
   "cell_type": "code",
   "execution_count": null,
   "metadata": {},
   "outputs": [],
   "source": [
    "# Getting just the adjusted closing prices. This will return a Pandas DataFrame\n",
    "# The index in this DataFrame is the major index of the panel_data.\n",
    "close = panel_data['Close']"
   ]
  },
  {
   "cell_type": "code",
   "execution_count": null,
   "metadata": {},
   "outputs": [],
   "source": [
    "# Getting all weekdays between 01/01/2000 and 12/31/2016\n",
    "all_weekdays = pd.date_range(start=start_date, end=end_date, freq='B')\n",
    "\n",
    "# How do we align the existing prices in adj_close with our new set of dates?\n",
    "# All we need to do is reindex close using all_weekdays as the new index\n",
    "close = close.reindex(all_weekdays)\n"
   ]
  },
  {
   "cell_type": "raw",
   "metadata": {},
   "source": [
    "# Reindexing will insert missing values (NaN) for the dates that were not present\n",
    "# in the original set. To cope with this, we can fill the missing by replacing them\n",
    "# with the latest available price for each instrument.\n",
    "close = close.fillna(method='ffill')"
   ]
  },
  {
   "cell_type": "code",
   "execution_count": null,
   "metadata": {
    "scrolled": false
   },
   "outputs": [],
   "source": [
    "close.tail()"
   ]
  },
  {
   "cell_type": "code",
   "execution_count": null,
   "metadata": {
    "scrolled": true
   },
   "outputs": [],
   "source": [
    "plt.plot(close['^N225'].dropna())"
   ]
  },
  {
   "cell_type": "markdown",
   "metadata": {},
   "source": [
    "# USD\n",
    "FX from FRED"
   ]
  },
  {
   "cell_type": "code",
   "execution_count": 10,
   "metadata": {},
   "outputs": [],
   "source": [
    "# Define the instruments to download. We would like to see JPYUSD,DKKUSD, CADUSD, USDGBP, KRWUSD, MXNUSD,BRZUSD,USDAUD, USDEUR\n",
    "tickers = ['DEXUSNZ','DEXUSUK', 'DEXUSAL','DEXUSEU']"
   ]
  },
  {
   "cell_type": "code",
   "execution_count": 12,
   "metadata": {},
   "outputs": [],
   "source": [
    "# We would like all available data from 01/01/1970 until 05/01/2019.\n",
    "start_date = '1970-01-02'\n",
    "end_date = '2019-06-07'"
   ]
  },
  {
   "cell_type": "code",
   "execution_count": 13,
   "metadata": {},
   "outputs": [],
   "source": [
    "# User pandas_reader.data.DataReader to load the desired data. As simple as that.\n",
    "panel_data = data.DataReader(tickers, 'fred', start_date, end_date)"
   ]
  },
  {
   "cell_type": "code",
   "execution_count": 14,
   "metadata": {
    "scrolled": true
   },
   "outputs": [
    {
     "data": {
      "text/html": [
       "<div>\n",
       "<style scoped>\n",
       "    .dataframe tbody tr th:only-of-type {\n",
       "        vertical-align: middle;\n",
       "    }\n",
       "\n",
       "    .dataframe tbody tr th {\n",
       "        vertical-align: top;\n",
       "    }\n",
       "\n",
       "    .dataframe thead th {\n",
       "        text-align: right;\n",
       "    }\n",
       "</style>\n",
       "<table border=\"1\" class=\"dataframe\">\n",
       "  <thead>\n",
       "    <tr style=\"text-align: right;\">\n",
       "      <th></th>\n",
       "      <th>DEXUSNZ</th>\n",
       "      <th>DEXUSUK</th>\n",
       "      <th>DEXUSAL</th>\n",
       "      <th>DEXUSEU</th>\n",
       "    </tr>\n",
       "    <tr>\n",
       "      <th>DATE</th>\n",
       "      <th></th>\n",
       "      <th></th>\n",
       "      <th></th>\n",
       "      <th></th>\n",
       "    </tr>\n",
       "  </thead>\n",
       "  <tbody>\n",
       "    <tr>\n",
       "      <th>1971-01-04</th>\n",
       "      <td>1.1138</td>\n",
       "      <td>2.3938</td>\n",
       "      <td>1.1127</td>\n",
       "      <td>NaN</td>\n",
       "    </tr>\n",
       "    <tr>\n",
       "      <th>1971-01-05</th>\n",
       "      <td>1.1143</td>\n",
       "      <td>2.3949</td>\n",
       "      <td>1.1132</td>\n",
       "      <td>NaN</td>\n",
       "    </tr>\n",
       "    <tr>\n",
       "      <th>1971-01-06</th>\n",
       "      <td>1.1151</td>\n",
       "      <td>2.3967</td>\n",
       "      <td>1.1140</td>\n",
       "      <td>NaN</td>\n",
       "    </tr>\n",
       "    <tr>\n",
       "      <th>1971-01-07</th>\n",
       "      <td>1.1150</td>\n",
       "      <td>2.3963</td>\n",
       "      <td>1.1138</td>\n",
       "      <td>NaN</td>\n",
       "    </tr>\n",
       "    <tr>\n",
       "      <th>1971-01-08</th>\n",
       "      <td>1.1154</td>\n",
       "      <td>2.3972</td>\n",
       "      <td>1.1124</td>\n",
       "      <td>NaN</td>\n",
       "    </tr>\n",
       "    <tr>\n",
       "      <th>1971-01-11</th>\n",
       "      <td>1.1163</td>\n",
       "      <td>2.3992</td>\n",
       "      <td>1.1152</td>\n",
       "      <td>NaN</td>\n",
       "    </tr>\n",
       "    <tr>\n",
       "      <th>1971-01-12</th>\n",
       "      <td>1.1167</td>\n",
       "      <td>2.4001</td>\n",
       "      <td>1.1156</td>\n",
       "      <td>NaN</td>\n",
       "    </tr>\n",
       "    <tr>\n",
       "      <th>1971-01-13</th>\n",
       "      <td>1.1177</td>\n",
       "      <td>2.4021</td>\n",
       "      <td>1.1165</td>\n",
       "      <td>NaN</td>\n",
       "    </tr>\n",
       "    <tr>\n",
       "      <th>1971-01-14</th>\n",
       "      <td>1.1200</td>\n",
       "      <td>2.4071</td>\n",
       "      <td>1.1189</td>\n",
       "      <td>NaN</td>\n",
       "    </tr>\n",
       "    <tr>\n",
       "      <th>1971-01-15</th>\n",
       "      <td>1.1193</td>\n",
       "      <td>2.4057</td>\n",
       "      <td>1.1182</td>\n",
       "      <td>NaN</td>\n",
       "    </tr>\n",
       "    <tr>\n",
       "      <th>1971-01-18</th>\n",
       "      <td>1.1191</td>\n",
       "      <td>2.4052</td>\n",
       "      <td>1.1179</td>\n",
       "      <td>NaN</td>\n",
       "    </tr>\n",
       "    <tr>\n",
       "      <th>1971-01-19</th>\n",
       "      <td>1.1205</td>\n",
       "      <td>2.4081</td>\n",
       "      <td>1.1193</td>\n",
       "      <td>NaN</td>\n",
       "    </tr>\n",
       "    <tr>\n",
       "      <th>1971-01-20</th>\n",
       "      <td>1.1204</td>\n",
       "      <td>2.4080</td>\n",
       "      <td>1.1193</td>\n",
       "      <td>NaN</td>\n",
       "    </tr>\n",
       "    <tr>\n",
       "      <th>1971-01-21</th>\n",
       "      <td>1.1210</td>\n",
       "      <td>2.4092</td>\n",
       "      <td>1.1198</td>\n",
       "      <td>NaN</td>\n",
       "    </tr>\n",
       "    <tr>\n",
       "      <th>1971-01-22</th>\n",
       "      <td>1.1215</td>\n",
       "      <td>2.4103</td>\n",
       "      <td>1.1204</td>\n",
       "      <td>NaN</td>\n",
       "    </tr>\n",
       "    <tr>\n",
       "      <th>1971-01-25</th>\n",
       "      <td>1.1236</td>\n",
       "      <td>2.4147</td>\n",
       "      <td>1.1224</td>\n",
       "      <td>NaN</td>\n",
       "    </tr>\n",
       "    <tr>\n",
       "      <th>1971-01-26</th>\n",
       "      <td>1.1241</td>\n",
       "      <td>2.4160</td>\n",
       "      <td>1.1230</td>\n",
       "      <td>NaN</td>\n",
       "    </tr>\n",
       "    <tr>\n",
       "      <th>1971-01-27</th>\n",
       "      <td>1.1242</td>\n",
       "      <td>2.4161</td>\n",
       "      <td>1.1230</td>\n",
       "      <td>NaN</td>\n",
       "    </tr>\n",
       "    <tr>\n",
       "      <th>1971-01-28</th>\n",
       "      <td>1.1246</td>\n",
       "      <td>2.4169</td>\n",
       "      <td>1.1234</td>\n",
       "      <td>NaN</td>\n",
       "    </tr>\n",
       "    <tr>\n",
       "      <th>1971-01-29</th>\n",
       "      <td>1.1248</td>\n",
       "      <td>2.4174</td>\n",
       "      <td>1.1236</td>\n",
       "      <td>NaN</td>\n",
       "    </tr>\n",
       "    <tr>\n",
       "      <th>1971-02-01</th>\n",
       "      <td>1.1253</td>\n",
       "      <td>2.4184</td>\n",
       "      <td>1.1241</td>\n",
       "      <td>NaN</td>\n",
       "    </tr>\n",
       "    <tr>\n",
       "      <th>1971-02-02</th>\n",
       "      <td>1.1251</td>\n",
       "      <td>2.4181</td>\n",
       "      <td>1.1240</td>\n",
       "      <td>NaN</td>\n",
       "    </tr>\n",
       "    <tr>\n",
       "      <th>1971-02-03</th>\n",
       "      <td>1.1253</td>\n",
       "      <td>2.4184</td>\n",
       "      <td>1.1241</td>\n",
       "      <td>NaN</td>\n",
       "    </tr>\n",
       "    <tr>\n",
       "      <th>1971-02-04</th>\n",
       "      <td>1.1245</td>\n",
       "      <td>2.4167</td>\n",
       "      <td>1.1233</td>\n",
       "      <td>NaN</td>\n",
       "    </tr>\n",
       "    <tr>\n",
       "      <th>1971-02-05</th>\n",
       "      <td>1.1235</td>\n",
       "      <td>2.4147</td>\n",
       "      <td>1.1224</td>\n",
       "      <td>NaN</td>\n",
       "    </tr>\n",
       "    <tr>\n",
       "      <th>1971-02-08</th>\n",
       "      <td>1.1252</td>\n",
       "      <td>2.4182</td>\n",
       "      <td>1.1240</td>\n",
       "      <td>NaN</td>\n",
       "    </tr>\n",
       "    <tr>\n",
       "      <th>1971-02-09</th>\n",
       "      <td>1.1237</td>\n",
       "      <td>2.4151</td>\n",
       "      <td>1.1226</td>\n",
       "      <td>NaN</td>\n",
       "    </tr>\n",
       "    <tr>\n",
       "      <th>1971-02-10</th>\n",
       "      <td>1.1241</td>\n",
       "      <td>2.4159</td>\n",
       "      <td>1.1229</td>\n",
       "      <td>NaN</td>\n",
       "    </tr>\n",
       "    <tr>\n",
       "      <th>1971-02-11</th>\n",
       "      <td>1.1240</td>\n",
       "      <td>2.4158</td>\n",
       "      <td>1.1229</td>\n",
       "      <td>NaN</td>\n",
       "    </tr>\n",
       "    <tr>\n",
       "      <th>1971-02-12</th>\n",
       "      <td>NaN</td>\n",
       "      <td>NaN</td>\n",
       "      <td>NaN</td>\n",
       "      <td>NaN</td>\n",
       "    </tr>\n",
       "    <tr>\n",
       "      <th>...</th>\n",
       "      <td>...</td>\n",
       "      <td>...</td>\n",
       "      <td>...</td>\n",
       "      <td>...</td>\n",
       "    </tr>\n",
       "    <tr>\n",
       "      <th>2019-04-22</th>\n",
       "      <td>0.6677</td>\n",
       "      <td>1.2983</td>\n",
       "      <td>0.7134</td>\n",
       "      <td>1.1258</td>\n",
       "    </tr>\n",
       "    <tr>\n",
       "      <th>2019-04-23</th>\n",
       "      <td>0.6648</td>\n",
       "      <td>1.2943</td>\n",
       "      <td>0.7096</td>\n",
       "      <td>1.1213</td>\n",
       "    </tr>\n",
       "    <tr>\n",
       "      <th>2019-04-24</th>\n",
       "      <td>0.6606</td>\n",
       "      <td>1.2947</td>\n",
       "      <td>0.7026</td>\n",
       "      <td>1.1192</td>\n",
       "    </tr>\n",
       "    <tr>\n",
       "      <th>2019-04-25</th>\n",
       "      <td>0.6616</td>\n",
       "      <td>1.2901</td>\n",
       "      <td>0.7010</td>\n",
       "      <td>1.1140</td>\n",
       "    </tr>\n",
       "    <tr>\n",
       "      <th>2019-04-26</th>\n",
       "      <td>0.6670</td>\n",
       "      <td>1.2930</td>\n",
       "      <td>0.7044</td>\n",
       "      <td>1.1154</td>\n",
       "    </tr>\n",
       "    <tr>\n",
       "      <th>2019-04-29</th>\n",
       "      <td>0.6665</td>\n",
       "      <td>1.2924</td>\n",
       "      <td>0.7054</td>\n",
       "      <td>1.1166</td>\n",
       "    </tr>\n",
       "    <tr>\n",
       "      <th>2019-04-30</th>\n",
       "      <td>0.6670</td>\n",
       "      <td>1.3030</td>\n",
       "      <td>0.7040</td>\n",
       "      <td>1.1201</td>\n",
       "    </tr>\n",
       "    <tr>\n",
       "      <th>2019-05-01</th>\n",
       "      <td>0.6652</td>\n",
       "      <td>1.3091</td>\n",
       "      <td>0.7038</td>\n",
       "      <td>1.1246</td>\n",
       "    </tr>\n",
       "    <tr>\n",
       "      <th>2019-05-02</th>\n",
       "      <td>0.6618</td>\n",
       "      <td>1.3032</td>\n",
       "      <td>0.7002</td>\n",
       "      <td>1.1184</td>\n",
       "    </tr>\n",
       "    <tr>\n",
       "      <th>2019-05-03</th>\n",
       "      <td>0.6642</td>\n",
       "      <td>1.3139</td>\n",
       "      <td>0.7018</td>\n",
       "      <td>1.1186</td>\n",
       "    </tr>\n",
       "    <tr>\n",
       "      <th>2019-05-06</th>\n",
       "      <td>0.6606</td>\n",
       "      <td>1.3093</td>\n",
       "      <td>0.6995</td>\n",
       "      <td>1.1197</td>\n",
       "    </tr>\n",
       "    <tr>\n",
       "      <th>2019-05-07</th>\n",
       "      <td>0.6593</td>\n",
       "      <td>1.3052</td>\n",
       "      <td>0.7004</td>\n",
       "      <td>1.1178</td>\n",
       "    </tr>\n",
       "    <tr>\n",
       "      <th>2019-05-08</th>\n",
       "      <td>0.6587</td>\n",
       "      <td>1.3014</td>\n",
       "      <td>0.7004</td>\n",
       "      <td>1.1206</td>\n",
       "    </tr>\n",
       "    <tr>\n",
       "      <th>2019-05-09</th>\n",
       "      <td>0.6584</td>\n",
       "      <td>1.3013</td>\n",
       "      <td>0.6976</td>\n",
       "      <td>1.1228</td>\n",
       "    </tr>\n",
       "    <tr>\n",
       "      <th>2019-05-10</th>\n",
       "      <td>0.6600</td>\n",
       "      <td>1.3036</td>\n",
       "      <td>0.6998</td>\n",
       "      <td>1.1241</td>\n",
       "    </tr>\n",
       "    <tr>\n",
       "      <th>2019-05-13</th>\n",
       "      <td>0.6572</td>\n",
       "      <td>1.2961</td>\n",
       "      <td>0.6948</td>\n",
       "      <td>1.1232</td>\n",
       "    </tr>\n",
       "    <tr>\n",
       "      <th>2019-05-14</th>\n",
       "      <td>0.6577</td>\n",
       "      <td>1.2921</td>\n",
       "      <td>0.6946</td>\n",
       "      <td>1.1207</td>\n",
       "    </tr>\n",
       "    <tr>\n",
       "      <th>2019-05-15</th>\n",
       "      <td>0.6562</td>\n",
       "      <td>1.2878</td>\n",
       "      <td>0.6930</td>\n",
       "      <td>1.1208</td>\n",
       "    </tr>\n",
       "    <tr>\n",
       "      <th>2019-05-16</th>\n",
       "      <td>0.6550</td>\n",
       "      <td>1.2803</td>\n",
       "      <td>0.6905</td>\n",
       "      <td>1.1178</td>\n",
       "    </tr>\n",
       "    <tr>\n",
       "      <th>2019-05-17</th>\n",
       "      <td>0.6522</td>\n",
       "      <td>1.2723</td>\n",
       "      <td>0.6874</td>\n",
       "      <td>1.1166</td>\n",
       "    </tr>\n",
       "    <tr>\n",
       "      <th>2019-05-20</th>\n",
       "      <td>0.6537</td>\n",
       "      <td>1.2718</td>\n",
       "      <td>0.6913</td>\n",
       "      <td>1.1170</td>\n",
       "    </tr>\n",
       "    <tr>\n",
       "      <th>2019-05-21</th>\n",
       "      <td>0.6506</td>\n",
       "      <td>1.2747</td>\n",
       "      <td>0.6876</td>\n",
       "      <td>1.1158</td>\n",
       "    </tr>\n",
       "    <tr>\n",
       "      <th>2019-05-22</th>\n",
       "      <td>0.6497</td>\n",
       "      <td>1.2674</td>\n",
       "      <td>0.6880</td>\n",
       "      <td>1.1156</td>\n",
       "    </tr>\n",
       "    <tr>\n",
       "      <th>2019-05-23</th>\n",
       "      <td>0.6521</td>\n",
       "      <td>1.2666</td>\n",
       "      <td>0.6896</td>\n",
       "      <td>1.1172</td>\n",
       "    </tr>\n",
       "    <tr>\n",
       "      <th>2019-05-24</th>\n",
       "      <td>0.6548</td>\n",
       "      <td>1.2700</td>\n",
       "      <td>0.6914</td>\n",
       "      <td>1.1197</td>\n",
       "    </tr>\n",
       "    <tr>\n",
       "      <th>2019-05-27</th>\n",
       "      <td>NaN</td>\n",
       "      <td>NaN</td>\n",
       "      <td>NaN</td>\n",
       "      <td>NaN</td>\n",
       "    </tr>\n",
       "    <tr>\n",
       "      <th>2019-05-28</th>\n",
       "      <td>0.6549</td>\n",
       "      <td>1.2668</td>\n",
       "      <td>0.6930</td>\n",
       "      <td>1.1177</td>\n",
       "    </tr>\n",
       "    <tr>\n",
       "      <th>2019-05-29</th>\n",
       "      <td>0.6511</td>\n",
       "      <td>1.2631</td>\n",
       "      <td>0.6912</td>\n",
       "      <td>1.1136</td>\n",
       "    </tr>\n",
       "    <tr>\n",
       "      <th>2019-05-30</th>\n",
       "      <td>0.6507</td>\n",
       "      <td>1.2619</td>\n",
       "      <td>0.6910</td>\n",
       "      <td>1.1140</td>\n",
       "    </tr>\n",
       "    <tr>\n",
       "      <th>2019-05-31</th>\n",
       "      <td>0.6525</td>\n",
       "      <td>1.2620</td>\n",
       "      <td>0.6930</td>\n",
       "      <td>1.1149</td>\n",
       "    </tr>\n",
       "  </tbody>\n",
       "</table>\n",
       "<p>12630 rows × 4 columns</p>\n",
       "</div>"
      ],
      "text/plain": [
       "            DEXUSNZ  DEXUSUK  DEXUSAL  DEXUSEU\n",
       "DATE                                          \n",
       "1971-01-04   1.1138   2.3938   1.1127      NaN\n",
       "1971-01-05   1.1143   2.3949   1.1132      NaN\n",
       "1971-01-06   1.1151   2.3967   1.1140      NaN\n",
       "1971-01-07   1.1150   2.3963   1.1138      NaN\n",
       "1971-01-08   1.1154   2.3972   1.1124      NaN\n",
       "1971-01-11   1.1163   2.3992   1.1152      NaN\n",
       "1971-01-12   1.1167   2.4001   1.1156      NaN\n",
       "1971-01-13   1.1177   2.4021   1.1165      NaN\n",
       "1971-01-14   1.1200   2.4071   1.1189      NaN\n",
       "1971-01-15   1.1193   2.4057   1.1182      NaN\n",
       "1971-01-18   1.1191   2.4052   1.1179      NaN\n",
       "1971-01-19   1.1205   2.4081   1.1193      NaN\n",
       "1971-01-20   1.1204   2.4080   1.1193      NaN\n",
       "1971-01-21   1.1210   2.4092   1.1198      NaN\n",
       "1971-01-22   1.1215   2.4103   1.1204      NaN\n",
       "1971-01-25   1.1236   2.4147   1.1224      NaN\n",
       "1971-01-26   1.1241   2.4160   1.1230      NaN\n",
       "1971-01-27   1.1242   2.4161   1.1230      NaN\n",
       "1971-01-28   1.1246   2.4169   1.1234      NaN\n",
       "1971-01-29   1.1248   2.4174   1.1236      NaN\n",
       "1971-02-01   1.1253   2.4184   1.1241      NaN\n",
       "1971-02-02   1.1251   2.4181   1.1240      NaN\n",
       "1971-02-03   1.1253   2.4184   1.1241      NaN\n",
       "1971-02-04   1.1245   2.4167   1.1233      NaN\n",
       "1971-02-05   1.1235   2.4147   1.1224      NaN\n",
       "1971-02-08   1.1252   2.4182   1.1240      NaN\n",
       "1971-02-09   1.1237   2.4151   1.1226      NaN\n",
       "1971-02-10   1.1241   2.4159   1.1229      NaN\n",
       "1971-02-11   1.1240   2.4158   1.1229      NaN\n",
       "1971-02-12      NaN      NaN      NaN      NaN\n",
       "...             ...      ...      ...      ...\n",
       "2019-04-22   0.6677   1.2983   0.7134   1.1258\n",
       "2019-04-23   0.6648   1.2943   0.7096   1.1213\n",
       "2019-04-24   0.6606   1.2947   0.7026   1.1192\n",
       "2019-04-25   0.6616   1.2901   0.7010   1.1140\n",
       "2019-04-26   0.6670   1.2930   0.7044   1.1154\n",
       "2019-04-29   0.6665   1.2924   0.7054   1.1166\n",
       "2019-04-30   0.6670   1.3030   0.7040   1.1201\n",
       "2019-05-01   0.6652   1.3091   0.7038   1.1246\n",
       "2019-05-02   0.6618   1.3032   0.7002   1.1184\n",
       "2019-05-03   0.6642   1.3139   0.7018   1.1186\n",
       "2019-05-06   0.6606   1.3093   0.6995   1.1197\n",
       "2019-05-07   0.6593   1.3052   0.7004   1.1178\n",
       "2019-05-08   0.6587   1.3014   0.7004   1.1206\n",
       "2019-05-09   0.6584   1.3013   0.6976   1.1228\n",
       "2019-05-10   0.6600   1.3036   0.6998   1.1241\n",
       "2019-05-13   0.6572   1.2961   0.6948   1.1232\n",
       "2019-05-14   0.6577   1.2921   0.6946   1.1207\n",
       "2019-05-15   0.6562   1.2878   0.6930   1.1208\n",
       "2019-05-16   0.6550   1.2803   0.6905   1.1178\n",
       "2019-05-17   0.6522   1.2723   0.6874   1.1166\n",
       "2019-05-20   0.6537   1.2718   0.6913   1.1170\n",
       "2019-05-21   0.6506   1.2747   0.6876   1.1158\n",
       "2019-05-22   0.6497   1.2674   0.6880   1.1156\n",
       "2019-05-23   0.6521   1.2666   0.6896   1.1172\n",
       "2019-05-24   0.6548   1.2700   0.6914   1.1197\n",
       "2019-05-27      NaN      NaN      NaN      NaN\n",
       "2019-05-28   0.6549   1.2668   0.6930   1.1177\n",
       "2019-05-29   0.6511   1.2631   0.6912   1.1136\n",
       "2019-05-30   0.6507   1.2619   0.6910   1.1140\n",
       "2019-05-31   0.6525   1.2620   0.6930   1.1149\n",
       "\n",
       "[12630 rows x 4 columns]"
      ]
     },
     "execution_count": 14,
     "metadata": {},
     "output_type": "execute_result"
    }
   ],
   "source": [
    "panel_data"
   ]
  },
  {
   "cell_type": "code",
   "execution_count": 15,
   "metadata": {},
   "outputs": [
    {
     "data": {
      "text/plain": [
       "DEXUSNZ     500\n",
       "DEXUSUK     484\n",
       "DEXUSAL     491\n",
       "DEXUSEU    7505\n",
       "dtype: int64"
      ]
     },
     "execution_count": 15,
     "metadata": {},
     "output_type": "execute_result"
    }
   ],
   "source": [
    "panel_data.isnull().sum()"
   ]
  },
  {
   "cell_type": "code",
   "execution_count": 17,
   "metadata": {},
   "outputs": [
    {
     "data": {
      "text/plain": [
       "<matplotlib.axes._subplots.AxesSubplot at 0x2581ae9fe80>"
      ]
     },
     "execution_count": 17,
     "metadata": {},
     "output_type": "execute_result"
    },
    {
     "data": {
      "image/png": "[encoded data removed]",
      "text/plain": [
       "<Figure size 432x288 with 1 Axes>"
      ]
     },
     "metadata": {
      "needs_background": "light"
     },
     "output_type": "display_data"
    }
   ],
   "source": [
    "panel_data.DEXUSEU.plot()"
   ]
  },
  {
   "cell_type": "code",
   "execution_count": 18,
   "metadata": {},
   "outputs": [],
   "source": [
    "panel_data.to_csv(\"USD_FX_rates.csv\")"
   ]
  },
  {
   "cell_type": "markdown",
   "metadata": {},
   "source": [
    "# Quandl for General FX data\n"
   ]
  },
  {
   "cell_type": "markdown",
   "metadata": {},
   "source": [
    "For minute-wise FX: https://github.com/philipperemy/FX-1-Minute-Data"
   ]
  }
 ],
 "metadata": {
  "kernelspec": {
   "display_name": "Python 3",
   "language": "python",
   "name": "python3"
  },
  "language_info": {
   "codemirror_mode": {
    "name": "ipython",
    "version": 3
   },
   "file_extension": ".py",
   "mimetype": "text/x-python",
   "name": "python",
   "nbconvert_exporter": "python",
   "pygments_lexer": "ipython3",
   "version": "3.7.1"
  }
 },
 "nbformat": 4,
 "nbformat_minor": 2
}
