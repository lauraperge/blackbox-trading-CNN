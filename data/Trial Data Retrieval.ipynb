{
 "cells": [
  {
   "cell_type": "markdown",
   "metadata": {},
   "source": [
    "# Bitfinex CryptoCurrencies"
   ]
  },
  {
   "cell_type": "code",
   "execution_count": 8,
   "metadata": {},
   "outputs": [
    {
     "name": "stdout",
     "output_type": "stream",
     "text": [
      "No keys, only access to public API functions\n"
     ]
    }
   ],
   "source": [
    "import bitfinex\n",
    "import datetime\n",
    "import time\n",
    " \n",
    "# Create api instance of the v2 API\n",
    "api_v2 = bitfinex.bitfinex_v2.api_v2()"
   ]
  },
  {
   "cell_type": "code",
   "execution_count": 9,
   "metadata": {},
   "outputs": [],
   "source": [
    "def fetch_data(start, stop, symbol, interval, tick_limit, step):\n",
    "    # Create api instance\n",
    "    api_v2 = bitfinex.bitfinex_v2.api_v2()\n",
    "    data = []\n",
    "    start = start - step\n",
    "    while start < stop:\n",
    "        start = start + step\n",
    "        end = start + step\n",
    "        res = api_v2.candles(symbol=symbol, interval=interval,\n",
    "                             limit=tick_limit, start=start,\n",
    "                             end=end)\n",
    "        data.extend(res)\n",
    "        time.sleep(2)\n",
    "    return data"
   ]
  },
  {
   "cell_type": "code",
   "execution_count": 10,
   "metadata": {},
   "outputs": [],
   "source": [
    "# Set step size\n",
    "time_step = 60000000"
   ]
  },
  {
   "cell_type": "code",
   "execution_count": 24,
   "metadata": {},
   "outputs": [],
   "source": [
    "# Define query parameters\n",
    "pair = 'btcusd' # Currency pair of interest\n",
    "bin_size = '6m' # This will return minute data\n",
    "limit = 1000    # We want the maximum of 1000 data points "
   ]
  },
  {
   "cell_type": "code",
   "execution_count": 27,
   "metadata": {},
   "outputs": [],
   "source": [
    "# Define the start date\n",
    "t_start = datetime.datetime(2009, 1, 1, 0, 0)\n",
    "t_start = time.mktime(t_start.timetuple()) * 1000"
   ]
  },
  {
   "cell_type": "code",
   "execution_count": 28,
   "metadata": {},
   "outputs": [],
   "source": [
    "# Define the end date\n",
    "t_stop = datetime.datetime(2019, 5, 1, 0, 0)\n",
    "t_stop = time.mktime(t_stop.timetuple()) * 1000"
   ]
  },
  {
   "cell_type": "code",
   "execution_count": 29,
   "metadata": {
    "scrolled": true
   },
   "outputs": [
    {
     "name": "stdout",
     "output_type": "stream",
     "text": [
      "No keys, only access to public API functions\n"
     ]
    },
    {
     "ename": "KeyboardInterrupt",
     "evalue": "",
     "output_type": "error",
     "traceback": [
      "\u001b[1;31m---------------------------------------------------------------------------\u001b[0m",
      "\u001b[1;31mKeyboardInterrupt\u001b[0m                         Traceback (most recent call last)",
      "\u001b[1;32m<ipython-input-29-d07acbd26ed7>\u001b[0m in \u001b[0;36m<module>\u001b[1;34m\u001b[0m\n\u001b[0;32m      1\u001b[0m pair_data = fetch_data(start=t_start, stop=t_stop, symbol=pair,\n\u001b[0;32m      2\u001b[0m                        \u001b[0minterval\u001b[0m\u001b[1;33m=\u001b[0m\u001b[0mbin_size\u001b[0m\u001b[1;33m,\u001b[0m \u001b[0mtick_limit\u001b[0m\u001b[1;33m=\u001b[0m\u001b[0mlimit\u001b[0m\u001b[1;33m,\u001b[0m\u001b[1;33m\u001b[0m\u001b[1;33m\u001b[0m\u001b[0m\n\u001b[1;32m----> 3\u001b[1;33m                        step=time_step)\n\u001b[0m",
      "\u001b[1;32m<ipython-input-9-5a78c2d76dd5>\u001b[0m in \u001b[0;36mfetch_data\u001b[1;34m(start, stop, symbol, interval, tick_limit, step)\u001b[0m\n\u001b[0;32m     11\u001b[0m                              end=end)\n\u001b[0;32m     12\u001b[0m         \u001b[0mdata\u001b[0m\u001b[1;33m.\u001b[0m\u001b[0mextend\u001b[0m\u001b[1;33m(\u001b[0m\u001b[0mres\u001b[0m\u001b[1;33m)\u001b[0m\u001b[1;33m\u001b[0m\u001b[1;33m\u001b[0m\u001b[0m\n\u001b[1;32m---> 13\u001b[1;33m         \u001b[0mtime\u001b[0m\u001b[1;33m.\u001b[0m\u001b[0msleep\u001b[0m\u001b[1;33m(\u001b[0m\u001b[1;36m2\u001b[0m\u001b[1;33m)\u001b[0m\u001b[1;33m\u001b[0m\u001b[1;33m\u001b[0m\u001b[0m\n\u001b[0m\u001b[0;32m     14\u001b[0m     \u001b[1;32mreturn\u001b[0m \u001b[0mdata\u001b[0m\u001b[1;33m\u001b[0m\u001b[1;33m\u001b[0m\u001b[0m\n",
      "\u001b[1;31mKeyboardInterrupt\u001b[0m: "
     ]
    }
   ],
   "source": [
    "pair_data = fetch_data(start=t_start, stop=t_stop, symbol=pair,\n",
    "                       interval=bin_size, tick_limit=limit, \n",
    "                       step=time_step)"
   ]
  },
  {
   "cell_type": "raw",
   "metadata": {},
   "source": [
    "api_v1 = bitfinex.bitfinex_v1.api_v1()\n",
    "pairs = api_v1.symbols()\n",
    "pairs"
   ]
  },
  {
   "cell_type": "code",
   "execution_count": null,
   "metadata": {},
   "outputs": [],
   "source": [
    "len(pair_data)"
   ]
  },
  {
   "cell_type": "markdown",
   "metadata": {},
   "source": [
    "# Yahoo Finance - Stock Prices"
   ]
  },
  {
   "cell_type": "code",
   "execution_count": 1,
   "metadata": {},
   "outputs": [],
   "source": [
    "from pandas_datareader import data\n",
    "import matplotlib.pyplot as plt\n",
    "import pandas as pd"
   ]
  },
  {
   "cell_type": "code",
   "execution_count": 56,
   "metadata": {},
   "outputs": [],
   "source": [
    "# Define the instruments to download. We would like to see Nasdaq, Nikkei, SP500, ETF: SPDR, iShares MSCI Japan,MSCI UK, Germany\n",
    "tickers = ['^IXIC', '^N225', '^GSPC', 'SPY', 'EWJ', 'EWU', 'EWG']"
   ]
  },
  {
   "cell_type": "code",
   "execution_count": 57,
   "metadata": {},
   "outputs": [],
   "source": [
    "# We would like all available data from 01/01/1970 until 05/01/2019.\n",
    "start_date = '1970-01-02'\n",
    "end_date = '2019-05-01'"
   ]
  },
  {
   "cell_type": "code",
   "execution_count": 58,
   "metadata": {},
   "outputs": [],
   "source": [
    "# User pandas_reader.data.DataReader to load the desired data. As simple as that.\n",
    "panel_data = data.DataReader(tickers, 'yahoo', start_date, end_date)"
   ]
  },
  {
   "cell_type": "code",
   "execution_count": 59,
   "metadata": {
    "scrolled": true
   },
   "outputs": [
    {
     "data": {
      "text/html": [
       "<div>\n",
       "<style scoped>\n",
       "    .dataframe tbody tr th:only-of-type {\n",
       "        vertical-align: middle;\n",
       "    }\n",
       "\n",
       "    .dataframe tbody tr th {\n",
       "        vertical-align: top;\n",
       "    }\n",
       "\n",
       "    .dataframe thead tr th {\n",
       "        text-align: left;\n",
       "    }\n",
       "\n",
       "    .dataframe thead tr:last-of-type th {\n",
       "        text-align: right;\n",
       "    }\n",
       "</style>\n",
       "<table border=\"1\" class=\"dataframe\">\n",
       "  <thead>\n",
       "    <tr>\n",
       "      <th>Attributes</th>\n",
       "      <th colspan=\"6\" halign=\"left\">High</th>\n",
       "      <th colspan=\"4\" halign=\"left\">Low</th>\n",
       "      <th>...</th>\n",
       "      <th colspan=\"4\" halign=\"left\">Volume</th>\n",
       "      <th colspan=\"6\" halign=\"left\">Adj Close</th>\n",
       "    </tr>\n",
       "    <tr>\n",
       "      <th>Symbols</th>\n",
       "      <th>EWJ</th>\n",
       "      <th>EWU</th>\n",
       "      <th>SPY</th>\n",
       "      <th>^GSPC</th>\n",
       "      <th>^IXIC</th>\n",
       "      <th>^N225</th>\n",
       "      <th>EWJ</th>\n",
       "      <th>EWU</th>\n",
       "      <th>SPY</th>\n",
       "      <th>^GSPC</th>\n",
       "      <th>...</th>\n",
       "      <th>SPY</th>\n",
       "      <th>^GSPC</th>\n",
       "      <th>^IXIC</th>\n",
       "      <th>^N225</th>\n",
       "      <th>EWJ</th>\n",
       "      <th>EWU</th>\n",
       "      <th>SPY</th>\n",
       "      <th>^GSPC</th>\n",
       "      <th>^IXIC</th>\n",
       "      <th>^N225</th>\n",
       "    </tr>\n",
       "    <tr>\n",
       "      <th>Date</th>\n",
       "      <th></th>\n",
       "      <th></th>\n",
       "      <th></th>\n",
       "      <th></th>\n",
       "      <th></th>\n",
       "      <th></th>\n",
       "      <th></th>\n",
       "      <th></th>\n",
       "      <th></th>\n",
       "      <th></th>\n",
       "      <th></th>\n",
       "      <th></th>\n",
       "      <th></th>\n",
       "      <th></th>\n",
       "      <th></th>\n",
       "      <th></th>\n",
       "      <th></th>\n",
       "      <th></th>\n",
       "      <th></th>\n",
       "      <th></th>\n",
       "      <th></th>\n",
       "    </tr>\n",
       "  </thead>\n",
       "  <tbody>\n",
       "    <tr>\n",
       "      <th>1970-01-02</th>\n",
       "      <td>NaN</td>\n",
       "      <td>NaN</td>\n",
       "      <td>NaN</td>\n",
       "      <td>93.540001</td>\n",
       "      <td>NaN</td>\n",
       "      <td>NaN</td>\n",
       "      <td>NaN</td>\n",
       "      <td>NaN</td>\n",
       "      <td>NaN</td>\n",
       "      <td>91.790001</td>\n",
       "      <td>...</td>\n",
       "      <td>NaN</td>\n",
       "      <td>8050000.0</td>\n",
       "      <td>NaN</td>\n",
       "      <td>NaN</td>\n",
       "      <td>NaN</td>\n",
       "      <td>NaN</td>\n",
       "      <td>NaN</td>\n",
       "      <td>93.000000</td>\n",
       "      <td>NaN</td>\n",
       "      <td>NaN</td>\n",
       "    </tr>\n",
       "    <tr>\n",
       "      <th>1970-01-05</th>\n",
       "      <td>NaN</td>\n",
       "      <td>NaN</td>\n",
       "      <td>NaN</td>\n",
       "      <td>94.250000</td>\n",
       "      <td>NaN</td>\n",
       "      <td>2402.850098</td>\n",
       "      <td>NaN</td>\n",
       "      <td>NaN</td>\n",
       "      <td>NaN</td>\n",
       "      <td>92.529999</td>\n",
       "      <td>...</td>\n",
       "      <td>NaN</td>\n",
       "      <td>11490000.0</td>\n",
       "      <td>NaN</td>\n",
       "      <td>0.0</td>\n",
       "      <td>NaN</td>\n",
       "      <td>NaN</td>\n",
       "      <td>NaN</td>\n",
       "      <td>93.459999</td>\n",
       "      <td>NaN</td>\n",
       "      <td>2402.850098</td>\n",
       "    </tr>\n",
       "    <tr>\n",
       "      <th>1970-01-06</th>\n",
       "      <td>NaN</td>\n",
       "      <td>NaN</td>\n",
       "      <td>NaN</td>\n",
       "      <td>93.809998</td>\n",
       "      <td>NaN</td>\n",
       "      <td>2406.219971</td>\n",
       "      <td>NaN</td>\n",
       "      <td>NaN</td>\n",
       "      <td>NaN</td>\n",
       "      <td>92.129997</td>\n",
       "      <td>...</td>\n",
       "      <td>NaN</td>\n",
       "      <td>11460000.0</td>\n",
       "      <td>NaN</td>\n",
       "      <td>0.0</td>\n",
       "      <td>NaN</td>\n",
       "      <td>NaN</td>\n",
       "      <td>NaN</td>\n",
       "      <td>92.820000</td>\n",
       "      <td>NaN</td>\n",
       "      <td>2406.219971</td>\n",
       "    </tr>\n",
       "    <tr>\n",
       "      <th>1970-01-07</th>\n",
       "      <td>NaN</td>\n",
       "      <td>NaN</td>\n",
       "      <td>NaN</td>\n",
       "      <td>93.379997</td>\n",
       "      <td>NaN</td>\n",
       "      <td>2394.959961</td>\n",
       "      <td>NaN</td>\n",
       "      <td>NaN</td>\n",
       "      <td>NaN</td>\n",
       "      <td>91.930000</td>\n",
       "      <td>...</td>\n",
       "      <td>NaN</td>\n",
       "      <td>10010000.0</td>\n",
       "      <td>NaN</td>\n",
       "      <td>0.0</td>\n",
       "      <td>NaN</td>\n",
       "      <td>NaN</td>\n",
       "      <td>NaN</td>\n",
       "      <td>92.629997</td>\n",
       "      <td>NaN</td>\n",
       "      <td>2394.959961</td>\n",
       "    </tr>\n",
       "    <tr>\n",
       "      <th>1970-01-08</th>\n",
       "      <td>NaN</td>\n",
       "      <td>NaN</td>\n",
       "      <td>NaN</td>\n",
       "      <td>93.470001</td>\n",
       "      <td>NaN</td>\n",
       "      <td>2283.679932</td>\n",
       "      <td>NaN</td>\n",
       "      <td>NaN</td>\n",
       "      <td>NaN</td>\n",
       "      <td>91.989998</td>\n",
       "      <td>...</td>\n",
       "      <td>NaN</td>\n",
       "      <td>10670000.0</td>\n",
       "      <td>NaN</td>\n",
       "      <td>0.0</td>\n",
       "      <td>NaN</td>\n",
       "      <td>NaN</td>\n",
       "      <td>NaN</td>\n",
       "      <td>92.680000</td>\n",
       "      <td>NaN</td>\n",
       "      <td>2283.679932</td>\n",
       "    </tr>\n",
       "  </tbody>\n",
       "</table>\n",
       "<p>5 rows × 36 columns</p>\n",
       "</div>"
      ],
      "text/plain": [
       "Attributes High                                       Low                     \\\n",
       "Symbols     EWJ EWU SPY      ^GSPC ^IXIC        ^N225 EWJ EWU SPY      ^GSPC   \n",
       "Date                                                                           \n",
       "1970-01-02  NaN NaN NaN  93.540001   NaN          NaN NaN NaN NaN  91.790001   \n",
       "1970-01-05  NaN NaN NaN  94.250000   NaN  2402.850098 NaN NaN NaN  92.529999   \n",
       "1970-01-06  NaN NaN NaN  93.809998   NaN  2406.219971 NaN NaN NaN  92.129997   \n",
       "1970-01-07  NaN NaN NaN  93.379997   NaN  2394.959961 NaN NaN NaN  91.930000   \n",
       "1970-01-08  NaN NaN NaN  93.470001   NaN  2283.679932 NaN NaN NaN  91.989998   \n",
       "\n",
       "Attributes     ...      Volume                         Adj Close          \\\n",
       "Symbols        ...         SPY       ^GSPC ^IXIC ^N225       EWJ EWU SPY   \n",
       "Date           ...                                                         \n",
       "1970-01-02     ...         NaN   8050000.0   NaN   NaN       NaN NaN NaN   \n",
       "1970-01-05     ...         NaN  11490000.0   NaN   0.0       NaN NaN NaN   \n",
       "1970-01-06     ...         NaN  11460000.0   NaN   0.0       NaN NaN NaN   \n",
       "1970-01-07     ...         NaN  10010000.0   NaN   0.0       NaN NaN NaN   \n",
       "1970-01-08     ...         NaN  10670000.0   NaN   0.0       NaN NaN NaN   \n",
       "\n",
       "Attributes                                \n",
       "Symbols         ^GSPC ^IXIC        ^N225  \n",
       "Date                                      \n",
       "1970-01-02  93.000000   NaN          NaN  \n",
       "1970-01-05  93.459999   NaN  2402.850098  \n",
       "1970-01-06  92.820000   NaN  2406.219971  \n",
       "1970-01-07  92.629997   NaN  2394.959961  \n",
       "1970-01-08  92.680000   NaN  2283.679932  \n",
       "\n",
       "[5 rows x 36 columns]"
      ]
     },
     "execution_count": 59,
     "metadata": {},
     "output_type": "execute_result"
    }
   ],
   "source": [
    "panel_data.head()"
   ]
  },
  {
   "cell_type": "code",
   "execution_count": 60,
   "metadata": {},
   "outputs": [],
   "source": [
    "# Getting just the adjusted closing prices. This will return a Pandas DataFrame\n",
    "# The index in this DataFrame is the major index of the panel_data.\n",
    "close = panel_data['Close']"
   ]
  },
  {
   "cell_type": "code",
   "execution_count": 61,
   "metadata": {},
   "outputs": [],
   "source": [
    "# Getting all weekdays between 01/01/2000 and 12/31/2016\n",
    "all_weekdays = pd.date_range(start=start_date, end=end_date, freq='B')\n",
    "\n",
    "# How do we align the existing prices in adj_close with our new set of dates?\n",
    "# All we need to do is reindex close using all_weekdays as the new index\n",
    "close = close.reindex(all_weekdays)\n"
   ]
  },
  {
   "cell_type": "raw",
   "metadata": {},
   "source": [
    "# Reindexing will insert missing values (NaN) for the dates that were not present\n",
    "# in the original set. To cope with this, we can fill the missing by replacing them\n",
    "# with the latest available price for each instrument.\n",
    "close = close.fillna(method='ffill')"
   ]
  },
  {
   "cell_type": "code",
   "execution_count": 62,
   "metadata": {
    "scrolled": false
   },
   "outputs": [
    {
     "data": {
      "text/html": [
       "<div>\n",
       "<style scoped>\n",
       "    .dataframe tbody tr th:only-of-type {\n",
       "        vertical-align: middle;\n",
       "    }\n",
       "\n",
       "    .dataframe tbody tr th {\n",
       "        vertical-align: top;\n",
       "    }\n",
       "\n",
       "    .dataframe thead th {\n",
       "        text-align: right;\n",
       "    }\n",
       "</style>\n",
       "<table border=\"1\" class=\"dataframe\">\n",
       "  <thead>\n",
       "    <tr style=\"text-align: right;\">\n",
       "      <th>Symbols</th>\n",
       "      <th>EWJ</th>\n",
       "      <th>EWU</th>\n",
       "      <th>SPY</th>\n",
       "      <th>^GSPC</th>\n",
       "      <th>^IXIC</th>\n",
       "      <th>^N225</th>\n",
       "    </tr>\n",
       "  </thead>\n",
       "  <tbody>\n",
       "    <tr>\n",
       "      <th>2019-04-25</th>\n",
       "      <td>54.900002</td>\n",
       "      <td>33.470001</td>\n",
       "      <td>292.049988</td>\n",
       "      <td>2926.169922</td>\n",
       "      <td>8118.680176</td>\n",
       "      <td>22307.580078</td>\n",
       "    </tr>\n",
       "    <tr>\n",
       "      <th>2019-04-26</th>\n",
       "      <td>55.400002</td>\n",
       "      <td>33.520000</td>\n",
       "      <td>293.410004</td>\n",
       "      <td>2939.879883</td>\n",
       "      <td>8146.399902</td>\n",
       "      <td>22258.730469</td>\n",
       "    </tr>\n",
       "    <tr>\n",
       "      <th>2019-04-29</th>\n",
       "      <td>55.619999</td>\n",
       "      <td>33.590000</td>\n",
       "      <td>293.869995</td>\n",
       "      <td>2943.030029</td>\n",
       "      <td>8161.850098</td>\n",
       "      <td>NaN</td>\n",
       "    </tr>\n",
       "    <tr>\n",
       "      <th>2019-04-30</th>\n",
       "      <td>55.419998</td>\n",
       "      <td>33.759998</td>\n",
       "      <td>294.019989</td>\n",
       "      <td>2945.830078</td>\n",
       "      <td>8095.390137</td>\n",
       "      <td>NaN</td>\n",
       "    </tr>\n",
       "    <tr>\n",
       "      <th>2019-05-01</th>\n",
       "      <td>55.230000</td>\n",
       "      <td>33.380001</td>\n",
       "      <td>291.809998</td>\n",
       "      <td>2923.729980</td>\n",
       "      <td>8049.640137</td>\n",
       "      <td>NaN</td>\n",
       "    </tr>\n",
       "  </tbody>\n",
       "</table>\n",
       "</div>"
      ],
      "text/plain": [
       "Symbols           EWJ        EWU         SPY        ^GSPC        ^IXIC  \\\n",
       "2019-04-25  54.900002  33.470001  292.049988  2926.169922  8118.680176   \n",
       "2019-04-26  55.400002  33.520000  293.410004  2939.879883  8146.399902   \n",
       "2019-04-29  55.619999  33.590000  293.869995  2943.030029  8161.850098   \n",
       "2019-04-30  55.419998  33.759998  294.019989  2945.830078  8095.390137   \n",
       "2019-05-01  55.230000  33.380001  291.809998  2923.729980  8049.640137   \n",
       "\n",
       "Symbols            ^N225  \n",
       "2019-04-25  22307.580078  \n",
       "2019-04-26  22258.730469  \n",
       "2019-04-29           NaN  \n",
       "2019-04-30           NaN  \n",
       "2019-05-01           NaN  "
      ]
     },
     "execution_count": 62,
     "metadata": {},
     "output_type": "execute_result"
    }
   ],
   "source": [
    "close.tail()"
   ]
  },
  {
   "cell_type": "code",
   "execution_count": 65,
   "metadata": {
    "scrolled": true
   },
   "outputs": [
    {
     "data": {
      "text/plain": [
       "[<matplotlib.lines.Line2D at 0x2455ebfcdd8>]"
      ]
     },
     "execution_count": 65,
     "metadata": {},
     "output_type": "execute_result"
    },
    {
     "data": {
      "image/png": "[encoded data removed]",
      "text/plain": [
       "<Figure size 432x288 with 1 Axes>"
      ]
     },
     "metadata": {
      "needs_background": "light"
     },
     "output_type": "display_data"
    }
   ],
   "source": [
    "plt.plot(close['^N225'].dropna())"
   ]
  },
  {
   "cell_type": "markdown",
   "metadata": {},
   "source": [
    "# USD\n",
    "FX from FRED"
   ]
  },
  {
   "cell_type": "code",
   "execution_count": 30,
   "metadata": {},
   "outputs": [],
   "source": [
    "# Define the instruments to download. We would like to see JPYUSD,CHYUSD, CADUSD, USDGBP, SKoreanUSD, MXNUSD,BRZUSD,USDAUS\n",
    "tickers = ['DEXJPUS', 'DEXCHUS', 'DEXCAUS', 'DEXUSUK', 'DEXKOUS', 'DEXMXUS', 'DEXBZUS', 'DEXUSAL']"
   ]
  },
  {
   "cell_type": "code",
   "execution_count": 31,
   "metadata": {},
   "outputs": [],
   "source": [
    "# We would like all available data from 01/01/1970 until 05/01/2019.\n",
    "start_date = '1970-01-02'\n",
    "end_date = '2019-05-01'"
   ]
  },
  {
   "cell_type": "code",
   "execution_count": 33,
   "metadata": {},
   "outputs": [],
   "source": [
    "# User pandas_reader.data.DataReader to load the desired data. As simple as that.\n",
    "panel_data = data.DataReader(tickers, 'fred', start_date, end_date)"
   ]
  },
  {
   "cell_type": "code",
   "execution_count": 34,
   "metadata": {
    "scrolled": false
   },
   "outputs": [
    {
     "data": {
      "text/html": [
       "<div>\n",
       "<style scoped>\n",
       "    .dataframe tbody tr th:only-of-type {\n",
       "        vertical-align: middle;\n",
       "    }\n",
       "\n",
       "    .dataframe tbody tr th {\n",
       "        vertical-align: top;\n",
       "    }\n",
       "\n",
       "    .dataframe thead th {\n",
       "        text-align: right;\n",
       "    }\n",
       "</style>\n",
       "<table border=\"1\" class=\"dataframe\">\n",
       "  <thead>\n",
       "    <tr style=\"text-align: right;\">\n",
       "      <th></th>\n",
       "      <th>DEXJPUS</th>\n",
       "      <th>DEXCHUS</th>\n",
       "      <th>DEXCAUS</th>\n",
       "      <th>DEXUSUK</th>\n",
       "      <th>DEXKOUS</th>\n",
       "      <th>DEXMXUS</th>\n",
       "      <th>DEXBZUS</th>\n",
       "      <th>DEXUSAL</th>\n",
       "    </tr>\n",
       "    <tr>\n",
       "      <th>DATE</th>\n",
       "      <th></th>\n",
       "      <th></th>\n",
       "      <th></th>\n",
       "      <th></th>\n",
       "      <th></th>\n",
       "      <th></th>\n",
       "      <th></th>\n",
       "      <th></th>\n",
       "    </tr>\n",
       "  </thead>\n",
       "  <tbody>\n",
       "    <tr>\n",
       "      <th>1971-01-04</th>\n",
       "      <td>357.73</td>\n",
       "      <td>NaN</td>\n",
       "      <td>1.0109</td>\n",
       "      <td>2.3938</td>\n",
       "      <td>NaN</td>\n",
       "      <td>NaN</td>\n",
       "      <td>NaN</td>\n",
       "      <td>1.1127</td>\n",
       "    </tr>\n",
       "    <tr>\n",
       "      <th>1971-01-05</th>\n",
       "      <td>357.81</td>\n",
       "      <td>NaN</td>\n",
       "      <td>1.0102</td>\n",
       "      <td>2.3949</td>\n",
       "      <td>NaN</td>\n",
       "      <td>NaN</td>\n",
       "      <td>NaN</td>\n",
       "      <td>1.1132</td>\n",
       "    </tr>\n",
       "    <tr>\n",
       "      <th>1971-01-06</th>\n",
       "      <td>357.86</td>\n",
       "      <td>NaN</td>\n",
       "      <td>1.0106</td>\n",
       "      <td>2.3967</td>\n",
       "      <td>NaN</td>\n",
       "      <td>NaN</td>\n",
       "      <td>NaN</td>\n",
       "      <td>1.1140</td>\n",
       "    </tr>\n",
       "    <tr>\n",
       "      <th>1971-01-07</th>\n",
       "      <td>357.87</td>\n",
       "      <td>NaN</td>\n",
       "      <td>1.0148</td>\n",
       "      <td>2.3963</td>\n",
       "      <td>NaN</td>\n",
       "      <td>NaN</td>\n",
       "      <td>NaN</td>\n",
       "      <td>1.1138</td>\n",
       "    </tr>\n",
       "    <tr>\n",
       "      <th>1971-01-08</th>\n",
       "      <td>357.82</td>\n",
       "      <td>NaN</td>\n",
       "      <td>1.0154</td>\n",
       "      <td>2.3972</td>\n",
       "      <td>NaN</td>\n",
       "      <td>NaN</td>\n",
       "      <td>NaN</td>\n",
       "      <td>1.1124</td>\n",
       "    </tr>\n",
       "  </tbody>\n",
       "</table>\n",
       "</div>"
      ],
      "text/plain": [
       "            DEXJPUS  DEXCHUS  DEXCAUS  DEXUSUK  DEXKOUS  DEXMXUS  DEXBZUS  \\\n",
       "DATE                                                                        \n",
       "1971-01-04   357.73      NaN   1.0109   2.3938      NaN      NaN      NaN   \n",
       "1971-01-05   357.81      NaN   1.0102   2.3949      NaN      NaN      NaN   \n",
       "1971-01-06   357.86      NaN   1.0106   2.3967      NaN      NaN      NaN   \n",
       "1971-01-07   357.87      NaN   1.0148   2.3963      NaN      NaN      NaN   \n",
       "1971-01-08   357.82      NaN   1.0154   2.3972      NaN      NaN      NaN   \n",
       "\n",
       "            DEXUSAL  \n",
       "DATE                 \n",
       "1971-01-04   1.1127  \n",
       "1971-01-05   1.1132  \n",
       "1971-01-06   1.1140  \n",
       "1971-01-07   1.1138  \n",
       "1971-01-08   1.1124  "
      ]
     },
     "execution_count": 34,
     "metadata": {},
     "output_type": "execute_result"
    }
   ],
   "source": [
    "panel_data.head()"
   ]
  },
  {
   "cell_type": "code",
   "execution_count": 39,
   "metadata": {},
   "outputs": [
    {
     "data": {
      "text/plain": [
       "<matplotlib.axes._subplots.AxesSubplot at 0x2455e71dc18>"
      ]
     },
     "execution_count": 39,
     "metadata": {},
     "output_type": "execute_result"
    },
    {
     "data": {
      "image/png": "[encoded data removed]",
      "text/plain": [
       "<Figure size 432x288 with 1 Axes>"
      ]
     },
     "metadata": {
      "needs_background": "light"
     },
     "output_type": "display_data"
    }
   ],
   "source": [
    "panel_data.DEXMXUS.plot()"
   ]
  },
  {
   "cell_type": "markdown",
   "metadata": {},
   "source": [
    "# Quandl for General FX data\n"
   ]
  },
  {
   "cell_type": "markdown",
   "metadata": {},
   "source": [
    "For minute-wise FX: https://github.com/philipperemy/FX-1-Minute-Data"
   ]
  }
 ],
 "metadata": {
  "kernelspec": {
   "display_name": "Python 3",
   "language": "python",
   "name": "python3"
  },
  "language_info": {
   "codemirror_mode": {
    "name": "ipython",
    "version": 3
   },
   "file_extension": ".py",
   "mimetype": "text/x-python",
   "name": "python",
   "nbconvert_exporter": "python",
   "pygments_lexer": "ipython3",
   "version": "3.7.1"
  }
 },
 "nbformat": 4,
 "nbformat_minor": 2
}
